{
 "cells": [
  {
   "cell_type": "markdown",
   "metadata": {},
   "source": [
    "# Outline\n",
    "1. [Frame the probelm and look at the big picture ](#1)\n",
    "2. [Get the Data](#2)\n",
    "3. [Explore the data to gain insights](#3)\n",
    "4. [Prepare the data to better expose the underlying patterns to Machine Learning algorithms](#4)\n",
    "5. [Explore many different models and short-list the best ones](#5)\n",
    "6. [Fine-tune your models and combine them into a great solution](#6)\n",
    "7. [Present your solution](#7)\n",
    "8. [Launch, monitor, and maintain your system](#8)\n"
   ]
  },
  {
   "cell_type": "markdown",
   "metadata": {},
   "source": [
    "<a name=\"1\"></a>\n",
    "# 1. Frame the problem and look at the big picture"
   ]
  },
  {
   "cell_type": "code",
   "execution_count": 45,
   "metadata": {},
   "outputs": [],
   "source": [
    "# To train Neural Networks.\n",
    "import tensorflow as tf\n",
    "from tensorflow import keras\n",
    "\n",
    "# To Split the data.\n",
    "from sklearn.model_selection import StratifiedShuffleSplit\n",
    "\n",
    "# To compute data.\n",
    "import numpy as np\n",
    "\n",
    "# To plot data.\n",
    "import matplotlib.pyplot as plt"
   ]
  },
  {
   "cell_type": "markdown",
   "metadata": {},
   "source": [
    "<a name='2'></a>\n",
    "# 2. Get the Data"
   ]
  },
  {
   "cell_type": "code",
   "execution_count": 32,
   "metadata": {},
   "outputs": [],
   "source": [
    "fashion_mnist = keras.datasets.fashion_mnist"
   ]
  },
  {
   "cell_type": "markdown",
   "metadata": {},
   "source": [
    "<a name='3'></a>\n",
    "# 3. Explore the Data to get insights"
   ]
  },
  {
   "cell_type": "markdown",
   "metadata": {},
   "source": [
    "<a name='4'></a>\n",
    "# 4. Prepare the Data"
   ]
  },
  {
   "cell_type": "code",
   "execution_count": null,
   "metadata": {},
   "outputs": [],
   "source": [
    "# Split the dataset into two sets.\n",
    "(X, y), (X_test, y_test) = fashion_mnist.load_data()"
   ]
  },
  {
   "cell_type": "code",
   "execution_count": 34,
   "metadata": {},
   "outputs": [],
   "source": [
    "\n",
    "# Split the dataset (X, y) into two sets: A training and a validation set (X_val, y_val).\n",
    "split = StratifiedShuffleSplit(n_splits=1, test_size=10000, random_state=51)\n",
    "for train_index, test_index in split.split(X, y):\n",
    "    X_train, X_val = X[train_index], X[test_index]\n",
    "    y_train, y_val = y[train_index], y[test_index]"
   ]
  },
  {
   "cell_type": "code",
   "execution_count": 35,
   "metadata": {},
   "outputs": [
    {
     "name": "stdout",
     "output_type": "stream",
     "text": [
      "Shape of the traning features (X_train):  (50000, 28, 28)\n",
      "Shape of the training targets (y_train):  (50000,) \n",
      "\n",
      "Shape of the validation features (X_val):  (10000, 28, 28)\n",
      "Shape of the validation targets (y_val):  (10000,) \n",
      "\n",
      "Shape of the test featrues (X_test):  (10000, 28, 28)\n",
      "Shape of the target features (y_test):  (10000,)\n"
     ]
    }
   ],
   "source": [
    "print('Shape of the traning features (X_train): ', X_train.shape)\n",
    "print('Shape of the training targets (y_train): ', y_train.shape, '\\n')\n",
    "\n",
    "print('Shape of the validation features (X_val): ', X_val.shape)\n",
    "print('Shape of the validation targets (y_val): ', y_val.shape, '\\n')\n",
    "\n",
    "print('Shape of the test featrues (X_test): ', X_test.shape)\n",
    "print('Shape of the target features (y_test): ', y_test.shape)"
   ]
  },
  {
   "cell_type": "code",
   "execution_count": 36,
   "metadata": {},
   "outputs": [],
   "source": [
    "# Scale down the features of each dataset.\n",
    "X_train, X_val, X_test = X_train / 255.0, X_val / 255.0, X_test / 255.0"
   ]
  },
  {
   "cell_type": "code",
   "execution_count": 37,
   "metadata": {},
   "outputs": [],
   "source": [
    "class_names = [\"T-shirt/top\", \"Trouser\", \"Pullover\", \"Dress\", \"Coat\",\n",
    "\"Sandal\", \"Shirt\", \"Sneaker\", \"Bag\", \"Ankle boot\"]"
   ]
  },
  {
   "cell_type": "code",
   "execution_count": 41,
   "metadata": {},
   "outputs": [
    {
     "data": {
      "text/plain": [
       "5"
      ]
     },
     "execution_count": 41,
     "metadata": {},
     "output_type": "execute_result"
    }
   ],
   "source": [
    "y_train[0]"
   ]
  },
  {
   "cell_type": "code",
   "execution_count": 42,
   "metadata": {},
   "outputs": [
    {
     "data": {
      "text/plain": [
       "'Sandal'"
      ]
     },
     "execution_count": 42,
     "metadata": {},
     "output_type": "execute_result"
    }
   ],
   "source": [
    "class_names[y_train[0]]"
   ]
  },
  {
   "cell_type": "code",
   "execution_count": 46,
   "metadata": {},
   "outputs": [
    {
     "data": {
      "text/plain": [
       "<matplotlib.image.AxesImage at 0x7f8c81351240>"
      ]
     },
     "execution_count": 46,
     "metadata": {},
     "output_type": "execute_result"
    },
    {
     "data": {
      "image/png": "[encoded data removed]",
      "text/plain": [
       "<Figure size 480x480 with 1 Axes>"
      ]
     },
     "metadata": {},
     "output_type": "display_data"
    }
   ],
   "source": [
    "plt.matshow(X_train[0], cmap='gray')"
   ]
  },
  {
   "cell_type": "code",
   "execution_count": 48,
   "metadata": {},
   "outputs": [],
   "source": [
    "tf.random.set_seed(42)\n",
    "np.random.seed(42)\n",
    "\n",
    "# Build a Neural Network Model.\n",
    "from tensorflow.keras.layers import Flatten, Dense\n",
    "model = keras.models.Sequential(\n",
    "    [\n",
    "        Flatten(input_shape=[28, 28]),\n",
    "        Dense(300, activation=\"relu\"),\n",
    "        Dense(100, activation=\"relu\"),\n",
    "        Dense(10, activation=\"softmax\")\n",
    "    ]\n",
    ")"
   ]
  },
  {
   "cell_type": "code",
   "execution_count": 49,
   "metadata": {},
   "outputs": [],
   "source": [
    "# compile the Model.\n",
    "model.compile(loss=\"sparse_categorical_crossentropy\",\n",
    "              optimizer=keras.optimizers.SGD(learning_rate=1e-3),\n",
    "              metrics=[\"accuracy\"])"
   ]
  },
  {
   "cell_type": "code",
   "execution_count": 50,
   "metadata": {},
   "outputs": [
    {
     "name": "stdout",
     "output_type": "stream",
     "text": [
      "Epoch 1/10\n",
      "1563/1563 [==============================] - 15s 9ms/step - loss: 1.4207 - accuracy: 0.5755 - val_loss: 0.9841 - val_accuracy: 0.6916\n",
      "Epoch 2/10\n",
      "1563/1563 [==============================] - 12s 8ms/step - loss: 0.8709 - accuracy: 0.7190 - val_loss: 0.7716 - val_accuracy: 0.7516\n",
      "Epoch 3/10\n",
      "1563/1563 [==============================] - 14s 9ms/step - loss: 0.7344 - accuracy: 0.7600 - val_loss: 0.6811 - val_accuracy: 0.7812\n",
      "Epoch 4/10\n",
      "1563/1563 [==============================] - 12s 8ms/step - loss: 0.6642 - accuracy: 0.7821 - val_loss: 0.6276 - val_accuracy: 0.7964\n",
      "Epoch 5/10\n",
      "1563/1563 [==============================] - 12s 8ms/step - loss: 0.6184 - accuracy: 0.7972 - val_loss: 0.5891 - val_accuracy: 0.8102\n",
      "Epoch 6/10\n",
      "1563/1563 [==============================] - 13s 8ms/step - loss: 0.5854 - accuracy: 0.8082 - val_loss: 0.5628 - val_accuracy: 0.8204\n",
      "Epoch 7/10\n",
      "1563/1563 [==============================] - 11s 7ms/step - loss: 0.5602 - accuracy: 0.8159 - val_loss: 0.5384 - val_accuracy: 0.8306\n",
      "Epoch 8/10\n",
      "1563/1563 [==============================] - 13s 8ms/step - loss: 0.5403 - accuracy: 0.8207 - val_loss: 0.5205 - val_accuracy: 0.8336\n",
      "Epoch 9/10\n",
      "1563/1563 [==============================] - 12s 8ms/step - loss: 0.5241 - accuracy: 0.8254 - val_loss: 0.5058 - val_accuracy: 0.8368\n",
      "Epoch 10/10\n",
      "1563/1563 [==============================] - 12s 8ms/step - loss: 0.5105 - accuracy: 0.8298 - val_loss: 0.4943 - val_accuracy: 0.8398\n"
     ]
    }
   ],
   "source": [
    "# Train the Model.\n",
    "history = model.fit(X_train, y_train, epochs=10,\n",
    "                    validation_data=(X_valid, y_valid))"
   ]
  },
  {
   "cell_type": "code",
   "execution_count": 51,
   "metadata": {},
   "outputs": [
    {
     "name": "stdout",
     "output_type": "stream",
     "text": [
      "Model: \"sequential_1\"\n",
      "_________________________________________________________________\n",
      " Layer (type)                Output Shape              Param #   \n",
      "=================================================================\n",
      " flatten_1 (Flatten)         (None, 784)               0         \n",
      "                                                                 \n",
      " dense_3 (Dense)             (None, 300)               235500    \n",
      "                                                                 \n",
      " dense_4 (Dense)             (None, 100)               30100     \n",
      "                                                                 \n",
      " dense_5 (Dense)             (None, 10)                1010      \n",
      "                                                                 \n",
      "=================================================================\n",
      "Total params: 266610 (1.02 MB)\n",
      "Trainable params: 266610 (1.02 MB)\n",
      "Non-trainable params: 0 (0.00 Byte)\n",
      "_________________________________________________________________\n"
     ]
    }
   ],
   "source": [
    "model.summary()"
   ]
  },
  {
   "cell_type": "code",
   "execution_count": 52,
   "metadata": {},
   "outputs": [
    {
     "name": "stdout",
     "output_type": "stream",
     "text": [
      "5000/5000 [==============================] - 26s 5ms/step - loss: 0.5308 - accuracy: 0.8183\n"
     ]
    }
   ],
   "source": [
    "# Evaluate the model on the test set.\n",
    "eval = model.evaluate(X_test, y_test, batch_size=2)"
   ]
  },
  {
   "cell_type": "code",
   "execution_count": null,
   "metadata": {},
   "outputs": [],
   "source": []
  }
 ],
 "metadata": {
  "kernelspec": {
   "display_name": "tf",
   "language": "python",
   "name": "python3"
  },
  "language_info": {
   "codemirror_mode": {
    "name": "ipython",
    "version": 3
   },
   "file_extension": ".py",
   "mimetype": "text/x-python",
   "name": "python",
   "nbconvert_exporter": "python",
   "pygments_lexer": "ipython3",
   "version": "3.10.13"
  }
 },
 "nbformat": 4,
 "nbformat_minor": 2
}
