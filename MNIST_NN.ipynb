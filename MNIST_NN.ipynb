{
 "cells": [
  {
   "cell_type": "markdown",
   "metadata": {},
   "source": [
    "# Outline\n",
    "1. [Frame the probelm and look at the big picture ](#1)\n",
    "2. [Get the Data](#2)\n",
    "3. [Explore the data to gain insights](#3)\n",
    "4. [Prepare the data to better expose the underlying patterns to Machine Learning algorithms](#4)\n",
    "5. [Explore many different models and short-list the best ones](#5)\n",
    "6. [Fine-tune your models and combine them into a great solution](#6)\n",
    "7. [Present your solution](#7)\n",
    "8. [Launch, monitor, and maintain your system](#8)\n"
   ]
  },
  {
   "cell_type": "markdown",
   "metadata": {},
   "source": [
    "<a name='1'></a>\n",
    "# 1. Frame the Problem and look at the big picture\n",
    "Use a Neural Network model that can identify hand written digits, using the MNIST dataset.\n"
   ]
  },
  {
   "cell_type": "code",
   "execution_count": 20,
   "metadata": {
    "deletable": false,
    "editable": false
   },
   "outputs": [],
   "source": [
    "# Get the data.\n",
    "from sklearn.datasets import fetch_openml\n",
    "from sklearn.model_selection import train_test_split\n",
    "\n",
    "# To split the data.\n",
    "from sklearn.model_selection import StratifiedShuffleSplit\n",
    "\n",
    "# Import numpy to work with numpy arrays.\n",
    "import numpy as np\n",
    "\n",
    "# Import tensorflow & functions to create the Neural Network.\n",
    "import tensorflow as tf\n",
    "from tensorflow.keras.models import Sequential\n",
    "from tensorflow.keras.layers import Dense\n",
    "from tensorflow.keras.activations import linear, relu\n",
    "\n",
    "\n",
    "%matplotlib widget\n",
    "import matplotlib.pyplot as plt\n",
    "\n",
    "#\n",
    "import logging\n",
    "logging.getLogger(\"tensorflow\").setLevel(logging.ERROR)\n",
    "tf.autograph.set_verbosity(0)\n",
    "\n",
    "np.set_printoptions(precision=2)"
   ]
  },
  {
   "cell_type": "markdown",
   "metadata": {},
   "source": [
    "<a name='2'></a>\n",
    "# 2. Get the Data"
   ]
  },
  {
   "cell_type": "code",
   "execution_count": 2,
   "metadata": {},
   "outputs": [
    {
     "name": "stderr",
     "output_type": "stream",
     "text": [
      "/home/jp/anaconda3/envs/tf/lib/python3.10/site-packages/sklearn/datasets/_openml.py:1022: FutureWarning: The default value of `parser` will change from `'liac-arff'` to `'auto'` in 1.4. You can set `parser='auto'` to silence this warning. Therefore, an `ImportError` will be raised from 1.4 if the dataset is dense and pandas is not installed. Note that the pandas parser may return different data types. See the Notes Section in fetch_openml's API doc for details.\n",
      "  warn(\n"
     ]
    }
   ],
   "source": [
    "mnist = fetch_openml('mnist_784', version=1, as_frame=False)"
   ]
  },
  {
   "cell_type": "markdown",
   "metadata": {},
   "source": [
    "<a name='3'></a>\n",
    "# 3. Explore the data to gain insight"
   ]
  },
  {
   "cell_type": "code",
   "execution_count": 3,
   "metadata": {
    "deletable": false,
    "editable": false
   },
   "outputs": [
    {
     "data": {
      "text/plain": [
       "(70000, 784)"
      ]
     },
     "execution_count": 3,
     "metadata": {},
     "output_type": "execute_result"
    }
   ],
   "source": [
    "# Load the dataset\n",
    "X, y = mnist[\"data\"], mnist[\"target\"]\n",
    "X.shape"
   ]
  },
  {
   "cell_type": "code",
   "execution_count": 4,
   "metadata": {},
   "outputs": [
    {
     "data": {
      "text/plain": [
       "(70000,)"
      ]
     },
     "execution_count": 4,
     "metadata": {},
     "output_type": "execute_result"
    }
   ],
   "source": [
    "y.shape"
   ]
  },
  {
   "cell_type": "code",
   "execution_count": 5,
   "metadata": {},
   "outputs": [],
   "source": [
    "y = y.astype(np.uint8)"
   ]
  },
  {
   "cell_type": "code",
   "execution_count": 6,
   "metadata": {},
   "outputs": [
    {
     "data": {
      "image/png": "[encoded data removed]",
      "text/plain": [
       "<Figure size 640x480 with 1 Axes>"
      ]
     },
     "metadata": {},
     "output_type": "display_data"
    }
   ],
   "source": [
    "%matplotlib inline\n",
    "import matplotlib as mpl\n",
    "import matplotlib.pyplot as plt\n",
    "\n",
    "some_digit = X[0]\n",
    "some_digit_image = some_digit.reshape(28, 28)\n",
    "plt.imshow(some_digit_image, cmap=mpl.cm.binary)\n",
    "plt.axis(\"off\")\n",
    "\n",
    "plt.title(y[0])\n",
    "plt.show()"
   ]
  },
  {
   "cell_type": "code",
   "execution_count": 7,
   "metadata": {},
   "outputs": [
    {
     "data": {
      "text/plain": [
       "(array([0, 1, 2, 3, 4, 5, 6, 7, 8, 9], dtype=uint8),\n",
       " array([6903, 7877, 6990, 7141, 6824, 6313, 6876, 7293, 6825, 6958]))"
      ]
     },
     "execution_count": 7,
     "metadata": {},
     "output_type": "execute_result"
    }
   ],
   "source": [
    "# Chek how each class is represented in the dataset.\n",
    "unique_elements, counts_elements = np.unique(y, return_counts=True)\n",
    "unique_elements, counts_elements"
   ]
  },
  {
   "cell_type": "code",
   "execution_count": 8,
   "metadata": {},
   "outputs": [],
   "source": [
    "# import pandas as pd\n",
    "# b = pd.DataFrame(dict(\n",
    "#     unique = unique_elements,\n",
    "#     count = counts_elements\n",
    "#     )\n",
    "# )\n",
    "# b['unique'] = b['unique'].astype('str')"
   ]
  },
  {
   "cell_type": "code",
   "execution_count": 9,
   "metadata": {},
   "outputs": [],
   "source": [
    "# # Plot the distribution of the feature(y) classes.\n",
    "# b_sorted = b.sort_values('count')\n",
    "# plt.bar('unique', 'count', data=b_sorted)\n",
    "\n",
    "# plt.show()"
   ]
  },
  {
   "cell_type": "markdown",
   "metadata": {},
   "source": [
    "<a name='4'></a>\n",
    "# 4. Prepare the Data"
   ]
  },
  {
   "cell_type": "code",
   "execution_count": 10,
   "metadata": {},
   "outputs": [],
   "source": [
    "# Split the dataset (X, y) into two sets: A training and a temporary set (X_, y_).\n",
    "split = StratifiedShuffleSplit(n_splits=1, test_size=20000, random_state=51)\n",
    "for train_index, test_index in split.split(X, y):\n",
    "    X_train, X_ = X[train_index], X[test_index]\n",
    "    y_train, y_ = y[train_index], y[test_index]"
   ]
  },
  {
   "cell_type": "code",
   "execution_count": 11,
   "metadata": {},
   "outputs": [],
   "source": [
    "# Split the temp set (X_, y_) into two sets: A validation and a test set.\n",
    "split2 = StratifiedShuffleSplit(n_splits=1, test_size=10000, random_state=51)\n",
    "for train_index, test_index in split2.split(X_, y_):\n",
    "    X_val, X_test = X[train_index], X[test_index]\n",
    "    y_val, y_test = y[train_index], y[test_index]"
   ]
  },
  {
   "cell_type": "code",
   "execution_count": 12,
   "metadata": {},
   "outputs": [
    {
     "name": "stdout",
     "output_type": "stream",
     "text": [
      "Shape of the traning features (X_train):  (50000, 784)\n",
      "Shape of the training targets (y_train):  (50000,) \n",
      "\n",
      "Shape of the validation features (X_val):  (10000, 784)\n",
      "Shape of the validation targets (y_val):  (10000,) \n",
      "\n",
      "Shape of the test featrues (X_test):  (10000, 784)\n",
      "Shape of the target features (y_test):  (10000,)\n"
     ]
    }
   ],
   "source": [
    "print('Shape of the traning features (X_train): ', X_train.shape)\n",
    "print('Shape of the training targets (y_train): ', y_train.shape, '\\n')\n",
    "\n",
    "print('Shape of the validation features (X_val): ', X_val.shape)\n",
    "print('Shape of the validation targets (y_val): ', y_val.shape, '\\n')\n",
    "\n",
    "print('Shape of the test featrues (X_test): ', X_test.shape)\n",
    "print('Shape of the target features (y_test): ', y_test.shape)"
   ]
  },
  {
   "cell_type": "code",
   "execution_count": 13,
   "metadata": {},
   "outputs": [],
   "source": [
    "# Scale down the features of each dataset.\n",
    "X_train, X_val, X_test = X_train / 255.0, X_val / 255.0, X_test / 255.0"
   ]
  },
  {
   "cell_type": "markdown",
   "metadata": {},
   "source": [
    "<a name='5'></a>\n",
    "# 5. Train a Neural Network."
   ]
  },
  {
   "cell_type": "code",
   "execution_count": 14,
   "metadata": {},
   "outputs": [
    {
     "name": "stderr",
     "output_type": "stream",
     "text": [
      "2023-12-03 17:04:19.693666: I tensorflow/compiler/xla/stream_executor/cuda/cuda_gpu_executor.cc:880] could not open file to read NUMA node: /sys/bus/pci/devices/0000:59:00.0/numa_node\n",
      "Your kernel may have been built without NUMA support.\n",
      "2023-12-03 17:04:19.736825: I tensorflow/compiler/xla/stream_executor/cuda/cuda_gpu_executor.cc:880] could not open file to read NUMA node: /sys/bus/pci/devices/0000:59:00.0/numa_node\n",
      "Your kernel may have been built without NUMA support.\n",
      "2023-12-03 17:04:19.736873: I tensorflow/compiler/xla/stream_executor/cuda/cuda_gpu_executor.cc:880] could not open file to read NUMA node: /sys/bus/pci/devices/0000:59:00.0/numa_node\n",
      "Your kernel may have been built without NUMA support.\n",
      "2023-12-03 17:04:19.739471: I tensorflow/compiler/xla/stream_executor/cuda/cuda_gpu_executor.cc:880] could not open file to read NUMA node: /sys/bus/pci/devices/0000:59:00.0/numa_node\n",
      "Your kernel may have been built without NUMA support.\n",
      "2023-12-03 17:04:19.739521: I tensorflow/compiler/xla/stream_executor/cuda/cuda_gpu_executor.cc:880] could not open file to read NUMA node: /sys/bus/pci/devices/0000:59:00.0/numa_node\n",
      "Your kernel may have been built without NUMA support.\n",
      "2023-12-03 17:04:19.739537: I tensorflow/compiler/xla/stream_executor/cuda/cuda_gpu_executor.cc:880] could not open file to read NUMA node: /sys/bus/pci/devices/0000:59:00.0/numa_node\n",
      "Your kernel may have been built without NUMA support.\n",
      "2023-12-03 17:04:20.031478: I tensorflow/compiler/xla/stream_executor/cuda/cuda_gpu_executor.cc:880] could not open file to read NUMA node: /sys/bus/pci/devices/0000:59:00.0/numa_node\n",
      "Your kernel may have been built without NUMA support.\n",
      "2023-12-03 17:04:20.031673: I tensorflow/compiler/xla/stream_executor/cuda/cuda_gpu_executor.cc:880] could not open file to read NUMA node: /sys/bus/pci/devices/0000:59:00.0/numa_node\n",
      "Your kernel may have been built without NUMA support.\n",
      "2023-12-03 17:04:20.031684: I tensorflow/core/common_runtime/gpu/gpu_device.cc:1977] Could not identify NUMA node of platform GPU id 0, defaulting to 0.  Your kernel may not have been built with NUMA support.\n",
      "2023-12-03 17:04:20.031765: I tensorflow/compiler/xla/stream_executor/cuda/cuda_gpu_executor.cc:880] could not open file to read NUMA node: /sys/bus/pci/devices/0000:59:00.0/numa_node\n",
      "Your kernel may have been built without NUMA support.\n",
      "2023-12-03 17:04:20.031922: I tensorflow/core/common_runtime/gpu/gpu_device.cc:1886] Created device /job:localhost/replica:0/task:0/device:GPU:0 with 1359 MB memory:  -> device: 0, name: NVIDIA GeForce MX450, pci bus id: 0000:59:00.0, compute capability: 7.5\n"
     ]
    }
   ],
   "source": [
    "# Build a Neural Network Model.\n",
    "tf.random.set_seed(51)\n",
    "model = Sequential(\n",
    "    [                     \n",
    "        Dense(25, activation = 'relu', name=\"L1\"),\n",
    "        Dense(15, activation = 'relu', name=\"L2\"),\n",
    "        Dense(10, name=\"L3\")\n",
    "\n",
    "    ], name = \"model_0\" \n",
    ")"
   ]
  },
  {
   "cell_type": "code",
   "execution_count": 15,
   "metadata": {},
   "outputs": [],
   "source": [
    "# Compile the Model.\n",
    "model.compile(\n",
    "    loss=tf.keras.losses.SparseCategoricalCrossentropy(from_logits=True),\n",
    "    optimizer=tf.keras.optimizers.Adam(learning_rate=0.001),\n",
    "    metrics=[\"accuracy\"]\n",
    ")"
   ]
  },
  {
   "cell_type": "code",
   "execution_count": 16,
   "metadata": {
    "deletable": false
   },
   "outputs": [
    {
     "name": "stdout",
     "output_type": "stream",
     "text": [
      "Epoch 1/40\n"
     ]
    },
    {
     "name": "stderr",
     "output_type": "stream",
     "text": [
      "2023-12-03 17:04:21.504801: I tensorflow/tsl/platform/default/subprocess.cc:304] Start cannot spawn child process: No such file or directory\n",
      "2023-12-03 17:04:21.656609: I tensorflow/compiler/xla/service/service.cc:168] XLA service 0x7f4354058250 initialized for platform CUDA (this does not guarantee that XLA will be used). Devices:\n",
      "2023-12-03 17:04:21.656657: I tensorflow/compiler/xla/service/service.cc:176]   StreamExecutor device (0): NVIDIA GeForce MX450, Compute Capability 7.5\n",
      "2023-12-03 17:04:21.672238: I tensorflow/compiler/mlir/tensorflow/utils/dump_mlir_util.cc:269] disabling MLIR crash reproducer, set env var `MLIR_CRASH_REPRODUCER_DIRECTORY` to enable.\n",
      "2023-12-03 17:04:21.712401: I tensorflow/compiler/xla/stream_executor/cuda/cuda_dnn.cc:442] Loaded cuDNN version 8700\n",
      "2023-12-03 17:04:21.824465: I ./tensorflow/compiler/jit/device_compiler.h:186] Compiled cluster using XLA!  This line is logged at most once for the lifetime of the process.\n"
     ]
    },
    {
     "name": "stdout",
     "output_type": "stream",
     "text": [
      "1563/1563 [==============================] - 10s 6ms/step - loss: 0.4241 - accuracy: 0.8777 - val_loss: 0.2439 - val_accuracy: 0.9283\n",
      "Epoch 2/40\n",
      "1563/1563 [==============================] - 11s 7ms/step - loss: 0.2267 - accuracy: 0.9335 - val_loss: 0.1993 - val_accuracy: 0.9426\n",
      "Epoch 3/40\n",
      "1563/1563 [==============================] - 10s 7ms/step - loss: 0.1872 - accuracy: 0.9453 - val_loss: 0.1658 - val_accuracy: 0.9512\n",
      "Epoch 4/40\n",
      "1563/1563 [==============================] - 10s 7ms/step - loss: 0.1617 - accuracy: 0.9512 - val_loss: 0.1464 - val_accuracy: 0.9576\n",
      "Epoch 5/40\n",
      "1563/1563 [==============================] - 11s 7ms/step - loss: 0.1430 - accuracy: 0.9578 - val_loss: 0.1420 - val_accuracy: 0.9586\n",
      "Epoch 6/40\n",
      "1563/1563 [==============================] - 10s 7ms/step - loss: 0.1302 - accuracy: 0.9614 - val_loss: 0.1468 - val_accuracy: 0.9573\n",
      "Epoch 7/40\n",
      "1563/1563 [==============================] - 10s 7ms/step - loss: 0.1195 - accuracy: 0.9644 - val_loss: 0.1213 - val_accuracy: 0.9637\n",
      "Epoch 8/40\n",
      "1563/1563 [==============================] - 12s 8ms/step - loss: 0.1098 - accuracy: 0.9672 - val_loss: 0.1125 - val_accuracy: 0.9676\n",
      "Epoch 9/40\n",
      "1563/1563 [==============================] - 11s 7ms/step - loss: 0.1029 - accuracy: 0.9685 - val_loss: 0.1077 - val_accuracy: 0.9700\n",
      "Epoch 10/40\n",
      "1563/1563 [==============================] - 12s 8ms/step - loss: 0.0956 - accuracy: 0.9709 - val_loss: 0.1012 - val_accuracy: 0.9724\n",
      "Epoch 11/40\n",
      "1563/1563 [==============================] - 12s 8ms/step - loss: 0.0904 - accuracy: 0.9729 - val_loss: 0.1018 - val_accuracy: 0.9710\n",
      "Epoch 12/40\n",
      "1563/1563 [==============================] - 11s 7ms/step - loss: 0.0853 - accuracy: 0.9740 - val_loss: 0.0888 - val_accuracy: 0.9749\n",
      "Epoch 13/40\n",
      "1563/1563 [==============================] - 11s 7ms/step - loss: 0.0792 - accuracy: 0.9762 - val_loss: 0.0925 - val_accuracy: 0.9727\n",
      "Epoch 14/40\n",
      "1563/1563 [==============================] - 12s 8ms/step - loss: 0.0747 - accuracy: 0.9773 - val_loss: 0.0904 - val_accuracy: 0.9738\n",
      "Epoch 15/40\n",
      "1563/1563 [==============================] - 11s 7ms/step - loss: 0.0714 - accuracy: 0.9781 - val_loss: 0.0865 - val_accuracy: 0.9743\n",
      "Epoch 16/40\n",
      "1563/1563 [==============================] - 11s 7ms/step - loss: 0.0676 - accuracy: 0.9794 - val_loss: 0.0783 - val_accuracy: 0.9769\n",
      "Epoch 17/40\n",
      "1563/1563 [==============================] - 11s 7ms/step - loss: 0.0640 - accuracy: 0.9800 - val_loss: 0.0847 - val_accuracy: 0.9764\n",
      "Epoch 18/40\n",
      "1563/1563 [==============================] - 11s 7ms/step - loss: 0.0619 - accuracy: 0.9804 - val_loss: 0.0776 - val_accuracy: 0.9784\n",
      "Epoch 19/40\n",
      "1563/1563 [==============================] - 12s 8ms/step - loss: 0.0605 - accuracy: 0.9806 - val_loss: 0.0804 - val_accuracy: 0.9758\n",
      "Epoch 20/40\n",
      "1563/1563 [==============================] - 12s 7ms/step - loss: 0.0569 - accuracy: 0.9825 - val_loss: 0.0835 - val_accuracy: 0.9777\n",
      "Epoch 21/40\n",
      "1563/1563 [==============================] - 11s 7ms/step - loss: 0.0544 - accuracy: 0.9831 - val_loss: 0.0767 - val_accuracy: 0.9785\n",
      "Epoch 22/40\n",
      "1563/1563 [==============================] - 12s 8ms/step - loss: 0.0526 - accuracy: 0.9833 - val_loss: 0.0764 - val_accuracy: 0.9790\n",
      "Epoch 23/40\n",
      "1563/1563 [==============================] - 12s 7ms/step - loss: 0.0499 - accuracy: 0.9846 - val_loss: 0.0792 - val_accuracy: 0.9783\n",
      "Epoch 24/40\n",
      "1563/1563 [==============================] - 11s 7ms/step - loss: 0.0489 - accuracy: 0.9848 - val_loss: 0.0782 - val_accuracy: 0.9792\n",
      "Epoch 25/40\n",
      "1563/1563 [==============================] - 12s 7ms/step - loss: 0.0472 - accuracy: 0.9853 - val_loss: 0.0803 - val_accuracy: 0.9793\n",
      "Epoch 26/40\n",
      "1563/1563 [==============================] - 12s 8ms/step - loss: 0.0462 - accuracy: 0.9857 - val_loss: 0.0845 - val_accuracy: 0.9772\n",
      "Epoch 27/40\n",
      "1563/1563 [==============================] - 12s 8ms/step - loss: 0.0431 - accuracy: 0.9864 - val_loss: 0.0770 - val_accuracy: 0.9814\n",
      "Epoch 28/40\n",
      "1563/1563 [==============================] - 12s 7ms/step - loss: 0.0431 - accuracy: 0.9866 - val_loss: 0.0753 - val_accuracy: 0.9814\n",
      "Epoch 29/40\n",
      "1563/1563 [==============================] - 12s 8ms/step - loss: 0.0410 - accuracy: 0.9875 - val_loss: 0.0831 - val_accuracy: 0.9802\n",
      "Epoch 30/40\n",
      "1563/1563 [==============================] - 13s 8ms/step - loss: 0.0397 - accuracy: 0.9877 - val_loss: 0.0913 - val_accuracy: 0.9763\n",
      "Epoch 31/40\n",
      "1563/1563 [==============================] - 13s 8ms/step - loss: 0.0389 - accuracy: 0.9879 - val_loss: 0.0745 - val_accuracy: 0.9820\n",
      "Epoch 32/40\n",
      "1563/1563 [==============================] - 13s 9ms/step - loss: 0.0367 - accuracy: 0.9879 - val_loss: 0.0800 - val_accuracy: 0.9809\n",
      "Epoch 33/40\n",
      "1563/1563 [==============================] - 13s 8ms/step - loss: 0.0359 - accuracy: 0.9887 - val_loss: 0.0840 - val_accuracy: 0.9800\n",
      "Epoch 34/40\n",
      "1563/1563 [==============================] - 12s 8ms/step - loss: 0.0344 - accuracy: 0.9891 - val_loss: 0.0769 - val_accuracy: 0.9824\n",
      "Epoch 35/40\n",
      "1563/1563 [==============================] - 13s 9ms/step - loss: 0.0356 - accuracy: 0.9886 - val_loss: 0.0786 - val_accuracy: 0.9802\n",
      "Epoch 36/40\n",
      "1563/1563 [==============================] - 13s 8ms/step - loss: 0.0323 - accuracy: 0.9895 - val_loss: 0.0703 - val_accuracy: 0.9837\n",
      "Epoch 37/40\n",
      "1563/1563 [==============================] - 14s 9ms/step - loss: 0.0314 - accuracy: 0.9902 - val_loss: 0.0754 - val_accuracy: 0.9824\n",
      "Epoch 38/40\n",
      "1563/1563 [==============================] - 13s 8ms/step - loss: 0.0302 - accuracy: 0.9907 - val_loss: 0.0829 - val_accuracy: 0.9813\n",
      "Epoch 39/40\n",
      "1563/1563 [==============================] - 13s 8ms/step - loss: 0.0282 - accuracy: 0.9906 - val_loss: 0.1004 - val_accuracy: 0.9771\n",
      "Epoch 40/40\n",
      "1563/1563 [==============================] - 13s 8ms/step - loss: 0.0296 - accuracy: 0.9900 - val_loss: 0.0827 - val_accuracy: 0.9816\n"
     ]
    }
   ],
   "source": [
    "# Train the Model.\n",
    "history = model.fit(\n",
    "    X_train,y_train,\n",
    "    epochs=40,\n",
    "    validation_data=(X_val, y_val)\n",
    ")"
   ]
  },
  {
   "cell_type": "code",
   "execution_count": 17,
   "metadata": {
    "deletable": false,
    "editable": false
   },
   "outputs": [
    {
     "name": "stdout",
     "output_type": "stream",
     "text": [
      "Model: \"model_0\"\n",
      "_________________________________________________________________\n",
      " Layer (type)                Output Shape              Param #   \n",
      "=================================================================\n",
      " L1 (Dense)                  (None, 25)                19625     \n",
      "                                                                 \n",
      " L2 (Dense)                  (None, 15)                390       \n",
      "                                                                 \n",
      " L3 (Dense)                  (None, 10)                160       \n",
      "                                                                 \n",
      "=================================================================\n",
      "Total params: 20175 (78.81 KB)\n",
      "Trainable params: 20175 (78.81 KB)\n",
      "Non-trainable params: 0 (0.00 Byte)\n",
      "_________________________________________________________________\n"
     ]
    }
   ],
   "source": [
    "model.summary()"
   ]
  },
  {
   "cell_type": "code",
   "execution_count": 18,
   "metadata": {},
   "outputs": [
    {
     "data": {
      "image/png": "[encoded data removed]",
      "text/plain": [
       "<Figure size 800x500 with 1 Axes>"
      ]
     },
     "metadata": {},
     "output_type": "display_data"
    }
   ],
   "source": [
    "# Plot the metric values between the Training & Validation set.\n",
    "import pandas as pd\n",
    "pd.DataFrame(history.history).plot(figsize=(8, 5))\n",
    "plt.grid(True)\n",
    "plt.gca().set_ylim(0, 1)\n",
    "plt.show()"
   ]
  },
  {
   "cell_type": "code",
   "execution_count": 19,
   "metadata": {},
   "outputs": [
    {
     "name": "stdout",
     "output_type": "stream",
     "text": [
      "5000/5000 [==============================] - 28s 6ms/step - loss: 0.0832 - accuracy: 0.9814\n"
     ]
    }
   ],
   "source": [
    "# Evaluate the model on the test set.\n",
    "eval = model.evaluate(X_test, y_test, batch_size=2)"
   ]
  }
 ],
 "metadata": {
  "dl_toc_settings": {
   "rndtag": "89367"
  },
  "kernelspec": {
   "display_name": "Python 3 (ipykernel)",
   "language": "python",
   "name": "python3"
  },
  "language_info": {
   "codemirror_mode": {
    "name": "ipython",
    "version": 3
   },
   "file_extension": ".py",
   "mimetype": "text/x-python",
   "name": "python",
   "nbconvert_exporter": "python",
   "pygments_lexer": "ipython3",
   "version": "3.10.13"
  }
 },
 "nbformat": 4,
 "nbformat_minor": 4
}
