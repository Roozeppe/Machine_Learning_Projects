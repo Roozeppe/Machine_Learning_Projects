{
 "cells": [
  {
   "cell_type": "markdown",
   "metadata": {},
   "source": [
    "# Outline\n",
    "1. [Frame the probelm and look at the big picture ](#1)\n",
    "2. [Get the Data](#2)\n",
    "3. [Explore the data to gain insights](#3)\n",
    "4. [Prepare the data to better expose the underlying patterns to Machine Learning algorithms](#4)\n",
    "5. [Explore many different models and short-list the best ones](#5)\n",
    "6. [Fine-tune your models and combine them into a great solution](#6)\n",
    "7. [Present your solution](#7)\n",
    "8. [Launch, monitor, and maintain your system](#8)\n"
   ]
  },
  {
   "cell_type": "markdown",
   "metadata": {},
   "source": [
    "<a name='1'></a>\n",
    "# 1. Frame the Problem and look at the big picture\n",
    "Use a Neural Network model that can identify hand written digits, using the MNIST dataset.\n"
   ]
  },
  {
   "cell_type": "code",
   "execution_count": 23,
   "metadata": {
    "deletable": false,
    "editable": false
   },
   "outputs": [],
   "source": [
    "# Get the data.\n",
    "from sklearn.datasets import fetch_openml\n",
    "from sklearn.model_selection import train_test_split\n",
    "\n",
    "# To split the data.\n",
    "from sklearn.model_selection import StratifiedShuffleSplit\n",
    "\n",
    "# Import numpy to work with numpy arrays.\n",
    "import numpy as np\n",
    "\n",
    "# Import tensorflow & functions to create the Neural Network.\n",
    "import tensorflow as tf\n",
    "from tensorflow.keras.models import Sequential\n",
    "from tensorflow.keras.layers import Dense\n",
    "from tensorflow.keras.activations import linear, relu\n",
    "\n",
    "\n",
    "%matplotlib widget\n",
    "import matplotlib.pyplot as plt\n",
    "\n",
    "#\n",
    "import logging\n",
    "logging.getLogger(\"tensorflow\").setLevel(logging.ERROR)\n",
    "tf.autograph.set_verbosity(0)\n",
    "\n",
    "np.set_printoptions(precision=2)"
   ]
  },
  {
   "cell_type": "markdown",
   "metadata": {},
   "source": [
    "<a name='2'></a>\n",
    "# 2. Get the Data"
   ]
  },
  {
   "cell_type": "code",
   "execution_count": 2,
   "metadata": {},
   "outputs": [
    {
     "name": "stderr",
     "output_type": "stream",
     "text": [
      "/home/jp/anaconda3/envs/tf/lib/python3.10/site-packages/sklearn/datasets/_openml.py:1022: FutureWarning: The default value of `parser` will change from `'liac-arff'` to `'auto'` in 1.4. You can set `parser='auto'` to silence this warning. Therefore, an `ImportError` will be raised from 1.4 if the dataset is dense and pandas is not installed. Note that the pandas parser may return different data types. See the Notes Section in fetch_openml's API doc for details.\n",
      "  warn(\n"
     ]
    }
   ],
   "source": [
    "mnist = fetch_openml('mnist_784', version=1, as_frame=False)"
   ]
  },
  {
   "cell_type": "markdown",
   "metadata": {},
   "source": [
    "<a name='3'></a>\n",
    "# 3. Explore the data to get insight"
   ]
  },
  {
   "cell_type": "code",
   "execution_count": 3,
   "metadata": {
    "deletable": false,
    "editable": false
   },
   "outputs": [
    {
     "data": {
      "text/plain": [
       "(70000, 784)"
      ]
     },
     "execution_count": 3,
     "metadata": {},
     "output_type": "execute_result"
    }
   ],
   "source": [
    "# Load the dataset\n",
    "X, y = mnist[\"data\"], mnist[\"target\"]\n",
    "X.shape"
   ]
  },
  {
   "cell_type": "code",
   "execution_count": 4,
   "metadata": {},
   "outputs": [
    {
     "data": {
      "text/plain": [
       "<matplotlib.image.AxesImage at 0x7f40c5b3f010>"
      ]
     },
     "execution_count": 4,
     "metadata": {},
     "output_type": "execute_result"
    },
    {
     "data": {
      "application/vnd.jupyter.widget-view+json": {
       "model_id": "c327d2cd758d4b3c9fc9e8e469a5a1ef",
       "version_major": 2,
       "version_minor": 0
      },
      "image/png": "[encoded data removed]",
      "text/html": [
       "\n",
       "            <div style=\"display: inline-block;\">\n",
       "                <div class=\"jupyter-widgets widget-label\" style=\"text-align: center;\">\n",
       "                    Figure\n",
       "                </div>\n",
       "                <img src='data:image/png;base64,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' width=480.0/>\n",
       "            </div>\n",
       "        "
      ],
      "text/plain": [
       "Canvas(toolbar=Toolbar(toolitems=[('Home', 'Reset original view', 'home', 'home'), ('Back', 'Back to previous …"
      ]
     },
     "metadata": {},
     "output_type": "display_data"
    }
   ],
   "source": [
    "a = X[0].reshape(28, 28)\n",
    "plt.matshow(a, cmap='gray')"
   ]
  },
  {
   "cell_type": "markdown",
   "metadata": {},
   "source": [
    "<a name='4'></a>\n",
    "# 4. Prepare the Data"
   ]
  },
  {
   "cell_type": "code",
   "execution_count": 5,
   "metadata": {},
   "outputs": [],
   "source": [
    "y = y.astype(np.uint8)"
   ]
  },
  {
   "cell_type": "code",
   "execution_count": 6,
   "metadata": {},
   "outputs": [],
   "source": [
    "# Split the dataset (X, y) into two sets: A training and a temporary set (X_, y_).\n",
    "split = StratifiedShuffleSplit(n_splits=1, test_size=20000, random_state=51)\n",
    "for train_index, test_index in split.split(X, y):\n",
    "    X_train, X_ = X[train_index], X[test_index]\n",
    "    y_train, y_ = y[train_index], y[test_index]"
   ]
  },
  {
   "cell_type": "code",
   "execution_count": 7,
   "metadata": {},
   "outputs": [],
   "source": [
    "# Split the temp set (X_, y_) into two sets: A validation and a test set.\n",
    "split2 = StratifiedShuffleSplit(n_splits=1, test_size=10000, random_state=51)\n",
    "for train_index, test_index in split2.split(X_, y_):\n",
    "    X_val, X_test = X[train_index], X[test_index]\n",
    "    y_val, y_test = y[train_index], y[test_index]"
   ]
  },
  {
   "cell_type": "code",
   "execution_count": 8,
   "metadata": {},
   "outputs": [
    {
     "name": "stdout",
     "output_type": "stream",
     "text": [
      "Shape of the traning features (X_train):  (50000, 784)\n",
      "Shape of the training targets (y_train):  (50000,) \n",
      "\n",
      "Shape of the validation features (X_val):  (10000, 784)\n",
      "Shape of the validation targets (y_val):  (10000,) \n",
      "\n",
      "Shape of the test featrues (X_test):  (10000, 784)\n",
      "Shape of the target features (y_test):  (10000,)\n"
     ]
    }
   ],
   "source": [
    "print('Shape of the traning features (X_train): ', X_train.shape)\n",
    "print('Shape of the training targets (y_train): ', y_train.shape, '\\n')\n",
    "\n",
    "print('Shape of the validation features (X_val): ', X_val.shape)\n",
    "print('Shape of the validation targets (y_val): ', y_val.shape, '\\n')\n",
    "\n",
    "print('Shape of the test featrues (X_test): ', X_test.shape)\n",
    "print('Shape of the target features (y_test): ', y_test.shape)"
   ]
  },
  {
   "cell_type": "code",
   "execution_count": 9,
   "metadata": {},
   "outputs": [],
   "source": [
    "# Scale down the features of each dataset.\n",
    "X_train, X_val, X_test = X_train / 255.0, X_val / 255.0, X_test / 255.0"
   ]
  },
  {
   "cell_type": "markdown",
   "metadata": {},
   "source": [
    "<a name='5'></a>\n",
    "# 5. Train a Neural Network."
   ]
  },
  {
   "cell_type": "code",
   "execution_count": 11,
   "metadata": {
    "deletable": false
   },
   "outputs": [
    {
     "name": "stdout",
     "output_type": "stream",
     "text": [
      "Epoch 1/10\n",
      "1563/1563 [==============================] - 19s 11ms/step - loss: 0.4410 - accuracy: 0.8738 - val_loss: 0.2516 - val_accuracy: 0.9267\n",
      "Epoch 2/10\n",
      "1563/1563 [==============================] - 15s 10ms/step - loss: 0.2253 - accuracy: 0.9341 - val_loss: 0.1895 - val_accuracy: 0.9438\n",
      "Epoch 3/10\n",
      "1563/1563 [==============================] - 14s 9ms/step - loss: 0.1839 - accuracy: 0.9472 - val_loss: 0.1629 - val_accuracy: 0.9518\n",
      "Epoch 4/10\n",
      "1563/1563 [==============================] - 13s 8ms/step - loss: 0.1599 - accuracy: 0.9538 - val_loss: 0.1415 - val_accuracy: 0.9597\n",
      "Epoch 5/10\n",
      "1563/1563 [==============================] - 13s 8ms/step - loss: 0.1433 - accuracy: 0.9578 - val_loss: 0.1278 - val_accuracy: 0.9634\n",
      "Epoch 6/10\n",
      "1563/1563 [==============================] - 13s 8ms/step - loss: 0.1310 - accuracy: 0.9611 - val_loss: 0.1349 - val_accuracy: 0.9598\n",
      "Epoch 7/10\n",
      "1563/1563 [==============================] - 13s 8ms/step - loss: 0.1194 - accuracy: 0.9645 - val_loss: 0.1158 - val_accuracy: 0.9670\n",
      "Epoch 8/10\n",
      "1563/1563 [==============================] - 15s 9ms/step - loss: 0.1119 - accuracy: 0.9668 - val_loss: 0.1063 - val_accuracy: 0.9701\n",
      "Epoch 9/10\n",
      "1563/1563 [==============================] - 15s 10ms/step - loss: 0.1040 - accuracy: 0.9683 - val_loss: 0.1025 - val_accuracy: 0.9715\n",
      "Epoch 10/10\n",
      "1563/1563 [==============================] - 15s 9ms/step - loss: 0.0984 - accuracy: 0.9697 - val_loss: 0.0972 - val_accuracy: 0.9724\n"
     ]
    }
   ],
   "source": [
    "# Train the model.\n",
    "tf.random.set_seed(51)\n",
    "model = Sequential(\n",
    "    [                     \n",
    "        Dense(25, activation = 'relu', name=\"L1\"),\n",
    "        Dense(15, activation = 'relu', name=\"L2\"),\n",
    "        Dense(10, name=\"L3\")\n",
    "\n",
    "    ], name = \"model_0\" \n",
    ")\n",
    "\n",
    "model.compile(\n",
    "    loss=tf.keras.losses.SparseCategoricalCrossentropy(from_logits=True),\n",
    "    optimizer=tf.keras.optimizers.Adam(learning_rate=0.001),\n",
    "    metrics=[\"accuracy\"]\n",
    ")\n",
    "\n",
    "history = model.fit(\n",
    "    X_train,y_train,\n",
    "    epochs=10,\n",
    "    validation_data=(X_val, y_val)\n",
    ")"
   ]
  },
  {
   "cell_type": "code",
   "execution_count": null,
   "metadata": {
    "deletable": false,
    "editable": false
   },
   "outputs": [
    {
     "name": "stdout",
     "output_type": "stream",
     "text": [
      "Model: \"model_0\"\n",
      "_________________________________________________________________\n",
      " Layer (type)                Output Shape              Param #   \n",
      "=================================================================\n",
      " L1 (Dense)                  (None, 25)                19625     \n",
      "                                                                 \n",
      " L2 (Dense)                  (None, 15)                390       \n",
      "                                                                 \n",
      " L3 (Dense)                  (None, 10)                160       \n",
      "                                                                 \n",
      "=================================================================\n",
      "Total params: 20175 (78.81 KB)\n",
      "Trainable params: 20175 (78.81 KB)\n",
      "Non-trainable params: 0 (0.00 Byte)\n",
      "_________________________________________________________________\n"
     ]
    }
   ],
   "source": [
    "model.summary()"
   ]
  },
  {
   "cell_type": "code",
   "execution_count": 12,
   "metadata": {},
   "outputs": [
    {
     "name": "stdout",
     "output_type": "stream",
     "text": [
      "   1/5000 [..............................] - ETA: 3:28 - loss: 3.3733 - accuracy: 0.5000"
     ]
    },
    {
     "name": "stdout",
     "output_type": "stream",
     "text": [
      "5000/5000 [==============================] - 35s 7ms/step - loss: 0.0952 - accuracy: 0.9711\n"
     ]
    }
   ],
   "source": [
    "# Evaluate the model on the test set.\n",
    "eval = model.evaluate(X_test, y_test, batch_size=2)"
   ]
  }
 ],
 "metadata": {
  "dl_toc_settings": {
   "rndtag": "89367"
  },
  "kernelspec": {
   "display_name": "Python 3 (ipykernel)",
   "language": "python",
   "name": "python3"
  },
  "language_info": {
   "codemirror_mode": {
    "name": "ipython",
    "version": 3
   },
   "file_extension": ".py",
   "mimetype": "text/x-python",
   "name": "python",
   "nbconvert_exporter": "python",
   "pygments_lexer": "ipython3",
   "version": "3.10.13"
  }
 },
 "nbformat": 4,
 "nbformat_minor": 4
}
