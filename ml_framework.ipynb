{
 "cells": [
  {
   "cell_type": "code",
   "execution_count": 1,
   "id": "9226566b",
   "metadata": {
    "_cell_guid": "b1076dfc-b9ad-4769-8c92-a6c4dae69d19",
    "_uuid": "8f2839f25d086af736a60e9eeb907d3b93b6e0e5",
    "execution": {
     "iopub.execute_input": "2023-04-23T21:56:03.146397Z",
     "iopub.status.busy": "2023-04-23T21:56:03.145959Z",
     "iopub.status.idle": "2023-04-23T21:56:03.158335Z",
     "shell.execute_reply": "2023-04-23T21:56:03.157302Z"
    },
    "papermill": {
     "duration": 0.019704,
     "end_time": "2023-04-23T21:56:03.160897",
     "exception": false,
     "start_time": "2023-04-23T21:56:03.141193",
     "status": "completed"
    },
    "tags": []
   },
   "outputs": [],
   "source": [
    "# This Python 3 environment comes with many helpful analytics libraries installed\n",
    "# It is defined by the kaggle/python Docker image: https://github.com/kaggle/docker-python\n",
    "# For example, here's several helpful packages to load\n",
    "\n",
    "import numpy as np # linear algebra\n",
    "import pandas as pd # data processing, CSV file I/O (e.g. pd.read_csv)\n",
    "\n",
    "# Input data files are available in the read-only \"../input/\" directory\n",
    "# For example, running this (by clicking run or pressing Shift+Enter) will list all files under the input directory\n",
    "\n",
    "import os\n",
    "for dirname, _, filenames in os.walk('/kaggle/input'):\n",
    "    for filename in filenames:\n",
    "        print(os.path.join(dirname, filename))\n",
    "\n",
    "# You can write up to 20GB to the current directory (/kaggle/working/) that gets preserved as output when you create a version using \"Save & Run All\" \n",
    "# You can also write temporary files to /kaggle/temp/, but they won't be saved outside of the current session"
   ]
  },
  {
   "cell_type": "markdown",
   "id": "8f1bf2e8",
   "metadata": {
    "papermill": {
     "duration": 0.00209,
     "end_time": "2023-04-23T21:56:03.165703",
     "exception": false,
     "start_time": "2023-04-23T21:56:03.163613",
     "status": "completed"
    },
    "tags": []
   },
   "source": [
    "## Machine Learning Project Checklist"
   ]
  },
  {
   "cell_type": "markdown",
   "id": "59ed023e",
   "metadata": {
    "papermill": {
     "duration": 0.002016,
     "end_time": "2023-04-23T21:56:03.169988",
     "exception": false,
     "start_time": "2023-04-23T21:56:03.167972",
     "status": "completed"
    },
    "tags": []
   },
   "source": [
    "### 1. Frame the Problem and look at the big picture"
   ]
  },
  {
   "cell_type": "markdown",
   "id": "83d2a563",
   "metadata": {
    "papermill": {
     "duration": 0.002095,
     "end_time": "2023-04-23T21:56:03.174343",
     "exception": false,
     "start_time": "2023-04-23T21:56:03.172248",
     "status": "completed"
    },
    "tags": []
   },
   "source": [
    "### 2. Get the data"
   ]
  },
  {
   "cell_type": "markdown",
   "id": "5d7b457f",
   "metadata": {
    "papermill": {
     "duration": 0.002005,
     "end_time": "2023-04-23T21:56:03.178579",
     "exception": false,
     "start_time": "2023-04-23T21:56:03.176574",
     "status": "completed"
    },
    "tags": []
   },
   "source": [
    "### 3. Explore the data to gain insights"
   ]
  },
  {
   "cell_type": "markdown",
   "id": "e4b780e8",
   "metadata": {
    "papermill": {
     "duration": 0.002008,
     "end_time": "2023-04-23T21:56:03.182808",
     "exception": false,
     "start_time": "2023-04-23T21:56:03.180800",
     "status": "completed"
    },
    "tags": []
   },
   "source": [
    "### 4. Prepare the data to better expose the underlying patterns to Machine Learning algorithms"
   ]
  },
  {
   "cell_type": "markdown",
   "id": "60b6fe96",
   "metadata": {
    "papermill": {
     "duration": 0.00203,
     "end_time": "2023-04-23T21:56:03.187084",
     "exception": false,
     "start_time": "2023-04-23T21:56:03.185054",
     "status": "completed"
    },
    "tags": []
   },
   "source": [
    "### 5. Explore many different models and short-list the best ones"
   ]
  },
  {
   "cell_type": "markdown",
   "id": "df385750",
   "metadata": {
    "papermill": {
     "duration": 0.00207,
     "end_time": "2023-04-23T21:56:03.191370",
     "exception": false,
     "start_time": "2023-04-23T21:56:03.189300",
     "status": "completed"
    },
    "tags": []
   },
   "source": [
    "### 6. Fine-tune your models and combine them into a great solution"
   ]
  },
  {
   "cell_type": "markdown",
   "id": "ff7b961d",
   "metadata": {
    "papermill": {
     "duration": 0.001992,
     "end_time": "2023-04-23T21:56:03.195586",
     "exception": false,
     "start_time": "2023-04-23T21:56:03.193594",
     "status": "completed"
    },
    "tags": []
   },
   "source": [
    "### 7. Present your solution"
   ]
  },
  {
   "cell_type": "markdown",
   "id": "3c0c16c6",
   "metadata": {
    "papermill": {
     "duration": 0.001972,
     "end_time": "2023-04-23T21:56:03.199765",
     "exception": false,
     "start_time": "2023-04-23T21:56:03.197793",
     "status": "completed"
    },
    "tags": []
   },
   "source": [
    "### 8. Launch, monitor, and maintain your system"
   ]
  }
 ],
 "metadata": {
  "kernelspec": {
   "display_name": "Python 3",
   "language": "python",
   "name": "python3"
  },
  "language_info": {
   "codemirror_mode": {
    "name": "ipython",
    "version": 3
   },
   "file_extension": ".py",
   "mimetype": "text/x-python",
   "name": "python",
   "nbconvert_exporter": "python",
   "pygments_lexer": "ipython3",
   "version": "3.7.12"
  },
  "papermill": {
   "default_parameters": {},
   "duration": 9.278839,
   "end_time": "2023-04-23T21:56:03.824061",
   "environment_variables": {},
   "exception": null,
   "input_path": "__notebook__.ipynb",
   "output_path": "__notebook__.ipynb",
   "parameters": {},
   "start_time": "2023-04-23T21:55:54.545222",
   "version": "2.4.0"
  }
 },
 "nbformat": 4,
 "nbformat_minor": 5
}
