{
 "cells": [
  {
   "cell_type": "markdown",
   "metadata": {},
   "source": [
    "# Neural Networks for Handwritten Digit Recognition\n"
   ]
  },
  {
   "cell_type": "code",
   "execution_count": 1,
   "metadata": {
    "deletable": false,
    "editable": false
   },
   "outputs": [
    {
     "name": "stderr",
     "output_type": "stream",
     "text": [
      "2023-11-28 20:44:37.537283: I tensorflow/core/util/port.cc:111] oneDNN custom operations are on. You may see slightly different numerical results due to floating-point round-off errors from different computation orders. To turn them off, set the environment variable `TF_ENABLE_ONEDNN_OPTS=0`.\n",
      "2023-11-28 20:44:37.894155: E tensorflow/compiler/xla/stream_executor/cuda/cuda_dnn.cc:9342] Unable to register cuDNN factory: Attempting to register factory for plugin cuDNN when one has already been registered\n",
      "2023-11-28 20:44:37.894215: E tensorflow/compiler/xla/stream_executor/cuda/cuda_fft.cc:609] Unable to register cuFFT factory: Attempting to register factory for plugin cuFFT when one has already been registered\n",
      "2023-11-28 20:44:37.895036: E tensorflow/compiler/xla/stream_executor/cuda/cuda_blas.cc:1518] Unable to register cuBLAS factory: Attempting to register factory for plugin cuBLAS when one has already been registered\n",
      "2023-11-28 20:44:37.968344: I tensorflow/core/platform/cpu_feature_guard.cc:182] This TensorFlow binary is optimized to use available CPU instructions in performance-critical operations.\n",
      "To enable the following instructions: AVX2 AVX512F AVX512_VNNI FMA, in other operations, rebuild TensorFlow with the appropriate compiler flags.\n"
     ]
    }
   ],
   "source": [
    "import numpy as np\n",
    "import tensorflow as tf\n",
    "from tensorflow.keras.models import Sequential\n",
    "from tensorflow.keras.layers import Dense\n",
    "from tensorflow.keras.activations import linear, relu, sigmoid\n",
    "%matplotlib widget\n",
    "import matplotlib.pyplot as plt\n",
    "plt.style.use('./deeplearning.mplstyle')\n",
    "\n",
    "import logging\n",
    "logging.getLogger(\"tensorflow\").setLevel(logging.ERROR)\n",
    "tf.autograph.set_verbosity(0)\n",
    "\n",
    "from public_tests import * \n",
    "\n",
    "from autils import *\n",
    "from lab_utils_softmax import plt_softmax\n",
    "np.set_printoptions(precision=2)"
   ]
  },
  {
   "cell_type": "code",
   "execution_count": 2,
   "metadata": {},
   "outputs": [
    {
     "name": "stderr",
     "output_type": "stream",
     "text": [
      "/home/jp/anaconda3/envs/tf/lib/python3.10/site-packages/sklearn/datasets/_openml.py:1022: FutureWarning: The default value of `parser` will change from `'liac-arff'` to `'auto'` in 1.4. You can set `parser='auto'` to silence this warning. Therefore, an `ImportError` will be raised from 1.4 if the dataset is dense and pandas is not installed. Note that the pandas parser may return different data types. See the Notes Section in fetch_openml's API doc for details.\n",
      "  warn(\n"
     ]
    },
    {
     "data": {
      "text/plain": [
       "dict_keys(['data', 'target', 'frame', 'categories', 'feature_names', 'target_names', 'DESCR', 'details', 'url'])"
      ]
     },
     "execution_count": 2,
     "metadata": {},
     "output_type": "execute_result"
    }
   ],
   "source": [
    "from sklearn.datasets import fetch_openml\n",
    "mnist = fetch_openml('mnist_784', version=1, as_frame=False)\n",
    "mnist.keys()"
   ]
  },
  {
   "cell_type": "code",
   "execution_count": 3,
   "metadata": {
    "deletable": false,
    "editable": false
   },
   "outputs": [
    {
     "data": {
      "text/plain": [
       "(70000, 784)"
      ]
     },
     "execution_count": 3,
     "metadata": {},
     "output_type": "execute_result"
    }
   ],
   "source": [
    "# # load dataset\n",
    "# X, y = load_data()\n",
    "X, y = mnist[\"data\"], mnist[\"target\"]\n",
    "X.shape"
   ]
  },
  {
   "cell_type": "code",
   "execution_count": 4,
   "metadata": {},
   "outputs": [
    {
     "data": {
      "text/plain": [
       "<matplotlib.image.AxesImage at 0x7f2ef9d4c460>"
      ]
     },
     "execution_count": 4,
     "metadata": {},
     "output_type": "execute_result"
    },
    {
     "data": {
      "application/vnd.jupyter.widget-view+json": {
       "model_id": "db1b680649644b7691d91d0c7d7fa386",
       "version_major": 2,
       "version_minor": 0
      },
      "image/png": "[encoded data removed]",
      "text/html": [
       "\n",
       "            <div style=\"display: inline-block;\">\n",
       "                <div class=\"jupyter-widgets widget-label\" style=\"text-align: center;\">\n",
       "                    Figure\n",
       "                </div>\n",
       "                <img src='data:image/png;base64,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' width=480.0/>\n",
       "            </div>\n",
       "        "
      ],
      "text/plain": [
       "Canvas(toolbar=Toolbar(toolitems=[('Home', 'Reset original view', 'home', 'home'), ('Back', 'Back to previous …"
      ]
     },
     "metadata": {},
     "output_type": "display_data"
    }
   ],
   "source": [
    "import matplotlib.pyplot as plt\n",
    "import numpy as np\n",
    "\n",
    "\n",
    "a = X[0].reshape(28, 28)\n",
    "plt.matshow(a, cmap='gray')"
   ]
  },
  {
   "cell_type": "code",
   "execution_count": 5,
   "metadata": {},
   "outputs": [],
   "source": [
    "y = y.astype(np.uint8)"
   ]
  },
  {
   "cell_type": "code",
   "execution_count": 6,
   "metadata": {},
   "outputs": [],
   "source": [
    "X_train, X_test, y_train, y_test = X[:50000], X[50000:60000], y[:50000], y[50000:60000]"
   ]
  },
  {
   "cell_type": "code",
   "execution_count": 7,
   "metadata": {
    "deletable": false
   },
   "outputs": [
    {
     "name": "stderr",
     "output_type": "stream",
     "text": [
      "2023-11-28 20:45:05.982699: I tensorflow/compiler/xla/stream_executor/cuda/cuda_gpu_executor.cc:880] could not open file to read NUMA node: /sys/bus/pci/devices/0000:59:00.0/numa_node\n",
      "Your kernel may have been built without NUMA support.\n",
      "2023-11-28 20:45:06.011856: I tensorflow/compiler/xla/stream_executor/cuda/cuda_gpu_executor.cc:880] could not open file to read NUMA node: /sys/bus/pci/devices/0000:59:00.0/numa_node\n",
      "Your kernel may have been built without NUMA support.\n",
      "2023-11-28 20:45:06.011944: I tensorflow/compiler/xla/stream_executor/cuda/cuda_gpu_executor.cc:880] could not open file to read NUMA node: /sys/bus/pci/devices/0000:59:00.0/numa_node\n",
      "Your kernel may have been built without NUMA support.\n",
      "2023-11-28 20:45:06.015069: I tensorflow/compiler/xla/stream_executor/cuda/cuda_gpu_executor.cc:880] could not open file to read NUMA node: /sys/bus/pci/devices/0000:59:00.0/numa_node\n",
      "Your kernel may have been built without NUMA support.\n",
      "2023-11-28 20:45:06.015177: I tensorflow/compiler/xla/stream_executor/cuda/cuda_gpu_executor.cc:880] could not open file to read NUMA node: /sys/bus/pci/devices/0000:59:00.0/numa_node\n",
      "Your kernel may have been built without NUMA support.\n",
      "2023-11-28 20:45:06.015212: I tensorflow/compiler/xla/stream_executor/cuda/cuda_gpu_executor.cc:880] could not open file to read NUMA node: /sys/bus/pci/devices/0000:59:00.0/numa_node\n",
      "Your kernel may have been built without NUMA support.\n",
      "2023-11-28 20:45:06.198688: I tensorflow/compiler/xla/stream_executor/cuda/cuda_gpu_executor.cc:880] could not open file to read NUMA node: /sys/bus/pci/devices/0000:59:00.0/numa_node\n",
      "Your kernel may have been built without NUMA support.\n",
      "2023-11-28 20:45:06.198751: I tensorflow/compiler/xla/stream_executor/cuda/cuda_gpu_executor.cc:880] could not open file to read NUMA node: /sys/bus/pci/devices/0000:59:00.0/numa_node\n",
      "Your kernel may have been built without NUMA support.\n",
      "2023-11-28 20:45:06.198760: I tensorflow/core/common_runtime/gpu/gpu_device.cc:1977] Could not identify NUMA node of platform GPU id 0, defaulting to 0.  Your kernel may not have been built with NUMA support.\n",
      "2023-11-28 20:45:06.198820: I tensorflow/compiler/xla/stream_executor/cuda/cuda_gpu_executor.cc:880] could not open file to read NUMA node: /sys/bus/pci/devices/0000:59:00.0/numa_node\n",
      "Your kernel may have been built without NUMA support.\n",
      "2023-11-28 20:45:06.198866: I tensorflow/core/common_runtime/gpu/gpu_device.cc:1886] Created device /job:localhost/replica:0/task:0/device:GPU:0 with 1359 MB memory:  -> device: 0, name: NVIDIA GeForce MX450, pci bus id: 0000:59:00.0, compute capability: 7.5\n"
     ]
    },
    {
     "name": "stdout",
     "output_type": "stream",
     "text": [
      "Epoch 1/40\n"
     ]
    },
    {
     "name": "stderr",
     "output_type": "stream",
     "text": [
      "2023-11-28 20:45:16.303860: I tensorflow/tsl/platform/default/subprocess.cc:304] Start cannot spawn child process: No such file or directory\n",
      "2023-11-28 20:45:16.557148: I tensorflow/compiler/xla/service/service.cc:168] XLA service 0x7f2e255e66e0 initialized for platform CUDA (this does not guarantee that XLA will be used). Devices:\n",
      "2023-11-28 20:45:16.557221: I tensorflow/compiler/xla/service/service.cc:176]   StreamExecutor device (0): NVIDIA GeForce MX450, Compute Capability 7.5\n",
      "2023-11-28 20:45:16.579229: I tensorflow/compiler/mlir/tensorflow/utils/dump_mlir_util.cc:269] disabling MLIR crash reproducer, set env var `MLIR_CRASH_REPRODUCER_DIRECTORY` to enable.\n",
      "2023-11-28 20:45:16.639893: I tensorflow/compiler/xla/stream_executor/cuda/cuda_dnn.cc:442] Loaded cuDNN version 8700\n",
      "2023-11-28 20:45:16.798946: I ./tensorflow/compiler/jit/device_compiler.h:186] Compiled cluster using XLA!  This line is logged at most once for the lifetime of the process.\n"
     ]
    },
    {
     "name": "stdout",
     "output_type": "stream",
     "text": [
      "1563/1563 [==============================] - 16s 8ms/step - loss: 2.1652\n",
      "Epoch 2/40\n",
      "1563/1563 [==============================] - 12s 7ms/step - loss: 1.0148\n",
      "Epoch 3/40\n",
      "1563/1563 [==============================] - 12s 8ms/step - loss: 0.6534\n",
      "Epoch 4/40\n",
      "1563/1563 [==============================] - 12s 7ms/step - loss: 0.4190\n",
      "Epoch 5/40\n",
      "1563/1563 [==============================] - 12s 8ms/step - loss: 0.3443\n",
      "Epoch 6/40\n",
      "1563/1563 [==============================] - 12s 7ms/step - loss: 0.2919\n",
      "Epoch 7/40\n",
      "1563/1563 [==============================] - 11s 7ms/step - loss: 0.2645\n",
      "Epoch 8/40\n",
      "1563/1563 [==============================] - 11s 7ms/step - loss: 0.2492\n",
      "Epoch 9/40\n",
      "1563/1563 [==============================] - 11s 7ms/step - loss: 0.2322\n",
      "Epoch 10/40\n",
      "1563/1563 [==============================] - 11s 7ms/step - loss: 0.2212\n",
      "Epoch 11/40\n",
      "1563/1563 [==============================] - 10s 7ms/step - loss: 0.2115\n",
      "Epoch 12/40\n",
      "1563/1563 [==============================] - 11s 7ms/step - loss: 0.1984\n",
      "Epoch 13/40\n",
      "1563/1563 [==============================] - 10s 6ms/step - loss: 0.1913\n",
      "Epoch 14/40\n",
      "1563/1563 [==============================] - 10s 6ms/step - loss: 0.1866\n",
      "Epoch 15/40\n",
      "1563/1563 [==============================] - 10s 6ms/step - loss: 0.1837\n",
      "Epoch 16/40\n",
      "1563/1563 [==============================] - 10s 6ms/step - loss: 0.1758\n",
      "Epoch 17/40\n",
      "1563/1563 [==============================] - 10s 6ms/step - loss: 0.1699\n",
      "Epoch 18/40\n",
      "1563/1563 [==============================] - 10s 7ms/step - loss: 0.1688\n",
      "Epoch 19/40\n",
      "1563/1563 [==============================] - 11s 7ms/step - loss: 0.1642\n",
      "Epoch 20/40\n",
      "1563/1563 [==============================] - 10s 7ms/step - loss: 0.1603\n",
      "Epoch 21/40\n",
      "1563/1563 [==============================] - 10s 7ms/step - loss: 0.1614\n",
      "Epoch 22/40\n",
      "1563/1563 [==============================] - 10s 7ms/step - loss: 0.1558\n",
      "Epoch 23/40\n",
      "1563/1563 [==============================] - 11s 7ms/step - loss: 0.1522\n",
      "Epoch 24/40\n",
      "1563/1563 [==============================] - 11s 7ms/step - loss: 0.1499\n",
      "Epoch 25/40\n",
      "1563/1563 [==============================] - 11s 7ms/step - loss: 0.1505\n",
      "Epoch 26/40\n",
      "1563/1563 [==============================] - 11s 7ms/step - loss: 0.1472\n",
      "Epoch 27/40\n",
      "1563/1563 [==============================] - 11s 7ms/step - loss: 0.1451\n",
      "Epoch 28/40\n",
      "1563/1563 [==============================] - 11s 7ms/step - loss: 0.1448\n",
      "Epoch 29/40\n",
      "1563/1563 [==============================] - 10s 7ms/step - loss: 0.1434\n",
      "Epoch 30/40\n",
      "1563/1563 [==============================] - 10s 7ms/step - loss: 0.1412\n",
      "Epoch 31/40\n",
      "1563/1563 [==============================] - 10s 6ms/step - loss: 0.1402\n",
      "Epoch 32/40\n",
      "1563/1563 [==============================] - 10s 6ms/step - loss: 0.1378\n",
      "Epoch 33/40\n",
      "1563/1563 [==============================] - 10s 7ms/step - loss: 0.1359\n",
      "Epoch 34/40\n",
      "1563/1563 [==============================] - 10s 6ms/step - loss: 0.1355\n",
      "Epoch 35/40\n",
      "1563/1563 [==============================] - 10s 6ms/step - loss: 0.1351\n",
      "Epoch 36/40\n",
      "1563/1563 [==============================] - 10s 7ms/step - loss: 0.1341\n",
      "Epoch 37/40\n",
      "1563/1563 [==============================] - 10s 6ms/step - loss: 0.1331\n",
      "Epoch 38/40\n",
      "1563/1563 [==============================] - 9s 6ms/step - loss: 0.1312\n",
      "Epoch 39/40\n",
      "1563/1563 [==============================] - 10s 7ms/step - loss: 0.1305\n",
      "Epoch 40/40\n",
      "1563/1563 [==============================] - 10s 6ms/step - loss: 0.1303\n"
     ]
    }
   ],
   "source": [
    "tf.random.set_seed(1234) # for consistent results\n",
    "model = Sequential(\n",
    "    [               \n",
    "        ### START CODE HERE ### \n",
    "        \n",
    "        Dense(25, activation = 'relu', name=\"L1\"),\n",
    "        Dense(15, activation = 'relu', name=\"L2\"),\n",
    "        Dense(10, name=\"L3\")\n",
    "        \n",
    "        ### END CODE HERE ### \n",
    "    ], name = \"my_model\" \n",
    ")\n",
    "\n",
    "model.compile(\n",
    "    loss=tf.keras.losses.SparseCategoricalCrossentropy(from_logits=True),\n",
    "    optimizer=tf.keras.optimizers.Adam(learning_rate=0.001),\n",
    ")\n",
    "\n",
    "history = model.fit(\n",
    "    X_train,y_train,\n",
    "    epochs=40\n",
    ")"
   ]
  },
  {
   "cell_type": "code",
   "execution_count": 8,
   "metadata": {
    "deletable": false,
    "editable": false
   },
   "outputs": [
    {
     "name": "stdout",
     "output_type": "stream",
     "text": [
      "Model: \"my_model\"\n",
      "_________________________________________________________________\n",
      " Layer (type)                Output Shape              Param #   \n",
      "=================================================================\n",
      " L1 (Dense)                  (None, 25)                19625     \n",
      "                                                                 \n",
      " L2 (Dense)                  (None, 15)                390       \n",
      "                                                                 \n",
      " L3 (Dense)                  (None, 10)                160       \n",
      "                                                                 \n",
      "=================================================================\n",
      "Total params: 20175 (78.81 KB)\n",
      "Trainable params: 20175 (78.81 KB)\n",
      "Non-trainable params: 0 (0.00 Byte)\n",
      "_________________________________________________________________\n"
     ]
    }
   ],
   "source": [
    "model.summary()"
   ]
  },
  {
   "cell_type": "code",
   "execution_count": 9,
   "metadata": {
    "deletable": false,
    "editable": false
   },
   "outputs": [
    {
     "data": {
      "application/vnd.jupyter.widget-view+json": {
       "model_id": "9e403e45dae4434fa15d9ca5b3f2e659",
       "version_major": 2,
       "version_minor": 0
      },
      "image/png": "[encoded data removed]",
      "text/html": [
       "\n",
       "            <div style=\"display: inline-block;\">\n",
       "                <div class=\"jupyter-widgets widget-label\" style=\"text-align: center;\">\n",
       "                    Figure\n",
       "                </div>\n",
       "                <img src='data:image/png;base64,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' width=400.0/>\n",
       "            </div>\n",
       "        "
      ],
      "text/plain": [
       "Canvas(footer_visible=False, header_visible=False, toolbar=Toolbar(toolitems=[('Home', 'Reset original view', …"
      ]
     },
     "metadata": {},
     "output_type": "display_data"
    }
   ],
   "source": [
    "plot_loss_tf(history)"
   ]
  },
  {
   "cell_type": "markdown",
   "metadata": {},
   "source": [
    "#### Prediction \n",
    "To make a prediction, use Keras `predict`. Below, X[1015] contains an image of a two."
   ]
  },
  {
   "cell_type": "code",
   "execution_count": 12,
   "metadata": {
    "deletable": false,
    "editable": false
   },
   "outputs": [
    {
     "name": "stdout",
     "output_type": "stream",
     "text": [
      "1/1 [==============================] - 0s 37ms/step\n",
      " predicting a Two: \n",
      "[[ 7.59  1.09  3.84 -0.05  1.67  2.52  3.49  1.63  3.59  3.24]]\n",
      " Largest Prediction index: 0\n"
     ]
    },
    {
     "data": {
      "text/plain": [
       "<matplotlib.image.AxesImage at 0x7f2edfdb1480>"
      ]
     },
     "execution_count": 12,
     "metadata": {},
     "output_type": "execute_result"
    },
    {
     "data": {
      "application/vnd.jupyter.widget-view+json": {
       "model_id": "806700ac43f542bb9227485b6e39b576",
       "version_major": 2,
       "version_minor": 0
      },
      "image/png": "[encoded data removed]",
      "text/html": [
       "\n",
       "            <div style=\"display: inline-block;\">\n",
       "                <div class=\"jupyter-widgets widget-label\" style=\"text-align: center;\">\n",
       "                    Figure\n",
       "                </div>\n",
       "                <img src='data:image/png;base64,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' width=480.0/>\n",
       "            </div>\n",
       "        "
      ],
      "text/plain": [
       "Canvas(toolbar=Toolbar(toolitems=[('Home', 'Reset original view', 'home', 'home'), ('Back', 'Back to previous …"
      ]
     },
     "metadata": {},
     "output_type": "display_data"
    }
   ],
   "source": [
    "image_of_two = X[1015]\n",
    "# display_digit(image_of_two)\n",
    "\n",
    "prediction = model.predict(image_of_two.reshape(1,784))  # prediction\n",
    "\n",
    "print(f\" predicting a Two: \\n{prediction}\")\n",
    "print(f\" Largest Prediction index: {np.argmax(prediction)}\")\n",
    "\n",
    "\n",
    "b = image_of_two.reshape(28, 28)\n",
    "plt.matshow(b, cmap='gray')"
   ]
  }
 ],
 "metadata": {
  "dl_toc_settings": {
   "rndtag": "89367"
  },
  "kernelspec": {
   "display_name": "Python 3 (ipykernel)",
   "language": "python",
   "name": "python3"
  },
  "language_info": {
   "codemirror_mode": {
    "name": "ipython",
    "version": 3
   },
   "file_extension": ".py",
   "mimetype": "text/x-python",
   "name": "python",
   "nbconvert_exporter": "python",
   "pygments_lexer": "ipython3",
   "version": "3.10.13"
  }
 },
 "nbformat": 4,
 "nbformat_minor": 4
}
