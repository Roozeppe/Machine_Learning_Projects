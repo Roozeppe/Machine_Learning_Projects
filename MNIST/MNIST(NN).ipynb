{
 "cells": [
  {
   "cell_type": "markdown",
   "metadata": {},
   "source": [
    "# Outline\n",
    "1. [Frame the probelm and look at the big picture ](#1)\n",
    "2. [Get the Data](#2)\n",
    "3. [Explore the data to gain insights](#3)\n",
    "4. [Prepare the data to better expose the underlying patterns to Machine Learning algorithms](#4)\n",
    "5. [Explore many different models and short-list the best ones](#5)\n",
    "6. [Fine-tune your models and combine them into a great solution](#6)\n",
    "7. [Present your solution](#7)\n",
    "8. [Launch, monitor, and maintain your system](#8)\n"
   ]
  },
  {
   "cell_type": "markdown",
   "metadata": {},
   "source": [
    "<a name=\"1\"></a>\n",
    "# 1. Frame the Problem and look at the big picture\n",
    "Use a Neural Network model that can identify hand written digits, using the MNIST dataset.\n"
   ]
  },
  {
   "cell_type": "code",
   "execution_count": 1,
   "metadata": {
    "deletable": false,
    "editable": false
   },
   "outputs": [
    {
     "name": "stderr",
     "output_type": "stream",
     "text": [
      "2023-11-29 22:06:29.135823: I tensorflow/core/util/port.cc:111] oneDNN custom operations are on. You may see slightly different numerical results due to floating-point round-off errors from different computation orders. To turn them off, set the environment variable `TF_ENABLE_ONEDNN_OPTS=0`.\n",
      "2023-11-29 22:06:29.241681: E tensorflow/compiler/xla/stream_executor/cuda/cuda_dnn.cc:9342] Unable to register cuDNN factory: Attempting to register factory for plugin cuDNN when one has already been registered\n",
      "2023-11-29 22:06:29.241724: E tensorflow/compiler/xla/stream_executor/cuda/cuda_fft.cc:609] Unable to register cuFFT factory: Attempting to register factory for plugin cuFFT when one has already been registered\n",
      "2023-11-29 22:06:29.241765: E tensorflow/compiler/xla/stream_executor/cuda/cuda_blas.cc:1518] Unable to register cuBLAS factory: Attempting to register factory for plugin cuBLAS when one has already been registered\n",
      "2023-11-29 22:06:29.268081: I tensorflow/core/platform/cpu_feature_guard.cc:182] This TensorFlow binary is optimized to use available CPU instructions in performance-critical operations.\n",
      "To enable the following instructions: AVX2 AVX512F AVX512_VNNI FMA, in other operations, rebuild TensorFlow with the appropriate compiler flags.\n"
     ]
    }
   ],
   "source": [
    "# Get the data.\n",
    "from sklearn.datasets import fetch_openml\n",
    "from sklearn.model_selection import train_test_split\n",
    "\n",
    "# Import numpy to work with numpy arrays.\n",
    "import numpy as np\n",
    "\n",
    "# Import tensorflow & functions to create the Neural Network.\n",
    "import tensorflow as tf\n",
    "from tensorflow.keras.models import Sequential\n",
    "from tensorflow.keras.layers import Dense\n",
    "from tensorflow.keras.activations import linear, relu\n",
    "\n",
    "\n",
    "%matplotlib widget\n",
    "import matplotlib.pyplot as plt\n",
    "\n",
    "#\n",
    "import logging\n",
    "logging.getLogger(\"tensorflow\").setLevel(logging.ERROR)\n",
    "tf.autograph.set_verbosity(0)\n",
    "\n",
    "np.set_printoptions(precision=2)"
   ]
  },
  {
   "cell_type": "markdown",
   "metadata": {},
   "source": [
    "<a name=\"2\"></a>\n",
    "# 2. Get the Data"
   ]
  },
  {
   "cell_type": "code",
   "execution_count": 2,
   "metadata": {},
   "outputs": [
    {
     "name": "stderr",
     "output_type": "stream",
     "text": [
      "/home/jp/anaconda3/envs/tf/lib/python3.10/site-packages/sklearn/datasets/_openml.py:1022: FutureWarning: The default value of `parser` will change from `'liac-arff'` to `'auto'` in 1.4. You can set `parser='auto'` to silence this warning. Therefore, an `ImportError` will be raised from 1.4 if the dataset is dense and pandas is not installed. Note that the pandas parser may return different data types. See the Notes Section in fetch_openml's API doc for details.\n",
      "  warn(\n"
     ]
    },
    {
     "data": {
      "text/plain": [
       "dict_keys(['data', 'target', 'frame', 'categories', 'feature_names', 'target_names', 'DESCR', 'details', 'url'])"
      ]
     },
     "execution_count": 2,
     "metadata": {},
     "output_type": "execute_result"
    }
   ],
   "source": [
    "mnist = fetch_openml('mnist_784', version=1, as_frame=False)\n",
    "mnist.keys()"
   ]
  },
  {
   "cell_type": "code",
   "execution_count": 3,
   "metadata": {
    "deletable": false,
    "editable": false
   },
   "outputs": [
    {
     "data": {
      "text/plain": [
       "(70000, 784)"
      ]
     },
     "execution_count": 3,
     "metadata": {},
     "output_type": "execute_result"
    }
   ],
   "source": [
    "# # load dataset\n",
    "X, y = mnist[\"data\"], mnist[\"target\"]\n",
    "X.shape"
   ]
  },
  {
   "cell_type": "code",
   "execution_count": 4,
   "metadata": {},
   "outputs": [
    {
     "data": {
      "text/plain": [
       "<matplotlib.image.AxesImage at 0x7f1e09212c80>"
      ]
     },
     "execution_count": 4,
     "metadata": {},
     "output_type": "execute_result"
    },
    {
     "data": {
      "application/vnd.jupyter.widget-view+json": {
       "model_id": "439083e46a264acfb6fae5c42a36986d",
       "version_major": 2,
       "version_minor": 0
      },
      "image/png": "[encoded data removed]",
      "text/html": [
       "\n",
       "            <div style=\"display: inline-block;\">\n",
       "                <div class=\"jupyter-widgets widget-label\" style=\"text-align: center;\">\n",
       "                    Figure\n",
       "                </div>\n",
       "                <img src='data:image/png;base64,iVBORw0KGgoAAAANSUhEUgAAAeAAAAHgCAYAAAB91L6VAAAAOXRFWHRTb2Z0d2FyZQBNYXRwbG90bGliIHZlcnNpb24zLjguMiwgaHR0cHM6Ly9tYXRwbG90bGliLm9yZy8g+/7EAAAACXBIWXMAAA9hAAAPYQGoP6dpAAAd/ElEQVR4nO3df4zXhX348deBcqLeHTuRO64CgrawiWBi4cq0FCflRzNSkCVquwQ7YmN3mCKpdpgp0rVjsetmWFnrHwu0TbHWpMr0DzqHAlkKNOIYMd2IEBZgcLiycQdnOaj3/v7Bt0dPT/TzGXev+/F4JO+U+3w+Lz4v3/3I0/f94FNRFEURAECvGpK9AAAMRgIMAAkEGAASCDAAJBBgAEggwACQQIABIIEAA0ACAQaABAIMAAkEGAASCDAAJBBgAEggwACQQIABIIEAA0ACAQaABAIMAAkEGAASCDAAJBBgAEggwACQQIABIIEAA0ACAQaABAIMAAkEGAASCDAAJBBgAEggwACQQIABIIEAA0ACAQaABAIMAAkEGAASCDAAJBBgAEggwACQQIABIIEAA0ACAQaABAJchnXr1sX1118fV1xxRTQ2NsbPf/7z7JV63RNPPBEVFRVdjkmTJmWv1eO2b98eCxYsiIaGhqioqIgXXnihy/1FUcTjjz8eo0ePjuHDh8fs2bPjzTffzFm2h33Qubjvvvve8xqZN29ezrI9aM2aNTFt2rSoqqqKUaNGxcKFC2Pfvn1dHnPmzJloamqKa665Jq6++upYvHhxHD9+PGnjnvFhzsOsWbPe85p44IEHkjbOJ8AlevbZZ2PFihWxatWqeP3112Pq1Kkxd+7ceOutt7JX63U33XRTHDt2rPP4l3/5l+yVelxbW1tMnTo11q1b1+39Tz75ZKxduza++93vxq5du+Kqq66KuXPnxpkzZ3p50573QeciImLevHldXiPPPPNML27YO7Zt2xZNTU2xc+fOePnll+PcuXMxZ86caGtr63zMQw89FC+++GI899xzsW3btjh69GjcddddiVtfeh/mPERE3H///V1eE08++WTSxn1AQUmmT59eNDU1dX78zjvvFA0NDcWaNWsSt+p9q1atKqZOnZq9RqqIKJ5//vnOjzs6Oor6+vrim9/8ZudtJ0+eLCorK4tnnnkmYcPe8+5zURRFsWTJkuKzn/1syj6Z3nrrrSIiim3bthVFcf41cPnllxfPPfdc52P+/d//vYiIYseOHVlr9rh3n4eiKIpPfepTxZe//OW8pfoYV8AlOHv2bOzevTtmz57deduQIUNi9uzZsWPHjsTNcrz55pvR0NAQEyZMiM9//vNx6NCh7JVSHTx4MJqbm7u8PmpqaqKxsXFQvj4iIrZu3RqjRo2KiRMnxpe+9KU4ceJE9ko9rqWlJSIiamtrIyJi9+7dce7cuS6vi0mTJsXYsWMH9Ovi3efhN374wx/GyJEjY/LkybFy5cp4++23M9brEy7LXqA/+eUvfxnvvPNO1NXVdbm9rq4u/uM//iNpqxyNjY2xYcOGmDhxYhw7dixWr14dn/zkJ+ONN96Iqqqq7PVSNDc3R0R0+/r4zX2Dybx58+Kuu+6K8ePHx4EDB+LRRx+N+fPnx44dO2Lo0KHZ6/WIjo6OWL58edx2220xefLkiDj/uhg2bFiMGDGiy2MH8uuiu/MQEfG5z30uxo0bFw0NDbF379746le/Gvv27Yuf/OQnidvmEWDKMn/+/M5fT5kyJRobG2PcuHHx4x//OJYuXZq4GX3FPffc0/nrm2++OaZMmRI33HBDbN26Ne68887EzXpOU1NTvPHGG4Pi+yEu5v3Owxe/+MXOX998880xevTouPPOO+PAgQNxww039Paa6XwKugQjR46MoUOHvue7F48fPx719fVJW/UNI0aMiI997GOxf//+7FXS/OY14PXRvQkTJsTIkSMH7Gtk2bJl8dJLL8Wrr74a1113Xeft9fX1cfbs2Th58mSXxw/U18X7nYfuNDY2RkQM2NfEBxHgEgwbNixuvfXW2LJlS+dtHR0dsWXLlpgxY0biZvlOnz4dBw4ciNGjR2evkmb8+PFRX1/f5fXR2toau3btGvSvj4iII0eOxIkTJwbca6Qoili2bFk8//zz8corr8T48eO73H/rrbfG5Zdf3uV1sW/fvjh06NCAel180Hnozp49eyIiBtxr4sPyKegSrVixIpYsWRIf//jHY/r06fHUU09FW1tbfOELX8herVd95StfiQULFsS4cePi6NGjsWrVqhg6dGjce++92av1qNOnT3f5r/WDBw/Gnj17ora2NsaOHRvLly+Pr3/96/HRj340xo8fH4899lg0NDTEwoUL85buIRc7F7W1tbF69epYvHhx1NfXx4EDB+KRRx6JG2+8MebOnZu49aXX1NQUGzdujE2bNkVVVVXn13Vrampi+PDhUVNTE0uXLo0VK1ZEbW1tVFdXx4MPPhgzZsyIT3ziE8nbXzofdB4OHDgQGzdujM985jNxzTXXxN69e+Ohhx6KmTNnxpQpU5K3T5L9bdj90d/93d8VY8eOLYYNG1ZMnz692LlzZ/ZKve7uu+8uRo8eXQwbNqz4yEc+Utx9993F/v37s9fqca+++moREe85lixZUhTF+R9Feuyxx4q6urqisrKyuPPOO4t9+/blLt1DLnYu3n777WLOnDnFtddeW1x++eXFuHHjivvvv79obm7OXvuS6+4cRESxfv36zsf86le/Kv70T/+0+J3f+Z3iyiuvLBYtWlQcO3Ysb+ke8EHn4dChQ8XMmTOL2traorKysrjxxhuLhx9+uGhpacldPFFFURRFbwYfAPA1YABIIcAAkECAASCBAANAAgEGgAQCDAAJBBgAEghwmdrb2+OJJ56I9vb27FVSOQ/nOQ8XOBfnOQ8XOBfd8xdxlKm1tTVqamqipaUlqqurs9dJ4zyc5zxc4Fyc5zxc4Fx0zxUwACQQYABI4N2QLqKjoyOOHj0aVVVVUVFR0eW+1tbWLv87WDkP5zkPFzgX5zkPF/SFc1EURZw6dSoaGhpiyJC+ce3pa8AXceTIkRgzZkz2GgBcIocPH47rrrsue42I8Cnoi6qqqspeAYBLqC/9uT7gA7xu3bq4/vrr44orrojGxsb4+c9//qFn3/1pZwD6t7705/qADvCzzz4bK1asiFWrVsXrr78eU6dOjblz58Zbb72VvRoAg9yA/hpwY2NjTJs2Lb797W9HxPlvqhozZkw8+OCD8Wd/9mcfOP+bn10DYGDoSz+LPGCvgM+ePRu7d++O2bNnd942ZMiQmD17duzYsaPbmfb29mhtbe1yAEBPGLAB/uUvfxnvvPNO1NXVdbm9rq4umpubu51Zs2ZN1NTUdB6+AxqAnjJgA1yOlStXRktLS+dx+PDh7JUAGKAG7F/EMXLkyBg6dGgcP368y+3Hjx+P+vr6bmcqKyujsrKyN9YDYJAbsFfAw4YNi1tvvTW2bNnSeVtHR0ds2bIlZsyYkbgZAAzgK+CIiBUrVsSSJUvi4x//eEyfPj2eeuqpaGtriy984QvZqwEwyA3oAN99993x3//93/H4449Hc3Nz3HLLLbF58+b3fGMWAPS2Af1zwP9Xfg4YYGDxc8AAMMgJMAAkEGAASCDAAJBAgAEggQADQAIBBoAEAgwACQQYABIIMAAkEGAASCDAAJBAgAEggQADQAIBBoAEAgwACQQYABIIMAAkEGAASCDAAJBAgAEggQADQAIBBoAEAgwACQQYABIIMAAkEGAASCDAAJBAgAEggQADQAIBBoAEAgwACQQYABIIMAAkEGAASCDAAJBAgAEggQADQAIBBoAEAgwACQQYABIIMAAkEGAASCDAAJBAgAEggQADQAIBBoAEAgwACQQYABIIMAAkEGAASCDAAJBAgAEgwWXZCwDdGzp0aFlzNTU1l3iTS2vZsmUlz1x55ZUlz0ycOLHkmaamppJnIiL++q//uuSZe++9t+SZM2fOlDwTEfFXf/VXJc+sXr26rOfiw3MFDAAJBnSAn3jiiaioqOhyTJo0KXstABj4n4K+6aab4p//+Z87P77ssgH/jwxAPzDga3TZZZdFfX199hoA0MWA/hR0RMSbb74ZDQ0NMWHChPj85z8fhw4dyl4JAAb2FXBjY2Ns2LAhJk6cGMeOHYvVq1fHJz/5yXjjjTeiqqrqPY9vb2+P9vb2zo9bW1t7c10ABpEBHeD58+d3/nrKlCnR2NgY48aNix//+MexdOnS9zx+zZo1vvUegF4x4D8F/dtGjBgRH/vYx2L//v3d3r9y5cpoaWnpPA4fPtzLGwIwWAyqAJ8+fToOHDgQo0eP7vb+ysrKqK6u7nIAQE8Y0AH+yle+Etu2bYv//M//jJ/97GexaNGiGDp0aFl/Aw0AXEoD+mvAR44ciXvvvTdOnDgR1157bdx+++2xc+fOuPbaa7NXA2CQG9AB/tGPfpS9AgB0a0B/ChoA+qoBfQXM4DF27Niy5oYNG1byzO///u+XPHP77beXPDNixIiSZyIiFi9eXNbcQHPkyJGSZ9auXVvWcy1atKjkmVOnTpU882//9m8lz0REbNu2raw5epYrYABIIMAAkECAASCBAANAAgEGgAQCDAAJBBgAEggwACQQYABIIMAAkECAASCBAANAgoqiKIrsJfqq1tbWqKmpyV5j0LnllltKnnnllVfKei7///YPHR0dJc/8yZ/8Sckzp0+fLnmmXMeOHSt55n//93/Leq59+/aVNTcQtbS0RHV1dfYaEeEKGABSCDAAJBBgAEggwACQQIABIIEAA0ACAQaABAIMAAkEGAASCDAAJBBgAEggwACQ4LLsBeDdDh06VPLMiRMnynoub8Zw3q5du0qeOXnyZFnPdccdd5Q8c/bs2ZJnfvCDH5Q8A73JFTAAJBBgAEggwACQQIABIIEAA0ACAQaABAIMAAkEGAASCDAAJBBgAEggwACQQIABIIEAA0AC74ZEn/M///M/Jc88/PDDZT3XH/7hH5Y886//+q8lz6xdu7bkmXLt2bOn5JlPf/rTJc+0tbWVPBMRcdNNN5U88+Uvf7ms54K+zBUwACQQYABIIMAAkECAASCBAANAAgEGgAQCDAAJBBgAEggwACQQYABIIMAAkECAASBBRVEURfYSfVVra2vU1NRkr0EPqq6uLnnm1KlTJc88/fTTJc8sXbq05JmIiD/+4z8ueeaZZ54p67mgv2lpaSnr3/ue4AoYABL02wBv3749FixYEA0NDVFRUREvvPBCl/uLoojHH388Ro8eHcOHD4/Zs2fHm2++mbMsALxLvw1wW1tbTJ06NdatW9ft/U8++WSsXbs2vvvd78auXbviqquuirlz58aZM2d6eVMAeK/Lshco1/z582P+/Pnd3lcURTz11FPx53/+5/HZz342IiK+//3vR11dXbzwwgtxzz339OaqAPAe/fYK+GIOHjwYzc3NMXv27M7bampqorGxMXbs2PG+c+3t7dHa2trlAICeMCAD3NzcHBERdXV1XW6vq6vrvK87a9asiZqams5jzJgxPbonAIPXgAxwuVauXBktLS2dx+HDh7NXAmCAGpABrq+vj4iI48ePd7n9+PHjnfd1p7KyMqqrq7scANATBmSAx48fH/X19bFly5bO21pbW2PXrl0xY8aMxM0A4Lx++13Qp0+fjv3793d+fPDgwdizZ0/U1tbG2LFjY/ny5fH1r389PvrRj8b48ePjsccei4aGhli4cGHe0gDw//XbAL/22mtxxx13dH68YsWKiIhYsmRJbNiwIR555JFoa2uLL37xi3Hy5Mm4/fbbY/PmzXHFFVdkrQwAnfptgGfNmhUX+2usKyoq4mtf+1p87Wtf68WtAODD6bcBhkuht37Wu6WlpVeeJyLi/vvvL3nm2WefLXmmo6Oj5BngggH5TVgA0NcJMAAkEGAASCDAAJBAgAEggQADQAIBBoAEAgwACQQYABIIMAAkEGAASCDAAJCgorjYWwoNcq2trVFTU5O9BgPAVVddVfLMiy++WNZzfepTnyp5Zv78+SXP/NM//VPJM5CtpaUlqqurs9eICFfAAJBCgAEggQADQAIBBoAEAgwACQQYABIIMAAkEGAASCDAAJBAgAEggQADQAIBBoAEAgwACbwb0kV4NyQy3XDDDWXNvf766yXPnDx5suSZV199teSZiIjXXnut5Jl169aVPOOPNrrj3ZAAYJATYABIIMAAkECAASCBAANAAgEGgAQCDAAJBBgAEggwACQQYABIIMAAkECAASCBN2O4CG/GQH+0aNGikmfWr19f8kxVVVXJM+V69NFHS575/ve/X/LMsWPHSp6hf/FmDAAwyAkwACQQYABIIMAAkECAASCBAANAAgEGgAQCDAAJBBgAEggwACQQYABIIMAAkMCbMVyEN2NgsJg8eXLJM3/zN39T1nPdeeedZc2V6umnny555hvf+EZZz/Vf//VfZc3R+7wZAwAMcv02wNu3b48FCxZEQ0NDVFRUxAsvvNDl/vvuuy8qKiq6HPPmzctZFgDepd8GuK2tLaZOnRrr1q1738fMmzcvjh071nk888wzvbghALy/y7IXKNf8+fNj/vz5F31MZWVl1NfX99JGAPDh9dsr4A9j69atMWrUqJg4cWJ86UtfihMnTmSvBAAR0Y+vgD/IvHnz4q677orx48fHgQMH4tFHH4358+fHjh07YujQod3OtLe3R3t7e+fHra2tvbUuAIPMgA3wPffc0/nrm2++OaZMmRI33HBDbN269X1/DGLNmjWxevXq3loRgEFsQH8K+rdNmDAhRo4cGfv373/fx6xcuTJaWlo6j8OHD/fihgAMJgP2Cvjdjhw5EidOnIjRo0e/72MqKyujsrKyF7cCYLDqtwE+ffp0l6vZgwcPxp49e6K2tjZqa2tj9erVsXjx4qivr48DBw7EI488EjfeeGPMnTs3cWsAOK/fBvi1116LO+64o/PjFStWRETEkiVL4jvf+U7s3bs3vve978XJkyejoaEh5syZE3/xF3/hCheAPqHfBnjWrFlxsb/G+qc//WkvbgMApRk034QFAH2Jd0O6CO+GBO9vxIgRZc0tWLCg5Jn169eXPFNRUVHyzCuvvFLyTETEpz/96bLm6H3eDQkABjkBBoAEAgwACQQYABIIMAAkEGAASCDAAJBAgAEggQADQAIBBoAEAgwACQQYABJ4M4aL8GYM0De0t7eXPHPZZaW/2+qvf/3rkmciIubOnVvyzNatW8t6Lv5vvBkDAAxyAgwACQQYABIIMAAkEGAASCDAAJBAgAEggQADQAIBBoAEAgwACQQYABIIMAAkKP1vKwcGnClTppQ880d/9EdlPde0adNKninnjRXK8Ytf/KKsue3bt1/iTRgMXAEDQAIBBoAEAgwACQQYABIIMAAkEGAASCDAAJBAgAEggQADQAIBBoAEAgwACQQYABJ4MwbooyZOnFjW3LJly0qeueuuu0qeqa+vL3mmN73zzjslzxw7dqys5+ro6ChrjsHNFTAAJBBgAEggwACQQIABIIEAA0ACAQaABAIMAAkEGAASCDAAJBBgAEggwACQQIABIIEAA0AC74YEJSrnXYDuvffekmfKeVejiIjrr7++rLm+7LXXXit55hvf+EbJM//4j/9Y8gyUyxUwACTotwFes2ZNTJs2LaqqqmLUqFGxcOHC2LdvX5fHnDlzJpqamuKaa66Jq6++OhYvXhzHjx9P2hgALui3Ad62bVs0NTXFzp074+WXX45z587FnDlzoq2trfMxDz30ULz44ovx3HPPxbZt2+Lo0aNlvfE4AFxq/fZrwJs3b+7y8YYNG2LUqFGxe/fumDlzZrS0tMQ//MM/xMaNG+MP/uAPIiJi/fr18bu/+7uxc+fO+MQnPpGxNgBERD++An63lpaWiIiora2NiIjdu3fHuXPnYvbs2Z2PmTRpUowdOzZ27NjR7e/R3t4era2tXQ4A6AkDIsAdHR2xfPnyuO2222Ly5MkREdHc3BzDhg2LESNGdHlsXV1dNDc3d/v7rFmzJmpqajqPMWPG9PTqAAxSAyLATU1N8cYbb8SPfvSj/9Pvs3Llymhpaek8Dh8+fIk2BICu+u3XgH9j2bJl8dJLL8X27dvjuuuu67y9vr4+zp49GydPnuxyFXz8+PH3/TnOysrKqKys7OmVAaD/XgEXRRHLli2L559/Pl555ZUYP358l/tvvfXWuPzyy2PLli2dt+3bty8OHToUM2bM6O11AaCLfnsF3NTUFBs3boxNmzZFVVVV59d1a2pqYvjw4VFTUxNLly6NFStWRG1tbVRXV8eDDz4YM2bM8B3QAKTrtwH+zne+ExERs2bN6nL7+vXr47777ouIiL/927+NIUOGxOLFi6O9vT3mzp0bf//3f9/LmwLAe/XbABdF8YGPueKKK2LdunWxbt26XtgIAD68fhtg+G11dXVlzf3e7/1eyTPf/va3S56ZNGlSyTN93a5du8qa++Y3v1nyzKZNm0qe6ejoKHkGelO//SYsAOjPBBgAEggwACQQYABIIMAAkECAASCBAANAAgEGgAQCDAAJBBgAEggwACQQYABI4M0Y6FG1tbUlzzz99NMlz9xyyy0lz0RETJgwoay5vuxnP/tZyTPf+ta3Sp756U9/WvJMRMSvfvWrsuZgoHEFDAAJBBgAEggwACQQYABIIMAAkECAASCBAANAAgEGgAQCDAAJBBgAEggwACQQYABIIMAAkMC7IQ1CjY2NJc88/PDDZT3X9OnTS575yEc+UtZz9WVvv/12yTNr164t67n+8i//suSZtra2sp4LKJ8rYABIIMAAkECAASCBAANAAgEGgAQCDAAJBBgAEggwACQQYABIIMAAkECAASCBAANAAm/GMAgtWrSoV2Z60y9+8Yuy5l566aWSZ37961+XPPOtb32r5JmTJ0+WPAP0H66AASCBAANAAgEGgAQCDAAJBBgAEggwACQQYABIIMAAkECAASCBAANAAgEGgAQCDAAJKoqiKLKX6KtaW1ujpqYmew0ALpGWlpaorq7OXiMiXAEDQIp+G+A1a9bEtGnToqqqKkaNGhULFy6Mffv2dXnMrFmzoqKiosvxwAMPJG0MABf02wBv27YtmpqaYufOnfHyyy/HuXPnYs6cOdHW1tblcffff38cO3as83jyySeTNgaACy7LXqBcmzdv7vLxhg0bYtSoUbF79+6YOXNm5+1XXnll1NfX9/Z6AHBR/fYK+N1aWloiIqK2trbL7T/84Q9j5MiRMXny5Fi5cmW8/fbbGesBQBf99gr4t3V0dMTy5cvjtttui8mTJ3fe/rnPfS7GjRsXDQ0NsXfv3vjqV78a+/bti5/85Cfd/j7t7e3R3t7e+XFra2uP7w7AIFUMAA888EAxbty44vDhwxd93JYtW4qIKPbv39/t/atWrSoiwuFwOBwD9GhpaemJDJWl3/8c8LJly2LTpk2xffv2GD9+/EUf29bWFldffXVs3rw55s6d+577u7sCHjNmzCXfGYAcfenngPvtp6CLoogHH3wwnn/++di6desHxjciYs+ePRERMXr06G7vr6ysjMrKyku5JgB0q98GuKmpKTZu3BibNm2KqqqqaG5ujoiImpqaGD58eBw4cCA2btwYn/nMZ+Kaa66JvXv3xkMPPRQzZ86MKVOmJG8PwKCX/CnwssX7fH5//fr1RVEUxaFDh4qZM2cWtbW1RWVlZXHjjTcWDz/8cEmf/29paUn/eoXD4XA4Lt3ha8D9hL8LGmBg6UtfAx4wPwcMAP2JAANAAgEGgAQCDAAJBBgAEggwACQQYABIIMAAkECAASCBAANAAgEGgAQCDAAJBBgAEggwACQQYABIIMAAkECAASCBAANAAgEGgAQCDAAJBBgAEggwACQQYABIIMAAkECAASCBAANAAgG+iKIoslcA4BLqS3+uC/BFnDp1KnsFAC6hvvTnekXRl/5zoI/p6OiIo0ePRlVVVVRUVHS5r7W1NcaMGROHDx+O6urqpA3zOQ/nOQ8XOBfnOQ8X9IVzURRFnDp1KhoaGmLIkL5x7XlZ9gJ92ZAhQ+K666676GOqq6sH/b9cEc7DbzgPFzgX5zkPF2Sfi5qamrTn7k7f+M8AABhkBBgAEghwmSorK2PVqlVRWVmZvUoq5+E85+EC5+I85+EC56J7vgkLABK4AgaABAIMAAkEGAASCDAAJBBgAEggwACQQIABIIEAA0ACAQaABAIMAAkEGAASCDAAJBBgAEggwACQQIABIIEAA0ACAQaABAIMAAkEGAASCDAAJBBgAEggwACQQIABIIEAA0ACAQaABAIMAAkEGAASCDAAJBBgAEggwACQQIABIIEAA0ACAQaABAIMAAkEGAASCDAAJPh/Xe16vrINosoAAAAASUVORK5CYII=' width=480.0/>\n",
       "            </div>\n",
       "        "
      ],
      "text/plain": [
       "Canvas(toolbar=Toolbar(toolitems=[('Home', 'Reset original view', 'home', 'home'), ('Back', 'Back to previous …"
      ]
     },
     "metadata": {},
     "output_type": "display_data"
    }
   ],
   "source": [
    "a = X[0].reshape(28, 28)\n",
    "plt.matshow(a, cmap='gray')"
   ]
  },
  {
   "cell_type": "code",
   "execution_count": 5,
   "metadata": {},
   "outputs": [],
   "source": [
    "y = y.astype(np.uint8)"
   ]
  },
  {
   "cell_type": "code",
   "execution_count": 6,
   "metadata": {},
   "outputs": [],
   "source": [
    "X_train, X_test, y_train, y_test = X[:60000], X[60000:], y[:60000], y[60000:]"
   ]
  },
  {
   "cell_type": "markdown",
   "metadata": {},
   "source": [
    "### Split the Data"
   ]
  },
  {
   "cell_type": "code",
   "execution_count": 7,
   "metadata": {},
   "outputs": [
    {
     "name": "stdout",
     "output_type": "stream",
     "text": [
      "the shape of the training set (input) is: (59500, 784)\n",
      "the shape of the training set (target) is: (59500,)\n",
      "\n",
      "the shape of the test set (input) is: (10500, 784)\n",
      "the shape of the test set (target) is: (10500,)\n"
     ]
    }
   ],
   "source": [
    "\n",
    "X_train, X_test, y_train, y_test = train_test_split(X, y, test_size=0.15, random_state=1)\n",
    "\n",
    "print(f\"the shape of the training set (input) is: {X_train.shape}\")\n",
    "print(f\"the shape of the training set (target) is: {y_train.shape}\\n\")\n",
    "\n",
    "print(f\"the shape of the test set (input) is: {X_test.shape}\")\n",
    "print(f\"the shape of the test set (target) is: {y_test.shape}\")"
   ]
  },
  {
   "cell_type": "code",
   "execution_count": 8,
   "metadata": {},
   "outputs": [],
   "source": [
    "X_train, X_test = X_train / 255, X_test / 255\n"
   ]
  },
  {
   "cell_type": "code",
   "execution_count": 9,
   "metadata": {
    "deletable": false
   },
   "outputs": [
    {
     "name": "stderr",
     "output_type": "stream",
     "text": [
      "2023-11-29 22:06:52.922072: I tensorflow/compiler/xla/stream_executor/cuda/cuda_gpu_executor.cc:880] could not open file to read NUMA node: /sys/bus/pci/devices/0000:59:00.0/numa_node\n",
      "Your kernel may have been built without NUMA support.\n",
      "2023-11-29 22:06:52.940004: I tensorflow/compiler/xla/stream_executor/cuda/cuda_gpu_executor.cc:880] could not open file to read NUMA node: /sys/bus/pci/devices/0000:59:00.0/numa_node\n",
      "Your kernel may have been built without NUMA support.\n",
      "2023-11-29 22:06:52.940057: I tensorflow/compiler/xla/stream_executor/cuda/cuda_gpu_executor.cc:880] could not open file to read NUMA node: /sys/bus/pci/devices/0000:59:00.0/numa_node\n",
      "Your kernel may have been built without NUMA support.\n",
      "2023-11-29 22:06:52.941930: I tensorflow/compiler/xla/stream_executor/cuda/cuda_gpu_executor.cc:880] could not open file to read NUMA node: /sys/bus/pci/devices/0000:59:00.0/numa_node\n",
      "Your kernel may have been built without NUMA support.\n",
      "2023-11-29 22:06:52.941995: I tensorflow/compiler/xla/stream_executor/cuda/cuda_gpu_executor.cc:880] could not open file to read NUMA node: /sys/bus/pci/devices/0000:59:00.0/numa_node\n",
      "Your kernel may have been built without NUMA support.\n",
      "2023-11-29 22:06:52.942027: I tensorflow/compiler/xla/stream_executor/cuda/cuda_gpu_executor.cc:880] could not open file to read NUMA node: /sys/bus/pci/devices/0000:59:00.0/numa_node\n",
      "Your kernel may have been built without NUMA support.\n",
      "2023-11-29 22:06:53.282401: I tensorflow/compiler/xla/stream_executor/cuda/cuda_gpu_executor.cc:880] could not open file to read NUMA node: /sys/bus/pci/devices/0000:59:00.0/numa_node\n",
      "Your kernel may have been built without NUMA support.\n",
      "2023-11-29 22:06:53.282585: I tensorflow/compiler/xla/stream_executor/cuda/cuda_gpu_executor.cc:880] could not open file to read NUMA node: /sys/bus/pci/devices/0000:59:00.0/numa_node\n",
      "Your kernel may have been built without NUMA support.\n",
      "2023-11-29 22:06:53.282601: I tensorflow/core/common_runtime/gpu/gpu_device.cc:1977] Could not identify NUMA node of platform GPU id 0, defaulting to 0.  Your kernel may not have been built with NUMA support.\n",
      "2023-11-29 22:06:53.282758: I tensorflow/compiler/xla/stream_executor/cuda/cuda_gpu_executor.cc:880] could not open file to read NUMA node: /sys/bus/pci/devices/0000:59:00.0/numa_node\n",
      "Your kernel may have been built without NUMA support.\n",
      "2023-11-29 22:06:53.282842: I tensorflow/core/common_runtime/gpu/gpu_device.cc:1886] Created device /job:localhost/replica:0/task:0/device:GPU:0 with 1359 MB memory:  -> device: 0, name: NVIDIA GeForce MX450, pci bus id: 0000:59:00.0, compute capability: 7.5\n"
     ]
    },
    {
     "name": "stdout",
     "output_type": "stream",
     "text": [
      "Epoch 1/5\n"
     ]
    },
    {
     "name": "stderr",
     "output_type": "stream",
     "text": [
      "2023-11-29 22:06:54.731169: I tensorflow/tsl/platform/default/subprocess.cc:304] Start cannot spawn child process: No such file or directory\n",
      "2023-11-29 22:06:54.853553: I tensorflow/compiler/xla/service/service.cc:168] XLA service 0x7f1d22551960 initialized for platform CUDA (this does not guarantee that XLA will be used). Devices:\n",
      "2023-11-29 22:06:54.853615: I tensorflow/compiler/xla/service/service.cc:176]   StreamExecutor device (0): NVIDIA GeForce MX450, Compute Capability 7.5\n",
      "2023-11-29 22:06:54.861182: I tensorflow/compiler/mlir/tensorflow/utils/dump_mlir_util.cc:269] disabling MLIR crash reproducer, set env var `MLIR_CRASH_REPRODUCER_DIRECTORY` to enable.\n",
      "2023-11-29 22:06:54.880578: I tensorflow/compiler/xla/stream_executor/cuda/cuda_dnn.cc:442] Loaded cuDNN version 8700\n",
      "2023-11-29 22:06:54.977839: I ./tensorflow/compiler/jit/device_compiler.h:186] Compiled cluster using XLA!  This line is logged at most once for the lifetime of the process.\n"
     ]
    },
    {
     "name": "stdout",
     "output_type": "stream",
     "text": [
      "1860/1860 [==============================] - 17s 8ms/step - loss: 0.4343 - accuracy: 0.8734 - val_loss: 0.2543 - val_accuracy: 0.9257\n",
      "Epoch 2/5\n",
      "1860/1860 [==============================] - 15s 8ms/step - loss: 0.2056 - accuracy: 0.9402 - val_loss: 0.2009 - val_accuracy: 0.9410\n",
      "Epoch 3/5\n",
      "1860/1860 [==============================] - 16s 8ms/step - loss: 0.1649 - accuracy: 0.9516 - val_loss: 0.1828 - val_accuracy: 0.9456\n",
      "Epoch 4/5\n",
      "1860/1860 [==============================] - 17s 9ms/step - loss: 0.1440 - accuracy: 0.9581 - val_loss: 0.1618 - val_accuracy: 0.9522\n",
      "Epoch 5/5\n",
      "1860/1860 [==============================] - 15s 8ms/step - loss: 0.1290 - accuracy: 0.9622 - val_loss: 0.1567 - val_accuracy: 0.9537\n"
     ]
    }
   ],
   "source": [
    "tf.random.set_seed(51) # for consistent results\n",
    "model = Sequential(\n",
    "    [                     \n",
    "        Dense(25, activation = 'relu', name=\"L1\"),\n",
    "        Dense(15, activation = 'relu', name=\"L2\"),\n",
    "        Dense(10, name=\"L3\")\n",
    "\n",
    "    ], name = \"my_model\" \n",
    ")\n",
    "\n",
    "model.compile(\n",
    "    loss=tf.keras.losses.SparseCategoricalCrossentropy(from_logits=True),\n",
    "    optimizer=tf.keras.optimizers.Adam(learning_rate=0.001),\n",
    "    metrics=[\"accuracy\"]\n",
    ")\n",
    "\n",
    "history = model.fit(\n",
    "    X_train,y_train,\n",
    "    epochs=5,\n",
    "    validation_data=(X_test, y_test)\n",
    ")"
   ]
  },
  {
   "cell_type": "code",
   "execution_count": 10,
   "metadata": {
    "deletable": false,
    "editable": false
   },
   "outputs": [
    {
     "name": "stdout",
     "output_type": "stream",
     "text": [
      "Model: \"my_model\"\n",
      "_________________________________________________________________\n",
      " Layer (type)                Output Shape              Param #   \n",
      "=================================================================\n",
      " L1 (Dense)                  (None, 25)                19625     \n",
      "                                                                 \n",
      " L2 (Dense)                  (None, 15)                390       \n",
      "                                                                 \n",
      " L3 (Dense)                  (None, 10)                160       \n",
      "                                                                 \n",
      "=================================================================\n",
      "Total params: 20175 (78.81 KB)\n",
      "Trainable params: 20175 (78.81 KB)\n",
      "Non-trainable params: 0 (0.00 Byte)\n",
      "_________________________________________________________________\n"
     ]
    }
   ],
   "source": [
    "model.summary()"
   ]
  },
  {
   "cell_type": "code",
   "execution_count": 11,
   "metadata": {},
   "outputs": [],
   "source": [
    "def widgvis(fig):\n",
    "    fig.canvas.toolbar_visible = False\n",
    "    fig.canvas.header_visible = False\n",
    "    fig.canvas.footer_visible = False"
   ]
  },
  {
   "cell_type": "code",
   "execution_count": 12,
   "metadata": {},
   "outputs": [],
   "source": [
    "def plot_loss_tf(history):\n",
    "    fig,ax = plt.subplots(1,1, figsize = (4,3))\n",
    "    widgvis(fig)\n",
    "    ax.plot(history.history['loss'], label='loss')\n",
    "    ax.set_ylim([0, 2])\n",
    "    ax.set_xlabel('Epoch')\n",
    "    ax.set_ylabel('loss (cost)')\n",
    "    ax.legend()\n",
    "    ax.grid(True)\n",
    "    plt.show()"
   ]
  },
  {
   "cell_type": "code",
   "execution_count": 13,
   "metadata": {
    "deletable": false,
    "editable": false
   },
   "outputs": [
    {
     "data": {
      "application/vnd.jupyter.widget-view+json": {
       "model_id": "543e49bd93e54abc93ec29e8aac36441",
       "version_major": 2,
       "version_minor": 0
      },
      "image/png": "[encoded data removed]",
      "text/html": [
       "\n",
       "            <div style=\"display: inline-block;\">\n",
       "                <div class=\"jupyter-widgets widget-label\" style=\"text-align: center;\">\n",
       "                    Figure\n",
       "                </div>\n",
       "                <img src='data:image/png;base64,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' width=400.0/>\n",
       "            </div>\n",
       "        "
      ],
      "text/plain": [
       "Canvas(footer_visible=False, header_visible=False, toolbar=Toolbar(toolitems=[('Home', 'Reset original view', …"
      ]
     },
     "metadata": {},
     "output_type": "display_data"
    }
   ],
   "source": [
    "plot_loss_tf(history)"
   ]
  },
  {
   "cell_type": "markdown",
   "metadata": {},
   "source": [
    "#### Prediction \n",
    "To make a prediction, use Keras `predict`. Below, X[1015] contains an image of a zero."
   ]
  },
  {
   "cell_type": "code",
   "execution_count": 14,
   "metadata": {
    "deletable": false,
    "editable": false
   },
   "outputs": [
    {
     "name": "stdout",
     "output_type": "stream",
     "text": [
      "1/1 [==============================] - 0s 142ms/step\n",
      "1/1 [==============================] - 0s 24ms/step\n",
      " predicting a Zero: \n",
      "[[  920.48 -1707.37  -874.4   -933.86 -1379.71    64.68 -1438.22 -1376.25\n",
      "   -446.51  -430.51]]\n",
      " Largest Prediction index: 0\n"
     ]
    },
    {
     "data": {
      "text/plain": [
       "<matplotlib.image.AxesImage at 0x7f1def38ad40>"
      ]
     },
     "execution_count": 14,
     "metadata": {},
     "output_type": "execute_result"
    },
    {
     "data": {
      "application/vnd.jupyter.widget-view+json": {
       "model_id": "cf34ece2e915439b98ad8c503c66acec",
       "version_major": 2,
       "version_minor": 0
      },
      "image/png": "[encoded data removed]",
      "text/html": [
       "\n",
       "            <div style=\"display: inline-block;\">\n",
       "                <div class=\"jupyter-widgets widget-label\" style=\"text-align: center;\">\n",
       "                    Figure\n",
       "                </div>\n",
       "                <img src='data:image/png;base64,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' width=480.0/>\n",
       "            </div>\n",
       "        "
      ],
      "text/plain": [
       "Canvas(toolbar=Toolbar(toolitems=[('Home', 'Reset original view', 'home', 'home'), ('Back', 'Back to previous …"
      ]
     },
     "metadata": {},
     "output_type": "display_data"
    }
   ],
   "source": [
    "image_of_zero = X[1015]\n",
    "# display_digit(image_of_two)\n",
    "\n",
    "prediction = model.predict(image_of_zero.reshape(1,784))  # prediction\n",
    "prediction = model.predict(image_of_zero.reshape(1,784))  # prediction\n",
    "\n",
    "print(f\" predicting a Zero: \\n{prediction}\")\n",
    "print(f\" Largest Prediction index: {np.argmax(prediction)}\")\n",
    "\n",
    "\n",
    "b = image_of_zero.reshape(28, 28)\n",
    "plt.matshow(b, cmap='gray')"
   ]
  },
  {
   "cell_type": "code",
   "execution_count": null,
   "metadata": {},
   "outputs": [],
   "source": []
  }
 ],
 "metadata": {
  "dl_toc_settings": {
   "rndtag": "89367"
  },
  "kernelspec": {
   "display_name": "Python 3 (ipykernel)",
   "language": "python",
   "name": "python3"
  },
  "language_info": {
   "codemirror_mode": {
    "name": "ipython",
    "version": 3
   },
   "file_extension": ".py",
   "mimetype": "text/x-python",
   "name": "python",
   "nbconvert_exporter": "python",
   "pygments_lexer": "ipython3",
   "version": "3.10.13"
  }
 },
 "nbformat": 4,
 "nbformat_minor": 4
}
