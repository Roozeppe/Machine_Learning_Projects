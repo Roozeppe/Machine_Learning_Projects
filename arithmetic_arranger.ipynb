{
 "cells": [
  {
   "cell_type": "markdown",
   "metadata": {},
   "source": [
    "### Assignment\n",
    "\n",
    "Students in primary school often arrange arithmetic problems vertically to make them easier to solve. For example, \"235 + 52\" becomes:\n",
    "```\n",
    "  235\n",
    "+  52\n",
    "-----\n",
    "```\n",
    "\n",
    "Create a function that receives a list of strings that are arithmetic problems and returns the problems arranged vertically and side-by-side. The function should optionally take a second argument. When the second argument is set to `True`, the answers should be displayed.\n",
    "\n",
    "### For example\n",
    "\n",
    "Function Call:\n",
    "```py\n",
    "arithmetic_arranger([\"32 + 698\", \"3801 - 2\", \"45 + 43\", \"123 + 49\"])\n",
    "```\n",
    "\n",
    "Output:\n",
    "```\n",
    "   32      3801      45      123\n",
    "+ 698    -    2    + 43    +  49\n",
    "-----    ------    ----    -----\n",
    "```\n",
    "\n",
    "Function Call:\n",
    "```py\n",
    "arithmetic_arranger([\"32 + 8\", \"1 - 3801\", \"9999 + 9999\", \"523 - 49\"], True)\n",
    "```\n",
    "\n",
    "Output:\n",
    "```\n",
    "  32         1      9999      523\n",
    "+  8    - 3801    + 9999    -  49\n",
    "----    ------    ------    -----\n",
    "  40     -3800     19998      474\n",
    "```\n",
    "\n",
    "### Rules\n",
    "\n",
    "The function will return the correct conversion if the supplied problems are properly formatted, otherwise, it will **return** a **string** that describes an error that is meaningful to the user.\n",
    "\n",
    "\n",
    "* Situations that will return an error:\n",
    "  * If there are **too many problems** supplied to the function. The limit is **five**, anything more will return:\n",
    "    `Error: Too many problems.`\n",
    "  * The appropriate operators the function will accept are **addition** and **subtraction**. Multiplication and division will return an error. Other operators not mentioned in this bullet point will not need to be tested. The error returned will be:\n",
    "    `Error: Operator must be '+' or '-'.`\n",
    "  * Each number (operand) should only contain digits. Otherwise, the function will return:\n",
    "    `Error: Numbers must only contain digits.`\n",
    "  * Each operand (aka number on each side of the operator) has a max of four digits in width. Otherwise, the error string returned will be:\n",
    "    `Error: Numbers cannot be more than four digits.`\n",
    "*  If the user supplied the correct format of problems, the conversion you return will follow these rules:\n",
    "    * There should be a single space between the operator and the longest of the two operands, the operator will be on the same line as the second operand, both operands will be in the same order as provided (the first will be the top one and the second will be the bottom.\n",
    "    * Numbers should be right-aligned.\n",
    "    * There should be four spaces between each problem.\n",
    "    * There should be dashes at the bottom of each problem. The dashes should run along the entire length of each problem individually. (The example above shows what this should look like.)\n",
    "\n",
    "Click this [link](https://www.freecodecamp.org/learn/scientific-computing-with-python/scientific-computing-with-python-projects/arithmetic-formatter) to access this project on freeCodeCamp.org \n"
   ]
  },
  {
   "cell_type": "markdown",
   "metadata": {},
   "source": [
    "### Solution\n",
    "***"
   ]
  },
  {
   "cell_type": "code",
   "execution_count": 1,
   "metadata": {},
   "outputs": [],
   "source": [
    "# arithmetic_arranger.ipynb\n",
    "#  \n",
    "# Roozeppe Jean Pierre\n",
    "# roozeppe.jp@gmail.com\n",
    "#  \n",
    "# Arithmetic Formatter Project from freeCodeCamp.\n",
    "#\n",
    "# Create a function that receives a list of strings \n",
    "# that are arithmetic problems and returns the problems \n",
    "# arranged vertically and side-by-side. \n",
    "# The function should optionally take a second argument. \n",
    "# When the second argument is set to `True`, the answers should be displayed.\n",
    "\n",
    "def arithmetic_arranger(problems, bool=False):\n",
    "    # Checking for the amount of problems given.\n",
    "    if len(problems) > 5:\n",
    "        return \"Error: Too many problems.\"\n",
    "\n",
    "    problems_split = []\n",
    "    operands_0 = ''\n",
    "    operands_1 = ''\n",
    "    dashes = ''\n",
    "    solutions = ''\n",
    "\n",
    "    for problem in problems:\n",
    "        problems_split.append(problem.split())\n",
    "\n",
    "    for i in problems_split:\n",
    "        # Checking for the appropriate operators.\n",
    "        if i[1] == '*' or i[1] == '/':\n",
    "            return \"Error: Operator must be '+' or '-'.\"\n",
    "        # Making sure the operands are digits.\n",
    "        if i[0].isdigit() == False or i[2].isdigit() == False:\n",
    "            return 'Error: Numbers must only contain digits.' \n",
    "        # Checking for the width of each operands.\n",
    "        if len(i[0]) > 4 or len(i[2]) > 4:\n",
    "            return 'Error: Numbers cannot be more than four digits.'\n",
    "\n",
    "        # Calculating the width of each problem.\n",
    "        if len(i[0]) > len(i[2]):\n",
    "            operands_0 += ('  ' + i[0] + '    ')\n",
    "            operands_1 += (i[1] + ' ' +  ' ' * (len(i[0]) - len(i[2])) + i[2] + '    ')\n",
    "            dashes += '-' * (len(i[0]) + 2) + '    '\n",
    "            solutions += ((len(i[0]) + 2) \n",
    "            - (len(str(int(i[0]) + int(i[1] + i[2]))))) * ' ' + str(int(i[0]) \n",
    "            + int(i[1] + i[2])) + '    '\n",
    "\n",
    "        else:\n",
    "            operands_0 += ('  ' + ' ' * (len(i[2]) - len(i[0])) + i[0] + '    ')\n",
    "            operands_1 += (i[1] + ' ' + i[2] + '    ')\n",
    "            dashes += '-' * (len(i[2]) + 2) + '    '\n",
    "            solutions += ((len(i[2]) + 2) \n",
    "            - (len(str(int(i[0]) + int(i[1] + i[2]))))) * ' ' + str(int(i[0]) \n",
    "            + int(i[1] + i[2])) + '    '\n",
    "    \n",
    "    # Removing four trailing spaces.\n",
    "    operands_0 = operands_0[:-4]\n",
    "    operands_1 = operands_1[:-4]\n",
    "    dashes = dashes[:-4]\n",
    "    solutions = solutions[:-4]\n",
    "\n",
    "    arranged_problems = operands_0 + '\\n' + operands_1 + '\\n' + dashes\n",
    "    # Display solutions if bool == True.\n",
    "    if bool == True:\n",
    "        arranged_problems = operands_0 + '\\n' + operands_1 + '\\n' + dashes + '\\n' + solutions\n",
    "    \n",
    "    return arranged_problems"
   ]
  },
  {
   "cell_type": "markdown",
   "metadata": {},
   "source": [
    "### List of Tests"
   ]
  },
  {
   "cell_type": "code",
   "execution_count": 2,
   "metadata": {},
   "outputs": [
    {
     "name": "stdout",
     "output_type": "stream",
     "text": [
      "   32      3801      45      123\n",
      "+ 698    -    2    + 43    +  49\n",
      "-----    ------    ----    -----\n"
     ]
    }
   ],
   "source": [
    "t_0 = [\"32 + 698\", \"3801 - 2\", \"45 + 43\", \"123 + 49\"]\n",
    "print(arithmetic_arranger(t_0))"
   ]
  },
  {
   "cell_type": "code",
   "execution_count": 3,
   "metadata": {},
   "outputs": [
    {
     "name": "stdout",
     "output_type": "stream",
     "text": [
      "  32         1      9999      523\n",
      "+  8    - 3801    + 9999    -  49\n",
      "----    ------    ------    -----\n",
      "  40     -3800     19998      474\n"
     ]
    }
   ],
   "source": [
    "t_1 = [\"32 + 8\", \"1 - 3801\", \"9999 + 9999\", \"523 - 49\"]\n",
    "print(arithmetic_arranger(t_1, True))"
   ]
  },
  {
   "cell_type": "code",
   "execution_count": 4,
   "metadata": {},
   "outputs": [
    {
     "name": "stdout",
     "output_type": "stream",
     "text": [
      "  3801      123\n",
      "-    2    +  49\n",
      "------    -----\n"
     ]
    }
   ],
   "source": [
    "t_2 = ['3801 - 2', '123 + 49']\n",
    "print(arithmetic_arranger(t_2))"
   ]
  },
  {
   "cell_type": "code",
   "execution_count": 5,
   "metadata": {},
   "outputs": [
    {
     "name": "stdout",
     "output_type": "stream",
     "text": [
      "  1         1\n",
      "+ 2    - 9380\n",
      "---    ------\n"
     ]
    }
   ],
   "source": [
    "t_3 = ['1 + 2', '1 - 9380']\n",
    "print(arithmetic_arranger(t_3))"
   ]
  },
  {
   "cell_type": "code",
   "execution_count": 6,
   "metadata": {},
   "outputs": [
    {
     "name": "stdout",
     "output_type": "stream",
     "text": [
      "    3      3801      45      123\n",
      "+ 855    -    2    + 43    +  49\n",
      "-----    ------    ----    -----\n"
     ]
    }
   ],
   "source": [
    "t_4 = ['3 + 855', '3801 - 2', '45 + 43', '123 + 49']\n",
    "print(arithmetic_arranger(t_4))"
   ]
  },
  {
   "cell_type": "code",
   "execution_count": 7,
   "metadata": {},
   "outputs": [
    {
     "name": "stdout",
     "output_type": "stream",
     "text": [
      "  11      3801      1      123         1\n",
      "+  4    - 2999    + 2    +  49    - 9380\n",
      "----    ------    ---    -----    ------\n"
     ]
    }
   ],
   "source": [
    "t_5 = ['11 + 4', '3801 - 2999', '1 + 2', '123 + 49', '1 - 9380']\n",
    "print(arithmetic_arranger(t_5))"
   ]
  },
  {
   "cell_type": "code",
   "execution_count": 8,
   "metadata": {},
   "outputs": [
    {
     "name": "stdout",
     "output_type": "stream",
     "text": [
      "Error: Too many problems.\n"
     ]
    }
   ],
   "source": [
    "t_6 = ['44 + 815', '909 - 2', '45 + 43', '123 + 49', '888 + 40', '653 + 87']\n",
    "print(arithmetic_arranger(t_6))"
   ]
  },
  {
   "cell_type": "code",
   "execution_count": 9,
   "metadata": {},
   "outputs": [
    {
     "name": "stdout",
     "output_type": "stream",
     "text": [
      "Error: Operator must be '+' or '-'.\n"
     ]
    }
   ],
   "source": [
    "t_7 = ['3 / 855', '3801 - 2', '45 + 43', '123 + 49']\n",
    "print(arithmetic_arranger(t_7))"
   ]
  },
  {
   "cell_type": "code",
   "execution_count": 10,
   "metadata": {},
   "outputs": [
    {
     "name": "stdout",
     "output_type": "stream",
     "text": [
      "Error: Numbers cannot be more than four digits.\n"
     ]
    }
   ],
   "source": [
    "t_8 = ['24 + 85215', '3801 - 2', '45 + 43', '123 + 49']\n",
    "print(arithmetic_arranger(t_8))"
   ]
  },
  {
   "cell_type": "code",
   "execution_count": 11,
   "metadata": {},
   "outputs": [
    {
     "name": "stdout",
     "output_type": "stream",
     "text": [
      "Error: Numbers must only contain digits.\n"
     ]
    }
   ],
   "source": [
    "t_9 = ['98 + 3g5', '3801 - 2', '45 + 43', '123 + 49']\n",
    "print(arithmetic_arranger(t_9))"
   ]
  },
  {
   "cell_type": "code",
   "execution_count": 12,
   "metadata": {},
   "outputs": [
    {
     "name": "stdout",
     "output_type": "stream",
     "text": [
      "    3      988\n",
      "+ 855    +  40\n",
      "-----    -----\n",
      "  858     1028\n"
     ]
    }
   ],
   "source": [
    "\n",
    "t_10 = ['3 + 855', '988 + 40']\n",
    "print(arithmetic_arranger(t_10, True))"
   ]
  },
  {
   "cell_type": "code",
   "execution_count": 13,
   "metadata": {},
   "outputs": [
    {
     "name": "stdout",
     "output_type": "stream",
     "text": [
      "   32         1      45      123      988\n",
      "- 698    - 3801    + 43    +  49    +  40\n",
      "-----    ------    ----    -----    -----\n",
      " -666     -3800      88      172     1028\n"
     ]
    }
   ],
   "source": [
    "t_11 = ['32 - 698', '1 - 3801', '45 + 43', '123 + 49', '988 + 40']\n",
    "print(arithmetic_arranger(t_11, True))"
   ]
  }
 ],
 "metadata": {
  "kernelspec": {
   "display_name": "Python 3 (ipykernel)",
   "language": "python",
   "name": "python3"
  },
  "language_info": {
   "codemirror_mode": {
    "name": "ipython",
    "version": 3
   },
   "file_extension": ".py",
   "mimetype": "text/x-python",
   "name": "python",
   "nbconvert_exporter": "python",
   "pygments_lexer": "ipython3",
   "version": "3.9.7"
  }
 },
 "nbformat": 4,
 "nbformat_minor": 4
}
