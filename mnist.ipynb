{
 "cells": [
  {
   "cell_type": "code",
   "execution_count": 1,
   "id": "9efe9d52",
   "metadata": {
    "_cell_guid": "b1076dfc-b9ad-4769-8c92-a6c4dae69d19",
    "_uuid": "8f2839f25d086af736a60e9eeb907d3b93b6e0e5",
    "execution": {
     "iopub.execute_input": "2023-04-24T06:19:01.481738Z",
     "iopub.status.busy": "2023-04-24T06:19:01.481259Z",
     "iopub.status.idle": "2023-04-24T06:19:01.492603Z",
     "shell.execute_reply": "2023-04-24T06:19:01.491614Z"
    },
    "papermill": {
     "duration": 0.027804,
     "end_time": "2023-04-24T06:19:01.495209",
     "exception": false,
     "start_time": "2023-04-24T06:19:01.467405",
     "status": "completed"
    },
    "tags": []
   },
   "outputs": [],
   "source": [
    "# This Python 3 environment comes with many helpful analytics libraries installed\n",
    "# It is defined by the kaggle/python Docker image: https://github.com/kaggle/docker-python\n",
    "# For example, here's several helpful packages to load\n",
    "\n",
    "import numpy as np # linear algebra\n",
    "import pandas as pd # data processing, CSV file I/O (e.g. pd.read_csv)\n",
    "\n",
    "# Input data files are available in the read-only \"../input/\" directory\n",
    "# For example, running this (by clicking run or pressing Shift+Enter) will list all files under the input directory\n",
    "\n",
    "import os\n",
    "for dirname, _, filenames in os.walk('/kaggle/input'):\n",
    "    for filename in filenames:\n",
    "        print(os.path.join(dirname, filename))\n",
    "\n",
    "# You can write up to 20GB to the current directory (/kaggle/working/) that gets preserved as output when you create a version using \"Save & Run All\" \n",
    "# You can also write temporary files to /kaggle/temp/, but they won't be saved outside of the current session"
   ]
  },
  {
   "cell_type": "markdown",
   "id": "fa03d816",
   "metadata": {
    "papermill": {
     "duration": 0.007301,
     "end_time": "2023-04-24T06:19:01.510490",
     "exception": false,
     "start_time": "2023-04-24T06:19:01.503189",
     "status": "completed"
    },
    "tags": []
   },
   "source": [
    "### 1. Frame the problem and look at the big picture\n"
   ]
  },
  {
   "cell_type": "markdown",
   "id": "34d20939",
   "metadata": {
    "papermill": {
     "duration": 0.007293,
     "end_time": "2023-04-24T06:19:01.525450",
     "exception": false,
     "start_time": "2023-04-24T06:19:01.518157",
     "status": "completed"
    },
    "tags": []
   },
   "source": [
    "How to idientify handwritten digits?"
   ]
  },
  {
   "cell_type": "markdown",
   "id": "dafa1ae3",
   "metadata": {
    "papermill": {
     "duration": 0.007299,
     "end_time": "2023-04-24T06:19:01.540479",
     "exception": false,
     "start_time": "2023-04-24T06:19:01.533180",
     "status": "completed"
    },
    "tags": []
   },
   "source": [
    "### 2. Get the Data"
   ]
  },
  {
   "cell_type": "code",
   "execution_count": 2,
   "id": "abfaca34",
   "metadata": {
    "execution": {
     "iopub.execute_input": "2023-04-24T06:19:01.557781Z",
     "iopub.status.busy": "2023-04-24T06:19:01.557020Z",
     "iopub.status.idle": "2023-04-24T06:19:32.218931Z",
     "shell.execute_reply": "2023-04-24T06:19:32.218041Z"
    },
    "papermill": {
     "duration": 30.673395,
     "end_time": "2023-04-24T06:19:32.221454",
     "exception": false,
     "start_time": "2023-04-24T06:19:01.548059",
     "status": "completed"
    },
    "tags": []
   },
   "outputs": [],
   "source": [
    "from sklearn.datasets import fetch_openml\n",
    "mnist = fetch_openml('mnist_784', as_frame=False)"
   ]
  },
  {
   "cell_type": "markdown",
   "id": "3dcfea37",
   "metadata": {
    "papermill": {
     "duration": 0.007318,
     "end_time": "2023-04-24T06:19:32.236749",
     "exception": false,
     "start_time": "2023-04-24T06:19:32.229431",
     "status": "completed"
    },
    "tags": []
   },
   "source": [
    "### 3. Explore the data to gain insights"
   ]
  },
  {
   "cell_type": "code",
   "execution_count": 3,
   "id": "92b7b787",
   "metadata": {
    "execution": {
     "iopub.execute_input": "2023-04-24T06:19:32.254086Z",
     "iopub.status.busy": "2023-04-24T06:19:32.253508Z",
     "iopub.status.idle": "2023-04-24T06:19:32.258351Z",
     "shell.execute_reply": "2023-04-24T06:19:32.257585Z"
    },
    "papermill": {
     "duration": 0.01679,
     "end_time": "2023-04-24T06:19:32.261186",
     "exception": false,
     "start_time": "2023-04-24T06:19:32.244396",
     "status": "completed"
    },
    "tags": []
   },
   "outputs": [
    {
     "name": "stdout",
     "output_type": "stream",
     "text": [
      "**Author**: Yann LeCun, Corinna Cortes, Christopher J.C. Burges  \n",
      "**Source**: [MNIST Website](http://yann.lecun.com/exdb/mnist/) - Date unknown  \n",
      "**Please cite**:  \n",
      "\n",
      "The MNIST database of handwritten digits with 784 features, raw data available at: http://yann.lecun.com/exdb/mnist/. It can be split in a training set of the first 60,000 examples, and a test set of 10,000 examples  \n",
      "\n",
      "It is a subset of a larger set available from NIST. The digits have been size-normalized and centered in a fixed-size image. It is a good database for people who want to try learning techniques and pattern recognition methods on real-world data while spending minimal efforts on preprocessing and formatting. The original black and white (bilevel) images from NIST were size normalized to fit in a 20x20 pixel box while preserving their aspect ratio. The resulting images contain grey levels as a result of the anti-aliasing technique used by the normalization algorithm. the images were centered in a 28x28 image by computing the center of mass of the pixels, and translating the image so as to position this point at the center of the 28x28 field.  \n",
      "\n",
      "With some classification methods (particularly template-based methods, such as SVM and K-nearest neighbors), the error rate improves when the digits are centered by bounding box rather than center of mass. If you do this kind of pre-processing, you should report it in your publications. The MNIST database was constructed from NIST's NIST originally designated SD-3 as their training set and SD-1 as their test set. However, SD-3 is much cleaner and easier to recognize than SD-1. The reason for this can be found on the fact that SD-3 was collected among Census Bureau employees, while SD-1 was collected among high-school students. Drawing sensible conclusions from learning experiments requires that the result be independent of the choice of training set and test among the complete set of samples. Therefore it was necessary to build a new database by mixing NIST's datasets.  \n",
      "\n",
      "The MNIST training set is composed of 30,000 patterns from SD-3 and 30,000 patterns from SD-1. Our test set was composed of 5,000 patterns from SD-3 and 5,000 patterns from SD-1. The 60,000 pattern training set contained examples from approximately 250 writers. We made sure that the sets of writers of the training set and test set were disjoint. SD-1 contains 58,527 digit images written by 500 different writers. In contrast to SD-3, where blocks of data from each writer appeared in sequence, the data in SD-1 is scrambled. Writer identities for SD-1 is available and we used this information to unscramble the writers. We then split SD-1 in two: characters written by the first 250 writers went into our new training set. The remaining 250 writers were placed in our test set. Thus we had two sets with nearly 30,000 examples each. The new training set was completed with enough examples from SD-3, starting at pattern # 0, to make a full set of 60,000 training patterns. Similarly, the new test set was completed with SD-3 examples starting at pattern # 35,000 to make a full set with 60,000 test patterns. Only a subset of 10,000 test images (5,000 from SD-1 and 5,000 from SD-3) is available on this site. The full 60,000 sample training set is available.\n",
      "\n",
      "Downloaded from openml.org.\n"
     ]
    }
   ],
   "source": [
    "print(mnist.DESCR)"
   ]
  },
  {
   "cell_type": "code",
   "execution_count": 4,
   "id": "854cacfd",
   "metadata": {
    "execution": {
     "iopub.execute_input": "2023-04-24T06:19:32.278430Z",
     "iopub.status.busy": "2023-04-24T06:19:32.278018Z",
     "iopub.status.idle": "2023-04-24T06:19:32.286189Z",
     "shell.execute_reply": "2023-04-24T06:19:32.285176Z"
    },
    "papermill": {
     "duration": 0.019493,
     "end_time": "2023-04-24T06:19:32.288476",
     "exception": false,
     "start_time": "2023-04-24T06:19:32.268983",
     "status": "completed"
    },
    "tags": []
   },
   "outputs": [
    {
     "data": {
      "text/plain": [
       "dict_keys(['data', 'target', 'frame', 'categories', 'feature_names', 'target_names', 'DESCR', 'details', 'url'])"
      ]
     },
     "execution_count": 4,
     "metadata": {},
     "output_type": "execute_result"
    }
   ],
   "source": [
    "mnist.keys()"
   ]
  },
  {
   "cell_type": "code",
   "execution_count": 5,
   "id": "2859eb5e",
   "metadata": {
    "execution": {
     "iopub.execute_input": "2023-04-24T06:19:32.306103Z",
     "iopub.status.busy": "2023-04-24T06:19:32.305702Z",
     "iopub.status.idle": "2023-04-24T06:19:32.312041Z",
     "shell.execute_reply": "2023-04-24T06:19:32.311286Z"
    },
    "papermill": {
     "duration": 0.017522,
     "end_time": "2023-04-24T06:19:32.314039",
     "exception": false,
     "start_time": "2023-04-24T06:19:32.296517",
     "status": "completed"
    },
    "tags": []
   },
   "outputs": [
    {
     "data": {
      "text/plain": [
       "(70000, 784)"
      ]
     },
     "execution_count": 5,
     "metadata": {},
     "output_type": "execute_result"
    }
   ],
   "source": [
    "# Capture the data and target into X, y variables respectively.\n",
    "X, y = mnist.data, mnist.target\n",
    "X.shape"
   ]
  },
  {
   "cell_type": "code",
   "execution_count": 6,
   "id": "24bf23a0",
   "metadata": {
    "execution": {
     "iopub.execute_input": "2023-04-24T06:19:32.332151Z",
     "iopub.status.busy": "2023-04-24T06:19:32.331737Z",
     "iopub.status.idle": "2023-04-24T06:19:32.339337Z",
     "shell.execute_reply": "2023-04-24T06:19:32.338100Z"
    },
    "papermill": {
     "duration": 0.019642,
     "end_time": "2023-04-24T06:19:32.341644",
     "exception": false,
     "start_time": "2023-04-24T06:19:32.322002",
     "status": "completed"
    },
    "tags": []
   },
   "outputs": [
    {
     "data": {
      "text/plain": [
       "array([[0., 0., 0., ..., 0., 0., 0.],\n",
       "       [0., 0., 0., ..., 0., 0., 0.],\n",
       "       [0., 0., 0., ..., 0., 0., 0.],\n",
       "       ...,\n",
       "       [0., 0., 0., ..., 0., 0., 0.],\n",
       "       [0., 0., 0., ..., 0., 0., 0.],\n",
       "       [0., 0., 0., ..., 0., 0., 0.]])"
      ]
     },
     "execution_count": 6,
     "metadata": {},
     "output_type": "execute_result"
    }
   ],
   "source": [
    "X"
   ]
  },
  {
   "cell_type": "code",
   "execution_count": 7,
   "id": "e26bcb13",
   "metadata": {
    "execution": {
     "iopub.execute_input": "2023-04-24T06:19:32.359707Z",
     "iopub.status.busy": "2023-04-24T06:19:32.359257Z",
     "iopub.status.idle": "2023-04-24T06:19:32.365819Z",
     "shell.execute_reply": "2023-04-24T06:19:32.364973Z"
    },
    "papermill": {
     "duration": 0.018042,
     "end_time": "2023-04-24T06:19:32.367934",
     "exception": false,
     "start_time": "2023-04-24T06:19:32.349892",
     "status": "completed"
    },
    "tags": []
   },
   "outputs": [
    {
     "data": {
      "text/plain": [
       "(70000,)"
      ]
     },
     "execution_count": 7,
     "metadata": {},
     "output_type": "execute_result"
    }
   ],
   "source": [
    "y.shape"
   ]
  },
  {
   "cell_type": "code",
   "execution_count": 8,
   "id": "896af6f5",
   "metadata": {
    "execution": {
     "iopub.execute_input": "2023-04-24T06:19:32.386597Z",
     "iopub.status.busy": "2023-04-24T06:19:32.386211Z",
     "iopub.status.idle": "2023-04-24T06:19:32.392909Z",
     "shell.execute_reply": "2023-04-24T06:19:32.391651Z"
    },
    "papermill": {
     "duration": 0.019128,
     "end_time": "2023-04-24T06:19:32.395551",
     "exception": false,
     "start_time": "2023-04-24T06:19:32.376423",
     "status": "completed"
    },
    "tags": []
   },
   "outputs": [
    {
     "data": {
      "text/plain": [
       "array(['5', '0', '4', ..., '4', '5', '6'], dtype=object)"
      ]
     },
     "execution_count": 8,
     "metadata": {},
     "output_type": "execute_result"
    }
   ],
   "source": [
    "y"
   ]
  },
  {
   "cell_type": "code",
   "execution_count": 9,
   "id": "29802e34",
   "metadata": {
    "execution": {
     "iopub.execute_input": "2023-04-24T06:19:32.414367Z",
     "iopub.status.busy": "2023-04-24T06:19:32.413917Z",
     "iopub.status.idle": "2023-04-24T06:19:32.533256Z",
     "shell.execute_reply": "2023-04-24T06:19:32.531570Z"
    },
    "papermill": {
     "duration": 0.133821,
     "end_time": "2023-04-24T06:19:32.537849",
     "exception": false,
     "start_time": "2023-04-24T06:19:32.404028",
     "status": "completed"
    },
    "tags": []
   },
   "outputs": [
    {
     "data": {
      "image/png": "[encoded data removed]",
      "text/plain": [
       "<Figure size 640x480 with 1 Axes>"
      ]
     },
     "metadata": {},
     "output_type": "display_data"
    }
   ],
   "source": [
    "# Display a digit from the dataset using matplolib.\n",
    "import matplotlib as mpl\n",
    "import matplotlib.pyplot as plt\n",
    "\n",
    "some_digit = X[0]\n",
    "some_digit_image = some_digit.reshape(28, 28)\n",
    "\n",
    "plt.imshow(some_digit_image, cmap=mpl.cm.binary)\n",
    "plt.axis('off')\n",
    "plt.show()"
   ]
  },
  {
   "cell_type": "code",
   "execution_count": 10,
   "id": "26cbd540",
   "metadata": {
    "execution": {
     "iopub.execute_input": "2023-04-24T06:19:32.589225Z",
     "iopub.status.busy": "2023-04-24T06:19:32.587923Z",
     "iopub.status.idle": "2023-04-24T06:19:32.596678Z",
     "shell.execute_reply": "2023-04-24T06:19:32.595825Z"
    },
    "papermill": {
     "duration": 0.037155,
     "end_time": "2023-04-24T06:19:32.598729",
     "exception": false,
     "start_time": "2023-04-24T06:19:32.561574",
     "status": "completed"
    },
    "tags": []
   },
   "outputs": [
    {
     "data": {
      "text/plain": [
       "'5'"
      ]
     },
     "execution_count": 10,
     "metadata": {},
     "output_type": "execute_result"
    }
   ],
   "source": [
    "y[0]"
   ]
  },
  {
   "cell_type": "code",
   "execution_count": 11,
   "id": "a9d043d7",
   "metadata": {
    "execution": {
     "iopub.execute_input": "2023-04-24T06:19:32.618048Z",
     "iopub.status.busy": "2023-04-24T06:19:32.617364Z",
     "iopub.status.idle": "2023-04-24T06:19:32.627767Z",
     "shell.execute_reply": "2023-04-24T06:19:32.626807Z"
    },
    "papermill": {
     "duration": 0.022731,
     "end_time": "2023-04-24T06:19:32.630093",
     "exception": false,
     "start_time": "2023-04-24T06:19:32.607362",
     "status": "completed"
    },
    "tags": []
   },
   "outputs": [],
   "source": [
    "y = y.astype(np.uint8)"
   ]
  },
  {
   "cell_type": "markdown",
   "id": "ff5bb979",
   "metadata": {
    "papermill": {
     "duration": 0.008305,
     "end_time": "2023-04-24T06:19:32.647123",
     "exception": false,
     "start_time": "2023-04-24T06:19:32.638818",
     "status": "completed"
    },
    "tags": []
   },
   "source": [
    "### 4. Prepare the data to better expose the underlying data patterns to Machine Learning algorithms"
   ]
  },
  {
   "cell_type": "code",
   "execution_count": 12,
   "id": "06d46e90",
   "metadata": {
    "execution": {
     "iopub.execute_input": "2023-04-24T06:19:32.666246Z",
     "iopub.status.busy": "2023-04-24T06:19:32.665537Z",
     "iopub.status.idle": "2023-04-24T06:19:32.670141Z",
     "shell.execute_reply": "2023-04-24T06:19:32.669338Z"
    },
    "papermill": {
     "duration": 0.016611,
     "end_time": "2023-04-24T06:19:32.672301",
     "exception": false,
     "start_time": "2023-04-24T06:19:32.655690",
     "status": "completed"
    },
    "tags": []
   },
   "outputs": [],
   "source": [
    "# Split the data into a train and a test set.\n",
    "X_train, X_test, y_train, y_test = X[:60000], X[60000:], y[:60000], y[60000:]"
   ]
  },
  {
   "cell_type": "markdown",
   "id": "7f67fbe7",
   "metadata": {
    "papermill": {
     "duration": 0.008295,
     "end_time": "2023-04-24T06:19:32.689637",
     "exception": false,
     "start_time": "2023-04-24T06:19:32.681342",
     "status": "completed"
    },
    "tags": []
   },
   "source": [
    "### 5. Explore many different models and short-list the best ones"
   ]
  },
  {
   "cell_type": "markdown",
   "id": "530a8a58",
   "metadata": {
    "papermill": {
     "duration": 0.008239,
     "end_time": "2023-04-24T06:19:32.706467",
     "exception": false,
     "start_time": "2023-04-24T06:19:32.698228",
     "status": "completed"
    },
    "tags": []
   },
   "source": [
    "#### Stochastic Gradient Descent classifier"
   ]
  },
  {
   "cell_type": "code",
   "execution_count": 13,
   "id": "1339f5aa",
   "metadata": {
    "execution": {
     "iopub.execute_input": "2023-04-24T06:19:32.725451Z",
     "iopub.status.busy": "2023-04-24T06:19:32.724728Z",
     "iopub.status.idle": "2023-04-24T06:23:01.886012Z",
     "shell.execute_reply": "2023-04-24T06:23:01.884394Z"
    },
    "papermill": {
     "duration": 209.18117,
     "end_time": "2023-04-24T06:23:01.896012",
     "exception": false,
     "start_time": "2023-04-24T06:19:32.714842",
     "status": "completed"
    },
    "tags": []
   },
   "outputs": [
    {
     "data": {
      "text/plain": [
       "SGDClassifier(random_state=51)"
      ]
     },
     "execution_count": 13,
     "metadata": {},
     "output_type": "execute_result"
    }
   ],
   "source": [
    "from sklearn.linear_model import SGDClassifier\n",
    "sgd_clf = SGDClassifier(max_iter=1000, tol=1e-3, random_state=51)\n",
    "sgd_clf.fit(X_train, y_train)"
   ]
  },
  {
   "cell_type": "markdown",
   "id": "15141c4b",
   "metadata": {
    "papermill": {
     "duration": 0.008575,
     "end_time": "2023-04-24T06:23:01.913479",
     "exception": false,
     "start_time": "2023-04-24T06:23:01.904904",
     "status": "completed"
    },
    "tags": []
   },
   "source": [
    "#### Support Vector Mchine classifier"
   ]
  },
  {
   "cell_type": "code",
   "execution_count": 14,
   "id": "53a7e304",
   "metadata": {
    "execution": {
     "iopub.execute_input": "2023-04-24T06:23:01.932591Z",
     "iopub.status.busy": "2023-04-24T06:23:01.932193Z",
     "iopub.status.idle": "2023-04-24T06:24:14.669670Z",
     "shell.execute_reply": "2023-04-24T06:24:14.668489Z"
    },
    "papermill": {
     "duration": 72.758801,
     "end_time": "2023-04-24T06:24:14.680965",
     "exception": false,
     "start_time": "2023-04-24T06:23:01.922164",
     "status": "completed"
    },
    "tags": []
   },
   "outputs": [
    {
     "data": {
      "text/plain": [
       "SVC(gamma='auto', random_state=51)"
      ]
     },
     "execution_count": 14,
     "metadata": {},
     "output_type": "execute_result"
    }
   ],
   "source": [
    "from sklearn.svm import SVC\n",
    "\n",
    "svm_clf = SVC(gamma='auto', random_state=51)\n",
    "svm_clf.fit(X_train[:10000], y_train[:10000])"
   ]
  },
  {
   "cell_type": "markdown",
   "id": "460a063f",
   "metadata": {
    "papermill": {
     "duration": 0.008507,
     "end_time": "2023-04-24T06:24:14.698129",
     "exception": false,
     "start_time": "2023-04-24T06:24:14.689622",
     "status": "completed"
    },
    "tags": []
   },
   "source": [
    "#### K-nearest neighbors (KNN) classifier"
   ]
  },
  {
   "cell_type": "code",
   "execution_count": 15,
   "id": "86d5c478",
   "metadata": {
    "execution": {
     "iopub.execute_input": "2023-04-24T06:24:14.718031Z",
     "iopub.status.busy": "2023-04-24T06:24:14.717392Z",
     "iopub.status.idle": "2023-04-24T06:24:14.823854Z",
     "shell.execute_reply": "2023-04-24T06:24:14.822640Z"
    },
    "papermill": {
     "duration": 0.119211,
     "end_time": "2023-04-24T06:24:14.826160",
     "exception": false,
     "start_time": "2023-04-24T06:24:14.706949",
     "status": "completed"
    },
    "tags": []
   },
   "outputs": [
    {
     "data": {
      "text/plain": [
       "KNeighborsClassifier(n_neighbors=4, weights='distance')"
      ]
     },
     "execution_count": 15,
     "metadata": {},
     "output_type": "execute_result"
    }
   ],
   "source": [
    "from sklearn.neighbors import KNeighborsClassifier\n",
    "knn_clf = KNeighborsClassifier(weights='distance', n_neighbors=4)\n",
    "knn_clf.fit(X_train, y_train)"
   ]
  },
  {
   "cell_type": "markdown",
   "id": "a1a2aa5e",
   "metadata": {
    "papermill": {
     "duration": 0.008601,
     "end_time": "2023-04-24T06:24:14.843912",
     "exception": false,
     "start_time": "2023-04-24T06:24:14.835311",
     "status": "completed"
    },
    "tags": []
   },
   "source": [
    "#### Performance Measures\n"
   ]
  },
  {
   "cell_type": "markdown",
   "id": "7dc1547d",
   "metadata": {
    "papermill": {
     "duration": 0.008703,
     "end_time": "2023-04-24T06:24:14.861463",
     "exception": false,
     "start_time": "2023-04-24T06:24:14.852760",
     "status": "completed"
    },
    "tags": []
   },
   "source": [
    "#### Predictions on a single digit"
   ]
  },
  {
   "cell_type": "code",
   "execution_count": 16,
   "id": "d74d5e02",
   "metadata": {
    "execution": {
     "iopub.execute_input": "2023-04-24T06:24:14.881338Z",
     "iopub.status.busy": "2023-04-24T06:24:14.880604Z",
     "iopub.status.idle": "2023-04-24T06:24:14.887574Z",
     "shell.execute_reply": "2023-04-24T06:24:14.886746Z"
    },
    "papermill": {
     "duration": 0.019377,
     "end_time": "2023-04-24T06:24:14.889618",
     "exception": false,
     "start_time": "2023-04-24T06:24:14.870241",
     "status": "completed"
    },
    "tags": []
   },
   "outputs": [
    {
     "data": {
      "text/plain": [
       "array([5], dtype=uint8)"
      ]
     },
     "execution_count": 16,
     "metadata": {},
     "output_type": "execute_result"
    }
   ],
   "source": [
    "sgd_clf.predict([some_digit])"
   ]
  },
  {
   "cell_type": "code",
   "execution_count": 17,
   "id": "7eb9b379",
   "metadata": {
    "execution": {
     "iopub.execute_input": "2023-04-24T06:24:14.910535Z",
     "iopub.status.busy": "2023-04-24T06:24:14.909759Z",
     "iopub.status.idle": "2023-04-24T06:24:14.926956Z",
     "shell.execute_reply": "2023-04-24T06:24:14.925759Z"
    },
    "papermill": {
     "duration": 0.030414,
     "end_time": "2023-04-24T06:24:14.929476",
     "exception": false,
     "start_time": "2023-04-24T06:24:14.899062",
     "status": "completed"
    },
    "tags": []
   },
   "outputs": [
    {
     "data": {
      "text/plain": [
       "array([5], dtype=uint8)"
      ]
     },
     "execution_count": 17,
     "metadata": {},
     "output_type": "execute_result"
    }
   ],
   "source": [
    "svm_clf.predict([some_digit])"
   ]
  },
  {
   "cell_type": "code",
   "execution_count": 18,
   "id": "bfdf80ec",
   "metadata": {
    "execution": {
     "iopub.execute_input": "2023-04-24T06:24:14.949922Z",
     "iopub.status.busy": "2023-04-24T06:24:14.949495Z",
     "iopub.status.idle": "2023-04-24T06:24:15.056863Z",
     "shell.execute_reply": "2023-04-24T06:24:15.055255Z"
    },
    "papermill": {
     "duration": 0.122237,
     "end_time": "2023-04-24T06:24:15.061095",
     "exception": false,
     "start_time": "2023-04-24T06:24:14.938858",
     "status": "completed"
    },
    "tags": []
   },
   "outputs": [
    {
     "data": {
      "text/plain": [
       "array([5], dtype=uint8)"
      ]
     },
     "execution_count": 18,
     "metadata": {},
     "output_type": "execute_result"
    }
   ],
   "source": [
    "knn_clf.predict([some_digit])"
   ]
  },
  {
   "cell_type": "code",
   "execution_count": 19,
   "id": "45b56695",
   "metadata": {
    "execution": {
     "iopub.execute_input": "2023-04-24T06:24:15.112456Z",
     "iopub.status.busy": "2023-04-24T06:24:15.111742Z",
     "iopub.status.idle": "2023-04-24T06:24:15.118770Z",
     "shell.execute_reply": "2023-04-24T06:24:15.117270Z"
    },
    "papermill": {
     "duration": 0.037188,
     "end_time": "2023-04-24T06:24:15.122703",
     "exception": false,
     "start_time": "2023-04-24T06:24:15.085515",
     "status": "completed"
    },
    "tags": []
   },
   "outputs": [],
   "source": [
    "#sgd_clf.decision_function([some_digit])"
   ]
  },
  {
   "cell_type": "code",
   "execution_count": 20,
   "id": "617e5a2a",
   "metadata": {
    "execution": {
     "iopub.execute_input": "2023-04-24T06:24:15.170934Z",
     "iopub.status.busy": "2023-04-24T06:24:15.170548Z",
     "iopub.status.idle": "2023-04-24T06:24:15.174855Z",
     "shell.execute_reply": "2023-04-24T06:24:15.173935Z"
    },
    "papermill": {
     "duration": 0.030173,
     "end_time": "2023-04-24T06:24:15.177237",
     "exception": false,
     "start_time": "2023-04-24T06:24:15.147064",
     "status": "completed"
    },
    "tags": []
   },
   "outputs": [],
   "source": [
    "#from sklearn.model_selection import cross_val_score\n",
    "#cross_val_score(sgd_clf, X_train, y_train, cv=3, scoring='accuracy')"
   ]
  },
  {
   "cell_type": "code",
   "execution_count": 21,
   "id": "78494224",
   "metadata": {
    "execution": {
     "iopub.execute_input": "2023-04-24T06:24:15.198505Z",
     "iopub.status.busy": "2023-04-24T06:24:15.197229Z",
     "iopub.status.idle": "2023-04-24T06:24:15.201739Z",
     "shell.execute_reply": "2023-04-24T06:24:15.200914Z"
    },
    "papermill": {
     "duration": 0.017155,
     "end_time": "2023-04-24T06:24:15.203898",
     "exception": false,
     "start_time": "2023-04-24T06:24:15.186743",
     "status": "completed"
    },
    "tags": []
   },
   "outputs": [],
   "source": [
    "#some_digit_scores = svm_clf.decision_function([some_digit])\n",
    "#some_digit_scores"
   ]
  },
  {
   "cell_type": "code",
   "execution_count": 22,
   "id": "08a565b0",
   "metadata": {
    "execution": {
     "iopub.execute_input": "2023-04-24T06:24:15.224568Z",
     "iopub.status.busy": "2023-04-24T06:24:15.224116Z",
     "iopub.status.idle": "2023-04-24T06:24:15.228825Z",
     "shell.execute_reply": "2023-04-24T06:24:15.227591Z"
    },
    "papermill": {
     "duration": 0.018088,
     "end_time": "2023-04-24T06:24:15.231388",
     "exception": false,
     "start_time": "2023-04-24T06:24:15.213300",
     "status": "completed"
    },
    "tags": []
   },
   "outputs": [],
   "source": [
    "#np.argmax(some_digit_scores)"
   ]
  },
  {
   "cell_type": "code",
   "execution_count": 23,
   "id": "8bbad366",
   "metadata": {
    "execution": {
     "iopub.execute_input": "2023-04-24T06:24:15.253677Z",
     "iopub.status.busy": "2023-04-24T06:24:15.252796Z",
     "iopub.status.idle": "2023-04-24T06:24:15.258108Z",
     "shell.execute_reply": "2023-04-24T06:24:15.256795Z"
    },
    "papermill": {
     "duration": 0.019493,
     "end_time": "2023-04-24T06:24:15.260587",
     "exception": false,
     "start_time": "2023-04-24T06:24:15.241094",
     "status": "completed"
    },
    "tags": []
   },
   "outputs": [],
   "source": [
    "#svm_clf.classes_"
   ]
  },
  {
   "cell_type": "code",
   "execution_count": 24,
   "id": "0a1a6bab",
   "metadata": {
    "execution": {
     "iopub.execute_input": "2023-04-24T06:24:15.281531Z",
     "iopub.status.busy": "2023-04-24T06:24:15.280592Z",
     "iopub.status.idle": "2023-04-24T06:24:15.284869Z",
     "shell.execute_reply": "2023-04-24T06:24:15.283925Z"
    },
    "papermill": {
     "duration": 0.017166,
     "end_time": "2023-04-24T06:24:15.287188",
     "exception": false,
     "start_time": "2023-04-24T06:24:15.270022",
     "status": "completed"
    },
    "tags": []
   },
   "outputs": [],
   "source": [
    "#svm_clf.classes_[5]"
   ]
  }
 ],
 "metadata": {
  "kernelspec": {
   "display_name": "Python 3",
   "language": "python",
   "name": "python3"
  },
  "language_info": {
   "codemirror_mode": {
    "name": "ipython",
    "version": 3
   },
   "file_extension": ".py",
   "mimetype": "text/x-python",
   "name": "python",
   "nbconvert_exporter": "python",
   "pygments_lexer": "ipython3",
   "version": "3.7.12"
  },
  "papermill": {
   "default_parameters": {},
   "duration": 324.734137,
   "end_time": "2023-04-24T06:24:16.121449",
   "environment_variables": {},
   "exception": null,
   "input_path": "__notebook__.ipynb",
   "output_path": "__notebook__.ipynb",
   "parameters": {},
   "start_time": "2023-04-24T06:18:51.387312",
   "version": "2.3.4"
  }
 },
 "nbformat": 4,
 "nbformat_minor": 5
}
