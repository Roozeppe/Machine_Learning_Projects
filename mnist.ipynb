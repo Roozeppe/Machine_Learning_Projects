{
 "cells": [
  {
   "cell_type": "code",
   "execution_count": 1,
   "id": "c2639b1c",
   "metadata": {
    "_cell_guid": "b1076dfc-b9ad-4769-8c92-a6c4dae69d19",
    "_uuid": "8f2839f25d086af736a60e9eeb907d3b93b6e0e5",
    "execution": {
     "iopub.execute_input": "2023-04-22T06:37:44.393653Z",
     "iopub.status.busy": "2023-04-22T06:37:44.393193Z",
     "iopub.status.idle": "2023-04-22T06:37:44.404328Z",
     "shell.execute_reply": "2023-04-22T06:37:44.403265Z"
    },
    "papermill": {
     "duration": 0.024148,
     "end_time": "2023-04-22T06:37:44.407123",
     "exception": false,
     "start_time": "2023-04-22T06:37:44.382975",
     "status": "completed"
    },
    "tags": []
   },
   "outputs": [],
   "source": [
    "# This Python 3 environment comes with many helpful analytics libraries installed\n",
    "# It is defined by the kaggle/python Docker image: https://github.com/kaggle/docker-python\n",
    "# For example, here's several helpful packages to load\n",
    "\n",
    "import numpy as np # linear algebra\n",
    "import pandas as pd # data processing, CSV file I/O (e.g. pd.read_csv)\n",
    "\n",
    "# Input data files are available in the read-only \"../input/\" directory\n",
    "# For example, running this (by clicking run or pressing Shift+Enter) will list all files under the input directory\n",
    "\n",
    "import os\n",
    "for dirname, _, filenames in os.walk('/kaggle/input'):\n",
    "    for filename in filenames:\n",
    "        print(os.path.join(dirname, filename))\n",
    "\n",
    "# You can write up to 20GB to the current directory (/kaggle/working/) that gets preserved as output when you create a version using \"Save & Run All\" \n",
    "# You can also write temporary files to /kaggle/temp/, but they won't be saved outside of the current session"
   ]
  },
  {
   "cell_type": "markdown",
   "id": "1c741620",
   "metadata": {
    "papermill": {
     "duration": 0.00409,
     "end_time": "2023-04-22T06:37:44.416041",
     "exception": false,
     "start_time": "2023-04-22T06:37:44.411951",
     "status": "completed"
    },
    "tags": []
   },
   "source": [
    "### 1. Get the data"
   ]
  },
  {
   "cell_type": "code",
   "execution_count": 2,
   "id": "7e527916",
   "metadata": {
    "execution": {
     "iopub.execute_input": "2023-04-22T06:37:44.426585Z",
     "iopub.status.busy": "2023-04-22T06:37:44.426172Z",
     "iopub.status.idle": "2023-04-22T06:38:20.483105Z",
     "shell.execute_reply": "2023-04-22T06:38:20.481790Z"
    },
    "papermill": {
     "duration": 36.070869,
     "end_time": "2023-04-22T06:38:20.491260",
     "exception": false,
     "start_time": "2023-04-22T06:37:44.420391",
     "status": "completed"
    },
    "tags": []
   },
   "outputs": [
    {
     "data": {
      "text/plain": [
       "dict_keys(['data', 'target', 'frame', 'categories', 'feature_names', 'target_names', 'DESCR', 'details', 'url'])"
      ]
     },
     "execution_count": 2,
     "metadata": {},
     "output_type": "execute_result"
    }
   ],
   "source": [
    "from sklearn.datasets import fetch_openml\n",
    "mnist = fetch_openml('mnist_784', version=1, as_frame=False)\n",
    "mnist.keys()"
   ]
  },
  {
   "cell_type": "code",
   "execution_count": 3,
   "id": "fea60a22",
   "metadata": {
    "execution": {
     "iopub.execute_input": "2023-04-22T06:38:20.502040Z",
     "iopub.status.busy": "2023-04-22T06:38:20.501617Z",
     "iopub.status.idle": "2023-04-22T06:38:20.509944Z",
     "shell.execute_reply": "2023-04-22T06:38:20.508543Z"
    },
    "papermill": {
     "duration": 0.016889,
     "end_time": "2023-04-22T06:38:20.512637",
     "exception": false,
     "start_time": "2023-04-22T06:38:20.495748",
     "status": "completed"
    },
    "tags": []
   },
   "outputs": [
    {
     "data": {
      "text/plain": [
       "(70000, 784)"
      ]
     },
     "execution_count": 3,
     "metadata": {},
     "output_type": "execute_result"
    }
   ],
   "source": [
    "# Capture the data and target into X, y variables respectively.\n",
    "X, y = mnist['data'], mnist['target']\n",
    "X.shape"
   ]
  },
  {
   "cell_type": "code",
   "execution_count": 4,
   "id": "7509f472",
   "metadata": {
    "execution": {
     "iopub.execute_input": "2023-04-22T06:38:20.524299Z",
     "iopub.status.busy": "2023-04-22T06:38:20.523326Z",
     "iopub.status.idle": "2023-04-22T06:38:20.529677Z",
     "shell.execute_reply": "2023-04-22T06:38:20.528552Z"
    },
    "papermill": {
     "duration": 0.015175,
     "end_time": "2023-04-22T06:38:20.532545",
     "exception": false,
     "start_time": "2023-04-22T06:38:20.517370",
     "status": "completed"
    },
    "tags": []
   },
   "outputs": [
    {
     "data": {
      "text/plain": [
       "(70000,)"
      ]
     },
     "execution_count": 4,
     "metadata": {},
     "output_type": "execute_result"
    }
   ],
   "source": [
    "y.shape"
   ]
  },
  {
   "cell_type": "code",
   "execution_count": 5,
   "id": "397d8253",
   "metadata": {
    "execution": {
     "iopub.execute_input": "2023-04-22T06:38:20.544232Z",
     "iopub.status.busy": "2023-04-22T06:38:20.543758Z",
     "iopub.status.idle": "2023-04-22T06:38:20.662147Z",
     "shell.execute_reply": "2023-04-22T06:38:20.660246Z"
    },
    "papermill": {
     "duration": 0.129394,
     "end_time": "2023-04-22T06:38:20.666631",
     "exception": false,
     "start_time": "2023-04-22T06:38:20.537237",
     "status": "completed"
    },
    "tags": []
   },
   "outputs": [
    {
     "data": {
      "image/png": "[encoded data removed]",
      "text/plain": [
       "<Figure size 640x480 with 1 Axes>"
      ]
     },
     "metadata": {},
     "output_type": "display_data"
    }
   ],
   "source": [
    "# Display a digit from the dataset using matplolib.\n",
    "import matplotlib as mpl\n",
    "import matplotlib.pyplot as plt\n",
    "\n",
    "some_digit = X[0]\n",
    "some_digit_image = some_digit.reshape(28, 28)\n",
    "\n",
    "plt.imshow(some_digit_image, cmap=mpl.cm.binary)\n",
    "plt.axis('off')\n",
    "plt.show()"
   ]
  },
  {
   "cell_type": "code",
   "execution_count": 6,
   "id": "3f717e6d",
   "metadata": {
    "execution": {
     "iopub.execute_input": "2023-04-22T06:38:20.695013Z",
     "iopub.status.busy": "2023-04-22T06:38:20.693453Z",
     "iopub.status.idle": "2023-04-22T06:38:20.704677Z",
     "shell.execute_reply": "2023-04-22T06:38:20.703007Z"
    },
    "papermill": {
     "duration": 0.029716,
     "end_time": "2023-04-22T06:38:20.709013",
     "exception": false,
     "start_time": "2023-04-22T06:38:20.679297",
     "status": "completed"
    },
    "tags": []
   },
   "outputs": [
    {
     "data": {
      "text/plain": [
       "'5'"
      ]
     },
     "execution_count": 6,
     "metadata": {},
     "output_type": "execute_result"
    }
   ],
   "source": [
    "y[0]"
   ]
  },
  {
   "cell_type": "code",
   "execution_count": 7,
   "id": "36cb6301",
   "metadata": {
    "execution": {
     "iopub.execute_input": "2023-04-22T06:38:20.728433Z",
     "iopub.status.busy": "2023-04-22T06:38:20.727156Z",
     "iopub.status.idle": "2023-04-22T06:38:20.740815Z",
     "shell.execute_reply": "2023-04-22T06:38:20.739378Z"
    },
    "papermill": {
     "duration": 0.022553,
     "end_time": "2023-04-22T06:38:20.743573",
     "exception": false,
     "start_time": "2023-04-22T06:38:20.721020",
     "status": "completed"
    },
    "tags": []
   },
   "outputs": [],
   "source": [
    "y = y.astype(np.uint8)"
   ]
  },
  {
   "cell_type": "code",
   "execution_count": 8,
   "id": "20f8ba65",
   "metadata": {
    "execution": {
     "iopub.execute_input": "2023-04-22T06:38:20.756164Z",
     "iopub.status.busy": "2023-04-22T06:38:20.754986Z",
     "iopub.status.idle": "2023-04-22T06:38:20.761285Z",
     "shell.execute_reply": "2023-04-22T06:38:20.760098Z"
    },
    "papermill": {
     "duration": 0.015605,
     "end_time": "2023-04-22T06:38:20.764170",
     "exception": false,
     "start_time": "2023-04-22T06:38:20.748565",
     "status": "completed"
    },
    "tags": []
   },
   "outputs": [],
   "source": [
    "# Split the data into a train and a test set.\n",
    "X_train, X_test, y_train, y_test = X[:60000], X[60000:], y[:60000], y[60000:]"
   ]
  },
  {
   "cell_type": "markdown",
   "id": "9fee1f0a",
   "metadata": {
    "papermill": {
     "duration": 0.004507,
     "end_time": "2023-04-22T06:38:20.773559",
     "exception": false,
     "start_time": "2023-04-22T06:38:20.769052",
     "status": "completed"
    },
    "tags": []
   },
   "source": [
    "### Training a Binary Classifier"
   ]
  },
  {
   "cell_type": "code",
   "execution_count": 9,
   "id": "ebf995cb",
   "metadata": {
    "execution": {
     "iopub.execute_input": "2023-04-22T06:38:20.785485Z",
     "iopub.status.busy": "2023-04-22T06:38:20.784739Z",
     "iopub.status.idle": "2023-04-22T06:38:20.790995Z",
     "shell.execute_reply": "2023-04-22T06:38:20.789743Z"
    },
    "papermill": {
     "duration": 0.015381,
     "end_time": "2023-04-22T06:38:20.793738",
     "exception": false,
     "start_time": "2023-04-22T06:38:20.778357",
     "status": "completed"
    },
    "tags": []
   },
   "outputs": [],
   "source": [
    "y_train_5 = (y_train == 5)\n",
    "y_test_5 = (y_test == 5)"
   ]
  },
  {
   "cell_type": "code",
   "execution_count": 10,
   "id": "afcf4da7",
   "metadata": {
    "execution": {
     "iopub.execute_input": "2023-04-22T06:38:20.805387Z",
     "iopub.status.busy": "2023-04-22T06:38:20.804971Z",
     "iopub.status.idle": "2023-04-22T06:38:46.217143Z",
     "shell.execute_reply": "2023-04-22T06:38:46.215925Z"
    },
    "papermill": {
     "duration": 25.42127,
     "end_time": "2023-04-22T06:38:46.219921",
     "exception": false,
     "start_time": "2023-04-22T06:38:20.798651",
     "status": "completed"
    },
    "tags": []
   },
   "outputs": [
    {
     "data": {
      "text/plain": [
       "SGDClassifier(random_state=51)"
      ]
     },
     "execution_count": 10,
     "metadata": {},
     "output_type": "execute_result"
    }
   ],
   "source": [
    "# Stochastic Gradient Descent\n",
    "from sklearn.linear_model import SGDClassifier\n",
    "sgd_clf = SGDClassifier(max_iter=1000, tol=1e-3, random_state=51)\n",
    "sgd_clf.fit(X_train, y_train_5)"
   ]
  },
  {
   "cell_type": "code",
   "execution_count": 11,
   "id": "573f3b04",
   "metadata": {
    "execution": {
     "iopub.execute_input": "2023-04-22T06:38:46.231631Z",
     "iopub.status.busy": "2023-04-22T06:38:46.231216Z",
     "iopub.status.idle": "2023-04-22T06:38:46.237798Z",
     "shell.execute_reply": "2023-04-22T06:38:46.237055Z"
    },
    "papermill": {
     "duration": 0.014884,
     "end_time": "2023-04-22T06:38:46.239979",
     "exception": false,
     "start_time": "2023-04-22T06:38:46.225095",
     "status": "completed"
    },
    "tags": []
   },
   "outputs": [
    {
     "data": {
      "text/plain": [
       "array([ True])"
      ]
     },
     "execution_count": 11,
     "metadata": {},
     "output_type": "execute_result"
    }
   ],
   "source": [
    "# let's make a prediction\n",
    "sgd_clf.predict([some_digit])"
   ]
  },
  {
   "cell_type": "code",
   "execution_count": 12,
   "id": "10be841a",
   "metadata": {
    "execution": {
     "iopub.execute_input": "2023-04-22T06:38:46.252342Z",
     "iopub.status.busy": "2023-04-22T06:38:46.251430Z",
     "iopub.status.idle": "2023-04-22T06:39:24.162929Z",
     "shell.execute_reply": "2023-04-22T06:39:24.161740Z"
    },
    "papermill": {
     "duration": 37.933685,
     "end_time": "2023-04-22T06:39:24.178802",
     "exception": false,
     "start_time": "2023-04-22T06:38:46.245117",
     "status": "completed"
    },
    "tags": []
   },
   "outputs": [
    {
     "data": {
      "text/plain": [
       "array([0.96005, 0.9629 , 0.95485])"
      ]
     },
     "execution_count": 12,
     "metadata": {},
     "output_type": "execute_result"
    }
   ],
   "source": [
    "from sklearn.model_selection import cross_val_score\n",
    "cross_val_score(sgd_clf, X_train, y_train_5, cv=3, scoring='accuracy')"
   ]
  },
  {
   "cell_type": "markdown",
   "id": "2e53d580",
   "metadata": {
    "papermill": {
     "duration": 0.013333,
     "end_time": "2023-04-22T06:39:24.205774",
     "exception": false,
     "start_time": "2023-04-22T06:39:24.192441",
     "status": "completed"
    },
    "tags": []
   },
   "source": [
    "### Performance Measures\n",
    "#### Measuring Accuracy Using Cross_Validation"
   ]
  }
 ],
 "metadata": {
  "kernelspec": {
   "display_name": "Python 3",
   "language": "python",
   "name": "python3"
  },
  "language_info": {
   "codemirror_mode": {
    "name": "ipython",
    "version": 3
   },
   "file_extension": ".py",
   "mimetype": "text/x-python",
   "name": "python",
   "nbconvert_exporter": "python",
   "pygments_lexer": "ipython3",
   "version": "3.7.12"
  },
  "papermill": {
   "default_parameters": {},
   "duration": 110.666534,
   "end_time": "2023-04-22T06:39:25.050373",
   "environment_variables": {},
   "exception": null,
   "input_path": "__notebook__.ipynb",
   "output_path": "__notebook__.ipynb",
   "parameters": {},
   "start_time": "2023-04-22T06:37:34.383839",
   "version": "2.3.4"
  }
 },
 "nbformat": 4,
 "nbformat_minor": 5
}
