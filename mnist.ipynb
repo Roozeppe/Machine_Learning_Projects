{
 "cells": [
  {
   "cell_type": "code",
   "execution_count": 1,
   "id": "49987a06",
   "metadata": {
    "_cell_guid": "b1076dfc-b9ad-4769-8c92-a6c4dae69d19",
    "_uuid": "8f2839f25d086af736a60e9eeb907d3b93b6e0e5",
    "execution": {
     "iopub.execute_input": "2023-04-24T03:03:42.020192Z",
     "iopub.status.busy": "2023-04-24T03:03:42.019705Z",
     "iopub.status.idle": "2023-04-24T03:03:42.032672Z",
     "shell.execute_reply": "2023-04-24T03:03:42.031498Z"
    },
    "papermill": {
     "duration": 0.029704,
     "end_time": "2023-04-24T03:03:42.035220",
     "exception": false,
     "start_time": "2023-04-24T03:03:42.005516",
     "status": "completed"
    },
    "tags": []
   },
   "outputs": [],
   "source": [
    "# This Python 3 environment comes with many helpful analytics libraries installed\n",
    "# It is defined by the kaggle/python Docker image: https://github.com/kaggle/docker-python\n",
    "# For example, here's several helpful packages to load\n",
    "\n",
    "import numpy as np # linear algebra\n",
    "import pandas as pd # data processing, CSV file I/O (e.g. pd.read_csv)\n",
    "\n",
    "# Input data files are available in the read-only \"../input/\" directory\n",
    "# For example, running this (by clicking run or pressing Shift+Enter) will list all files under the input directory\n",
    "\n",
    "import os\n",
    "for dirname, _, filenames in os.walk('/kaggle/input'):\n",
    "    for filename in filenames:\n",
    "        print(os.path.join(dirname, filename))\n",
    "\n",
    "# You can write up to 20GB to the current directory (/kaggle/working/) that gets preserved as output when you create a version using \"Save & Run All\" \n",
    "# You can also write temporary files to /kaggle/temp/, but they won't be saved outside of the current session"
   ]
  },
  {
   "cell_type": "markdown",
   "id": "b2059b13",
   "metadata": {
    "papermill": {
     "duration": 0.007811,
     "end_time": "2023-04-24T03:03:42.051854",
     "exception": false,
     "start_time": "2023-04-24T03:03:42.044043",
     "status": "completed"
    },
    "tags": []
   },
   "source": [
    "### 1. Frame the problem and look at the big picture\n"
   ]
  },
  {
   "cell_type": "markdown",
   "id": "a454558f",
   "metadata": {
    "papermill": {
     "duration": 0.007784,
     "end_time": "2023-04-24T03:03:42.067630",
     "exception": false,
     "start_time": "2023-04-24T03:03:42.059846",
     "status": "completed"
    },
    "tags": []
   },
   "source": [
    "How to idientify handwritten digits?"
   ]
  },
  {
   "cell_type": "markdown",
   "id": "70abb9c8",
   "metadata": {
    "papermill": {
     "duration": 0.007602,
     "end_time": "2023-04-24T03:03:42.083252",
     "exception": false,
     "start_time": "2023-04-24T03:03:42.075650",
     "status": "completed"
    },
    "tags": []
   },
   "source": [
    "### 2. Get the Data"
   ]
  },
  {
   "cell_type": "code",
   "execution_count": 2,
   "id": "54c451f6",
   "metadata": {
    "execution": {
     "iopub.execute_input": "2023-04-24T03:03:42.101091Z",
     "iopub.status.busy": "2023-04-24T03:03:42.100646Z",
     "iopub.status.idle": "2023-04-24T03:04:16.143937Z",
     "shell.execute_reply": "2023-04-24T03:04:16.142480Z"
    },
    "papermill": {
     "duration": 34.055738,
     "end_time": "2023-04-24T03:04:16.147038",
     "exception": false,
     "start_time": "2023-04-24T03:03:42.091300",
     "status": "completed"
    },
    "tags": []
   },
   "outputs": [],
   "source": [
    "from sklearn.datasets import fetch_openml\n",
    "mnist = fetch_openml('mnist_784', as_frame=False)"
   ]
  },
  {
   "cell_type": "markdown",
   "id": "8e534d73",
   "metadata": {
    "papermill": {
     "duration": 0.007671,
     "end_time": "2023-04-24T03:04:16.163039",
     "exception": false,
     "start_time": "2023-04-24T03:04:16.155368",
     "status": "completed"
    },
    "tags": []
   },
   "source": [
    "### 3. Explore the data to gain insights"
   ]
  },
  {
   "cell_type": "code",
   "execution_count": 3,
   "id": "fac5dd4b",
   "metadata": {
    "execution": {
     "iopub.execute_input": "2023-04-24T03:04:16.181822Z",
     "iopub.status.busy": "2023-04-24T03:04:16.181359Z",
     "iopub.status.idle": "2023-04-24T03:04:16.187587Z",
     "shell.execute_reply": "2023-04-24T03:04:16.186469Z"
    },
    "papermill": {
     "duration": 0.019311,
     "end_time": "2023-04-24T03:04:16.190965",
     "exception": false,
     "start_time": "2023-04-24T03:04:16.171654",
     "status": "completed"
    },
    "tags": []
   },
   "outputs": [
    {
     "name": "stdout",
     "output_type": "stream",
     "text": [
      "**Author**: Yann LeCun, Corinna Cortes, Christopher J.C. Burges  \n",
      "**Source**: [MNIST Website](http://yann.lecun.com/exdb/mnist/) - Date unknown  \n",
      "**Please cite**:  \n",
      "\n",
      "The MNIST database of handwritten digits with 784 features, raw data available at: http://yann.lecun.com/exdb/mnist/. It can be split in a training set of the first 60,000 examples, and a test set of 10,000 examples  \n",
      "\n",
      "It is a subset of a larger set available from NIST. The digits have been size-normalized and centered in a fixed-size image. It is a good database for people who want to try learning techniques and pattern recognition methods on real-world data while spending minimal efforts on preprocessing and formatting. The original black and white (bilevel) images from NIST were size normalized to fit in a 20x20 pixel box while preserving their aspect ratio. The resulting images contain grey levels as a result of the anti-aliasing technique used by the normalization algorithm. the images were centered in a 28x28 image by computing the center of mass of the pixels, and translating the image so as to position this point at the center of the 28x28 field.  \n",
      "\n",
      "With some classification methods (particularly template-based methods, such as SVM and K-nearest neighbors), the error rate improves when the digits are centered by bounding box rather than center of mass. If you do this kind of pre-processing, you should report it in your publications. The MNIST database was constructed from NIST's NIST originally designated SD-3 as their training set and SD-1 as their test set. However, SD-3 is much cleaner and easier to recognize than SD-1. The reason for this can be found on the fact that SD-3 was collected among Census Bureau employees, while SD-1 was collected among high-school students. Drawing sensible conclusions from learning experiments requires that the result be independent of the choice of training set and test among the complete set of samples. Therefore it was necessary to build a new database by mixing NIST's datasets.  \n",
      "\n",
      "The MNIST training set is composed of 30,000 patterns from SD-3 and 30,000 patterns from SD-1. Our test set was composed of 5,000 patterns from SD-3 and 5,000 patterns from SD-1. The 60,000 pattern training set contained examples from approximately 250 writers. We made sure that the sets of writers of the training set and test set were disjoint. SD-1 contains 58,527 digit images written by 500 different writers. In contrast to SD-3, where blocks of data from each writer appeared in sequence, the data in SD-1 is scrambled. Writer identities for SD-1 is available and we used this information to unscramble the writers. We then split SD-1 in two: characters written by the first 250 writers went into our new training set. The remaining 250 writers were placed in our test set. Thus we had two sets with nearly 30,000 examples each. The new training set was completed with enough examples from SD-3, starting at pattern # 0, to make a full set of 60,000 training patterns. Similarly, the new test set was completed with SD-3 examples starting at pattern # 35,000 to make a full set with 60,000 test patterns. Only a subset of 10,000 test images (5,000 from SD-1 and 5,000 from SD-3) is available on this site. The full 60,000 sample training set is available.\n",
      "\n",
      "Downloaded from openml.org.\n"
     ]
    }
   ],
   "source": [
    "print(mnist.DESCR)"
   ]
  },
  {
   "cell_type": "code",
   "execution_count": 4,
   "id": "19047cee",
   "metadata": {
    "execution": {
     "iopub.execute_input": "2023-04-24T03:04:16.209392Z",
     "iopub.status.busy": "2023-04-24T03:04:16.208937Z",
     "iopub.status.idle": "2023-04-24T03:04:16.217989Z",
     "shell.execute_reply": "2023-04-24T03:04:16.216977Z"
    },
    "papermill": {
     "duration": 0.020758,
     "end_time": "2023-04-24T03:04:16.220023",
     "exception": false,
     "start_time": "2023-04-24T03:04:16.199265",
     "status": "completed"
    },
    "tags": []
   },
   "outputs": [
    {
     "data": {
      "text/plain": [
       "dict_keys(['data', 'target', 'frame', 'categories', 'feature_names', 'target_names', 'DESCR', 'details', 'url'])"
      ]
     },
     "execution_count": 4,
     "metadata": {},
     "output_type": "execute_result"
    }
   ],
   "source": [
    "mnist.keys()"
   ]
  },
  {
   "cell_type": "code",
   "execution_count": 5,
   "id": "1a0da021",
   "metadata": {
    "execution": {
     "iopub.execute_input": "2023-04-24T03:04:16.241108Z",
     "iopub.status.busy": "2023-04-24T03:04:16.240324Z",
     "iopub.status.idle": "2023-04-24T03:04:16.246687Z",
     "shell.execute_reply": "2023-04-24T03:04:16.245625Z"
    },
    "papermill": {
     "duration": 0.018433,
     "end_time": "2023-04-24T03:04:16.248826",
     "exception": false,
     "start_time": "2023-04-24T03:04:16.230393",
     "status": "completed"
    },
    "tags": []
   },
   "outputs": [
    {
     "data": {
      "text/plain": [
       "(70000, 784)"
      ]
     },
     "execution_count": 5,
     "metadata": {},
     "output_type": "execute_result"
    }
   ],
   "source": [
    "# Capture the data and target into X, y variables respectively.\n",
    "X, y = mnist.data, mnist.target\n",
    "X.shape"
   ]
  },
  {
   "cell_type": "code",
   "execution_count": 6,
   "id": "8f6293d0",
   "metadata": {
    "execution": {
     "iopub.execute_input": "2023-04-24T03:04:16.267805Z",
     "iopub.status.busy": "2023-04-24T03:04:16.267032Z",
     "iopub.status.idle": "2023-04-24T03:04:16.274788Z",
     "shell.execute_reply": "2023-04-24T03:04:16.273641Z"
    },
    "papermill": {
     "duration": 0.019781,
     "end_time": "2023-04-24T03:04:16.277074",
     "exception": false,
     "start_time": "2023-04-24T03:04:16.257293",
     "status": "completed"
    },
    "tags": []
   },
   "outputs": [
    {
     "data": {
      "text/plain": [
       "array([[0., 0., 0., ..., 0., 0., 0.],\n",
       "       [0., 0., 0., ..., 0., 0., 0.],\n",
       "       [0., 0., 0., ..., 0., 0., 0.],\n",
       "       ...,\n",
       "       [0., 0., 0., ..., 0., 0., 0.],\n",
       "       [0., 0., 0., ..., 0., 0., 0.],\n",
       "       [0., 0., 0., ..., 0., 0., 0.]])"
      ]
     },
     "execution_count": 6,
     "metadata": {},
     "output_type": "execute_result"
    }
   ],
   "source": [
    "X"
   ]
  },
  {
   "cell_type": "code",
   "execution_count": 7,
   "id": "d16e6af2",
   "metadata": {
    "execution": {
     "iopub.execute_input": "2023-04-24T03:04:16.295908Z",
     "iopub.status.busy": "2023-04-24T03:04:16.295500Z",
     "iopub.status.idle": "2023-04-24T03:04:16.302331Z",
     "shell.execute_reply": "2023-04-24T03:04:16.301278Z"
    },
    "papermill": {
     "duration": 0.01873,
     "end_time": "2023-04-24T03:04:16.304461",
     "exception": false,
     "start_time": "2023-04-24T03:04:16.285731",
     "status": "completed"
    },
    "tags": []
   },
   "outputs": [
    {
     "data": {
      "text/plain": [
       "(70000,)"
      ]
     },
     "execution_count": 7,
     "metadata": {},
     "output_type": "execute_result"
    }
   ],
   "source": [
    "y.shape"
   ]
  },
  {
   "cell_type": "code",
   "execution_count": 8,
   "id": "e774a98b",
   "metadata": {
    "execution": {
     "iopub.execute_input": "2023-04-24T03:04:16.323355Z",
     "iopub.status.busy": "2023-04-24T03:04:16.322929Z",
     "iopub.status.idle": "2023-04-24T03:04:16.328941Z",
     "shell.execute_reply": "2023-04-24T03:04:16.328172Z"
    },
    "papermill": {
     "duration": 0.018138,
     "end_time": "2023-04-24T03:04:16.331034",
     "exception": false,
     "start_time": "2023-04-24T03:04:16.312896",
     "status": "completed"
    },
    "tags": []
   },
   "outputs": [
    {
     "data": {
      "text/plain": [
       "array(['5', '0', '4', ..., '4', '5', '6'], dtype=object)"
      ]
     },
     "execution_count": 8,
     "metadata": {},
     "output_type": "execute_result"
    }
   ],
   "source": [
    "y"
   ]
  },
  {
   "cell_type": "code",
   "execution_count": 9,
   "id": "955f394d",
   "metadata": {
    "execution": {
     "iopub.execute_input": "2023-04-24T03:04:16.350968Z",
     "iopub.status.busy": "2023-04-24T03:04:16.349805Z",
     "iopub.status.idle": "2023-04-24T03:04:16.476212Z",
     "shell.execute_reply": "2023-04-24T03:04:16.474542Z"
    },
    "papermill": {
     "duration": 0.139196,
     "end_time": "2023-04-24T03:04:16.478934",
     "exception": false,
     "start_time": "2023-04-24T03:04:16.339738",
     "status": "completed"
    },
    "tags": []
   },
   "outputs": [
    {
     "data": {
      "image/png": "[encoded data removed]",
      "text/plain": [
       "<Figure size 640x480 with 1 Axes>"
      ]
     },
     "metadata": {},
     "output_type": "display_data"
    }
   ],
   "source": [
    "# Display a digit from the dataset using matplolib.\n",
    "import matplotlib as mpl\n",
    "import matplotlib.pyplot as plt\n",
    "\n",
    "some_digit = X[0]\n",
    "some_digit_image = some_digit.reshape(28, 28)\n",
    "\n",
    "plt.imshow(some_digit_image, cmap=mpl.cm.binary)\n",
    "plt.axis('off')\n",
    "plt.show()"
   ]
  },
  {
   "cell_type": "code",
   "execution_count": 10,
   "id": "16eed045",
   "metadata": {
    "execution": {
     "iopub.execute_input": "2023-04-24T03:04:16.528668Z",
     "iopub.status.busy": "2023-04-24T03:04:16.527253Z",
     "iopub.status.idle": "2023-04-24T03:04:16.536181Z",
     "shell.execute_reply": "2023-04-24T03:04:16.535351Z"
    },
    "papermill": {
     "duration": 0.036811,
     "end_time": "2023-04-24T03:04:16.538349",
     "exception": false,
     "start_time": "2023-04-24T03:04:16.501538",
     "status": "completed"
    },
    "tags": []
   },
   "outputs": [
    {
     "data": {
      "text/plain": [
       "'5'"
      ]
     },
     "execution_count": 10,
     "metadata": {},
     "output_type": "execute_result"
    }
   ],
   "source": [
    "y[0]"
   ]
  },
  {
   "cell_type": "code",
   "execution_count": 11,
   "id": "0d125acb",
   "metadata": {
    "execution": {
     "iopub.execute_input": "2023-04-24T03:04:16.558787Z",
     "iopub.status.busy": "2023-04-24T03:04:16.557975Z",
     "iopub.status.idle": "2023-04-24T03:04:16.569332Z",
     "shell.execute_reply": "2023-04-24T03:04:16.568507Z"
    },
    "papermill": {
     "duration": 0.02416,
     "end_time": "2023-04-24T03:04:16.571706",
     "exception": false,
     "start_time": "2023-04-24T03:04:16.547546",
     "status": "completed"
    },
    "tags": []
   },
   "outputs": [],
   "source": [
    "y = y.astype(np.uint8)"
   ]
  },
  {
   "cell_type": "markdown",
   "id": "76cc3f21",
   "metadata": {
    "papermill": {
     "duration": 0.008747,
     "end_time": "2023-04-24T03:04:16.589483",
     "exception": false,
     "start_time": "2023-04-24T03:04:16.580736",
     "status": "completed"
    },
    "tags": []
   },
   "source": [
    "### 4. Prepare the data to better expose the underlying data patterns to Machine Learning algorithms"
   ]
  },
  {
   "cell_type": "code",
   "execution_count": 12,
   "id": "652795e5",
   "metadata": {
    "execution": {
     "iopub.execute_input": "2023-04-24T03:04:16.609737Z",
     "iopub.status.busy": "2023-04-24T03:04:16.608867Z",
     "iopub.status.idle": "2023-04-24T03:04:16.613957Z",
     "shell.execute_reply": "2023-04-24T03:04:16.613082Z"
    },
    "papermill": {
     "duration": 0.018093,
     "end_time": "2023-04-24T03:04:16.616497",
     "exception": false,
     "start_time": "2023-04-24T03:04:16.598404",
     "status": "completed"
    },
    "tags": []
   },
   "outputs": [],
   "source": [
    "# Split the data into a train and a test set.\n",
    "X_train, X_test, y_train, y_test = X[:60000], X[60000:], y[:60000], y[60000:]"
   ]
  },
  {
   "cell_type": "markdown",
   "id": "a94a91c9",
   "metadata": {
    "papermill": {
     "duration": 0.008691,
     "end_time": "2023-04-24T03:04:16.634497",
     "exception": false,
     "start_time": "2023-04-24T03:04:16.625806",
     "status": "completed"
    },
    "tags": []
   },
   "source": [
    "### 5. Explore many different models and short-list the best ones"
   ]
  },
  {
   "cell_type": "markdown",
   "id": "846c08b9",
   "metadata": {
    "papermill": {
     "duration": 0.00881,
     "end_time": "2023-04-24T03:04:16.652742",
     "exception": false,
     "start_time": "2023-04-24T03:04:16.643932",
     "status": "completed"
    },
    "tags": []
   },
   "source": [
    "#### Training a Binary Classifier"
   ]
  },
  {
   "cell_type": "code",
   "execution_count": 13,
   "id": "68f5cfc9",
   "metadata": {
    "execution": {
     "iopub.execute_input": "2023-04-24T03:04:16.672821Z",
     "iopub.status.busy": "2023-04-24T03:04:16.672064Z",
     "iopub.status.idle": "2023-04-24T03:04:16.676458Z",
     "shell.execute_reply": "2023-04-24T03:04:16.675663Z"
    },
    "papermill": {
     "duration": 0.017029,
     "end_time": "2023-04-24T03:04:16.678700",
     "exception": false,
     "start_time": "2023-04-24T03:04:16.661671",
     "status": "completed"
    },
    "tags": []
   },
   "outputs": [],
   "source": [
    "y_train_5 = (y_train == 5)\n",
    "y_test_5 = (y_test == 5)"
   ]
  },
  {
   "cell_type": "code",
   "execution_count": 14,
   "id": "d8363810",
   "metadata": {
    "execution": {
     "iopub.execute_input": "2023-04-24T03:04:16.699283Z",
     "iopub.status.busy": "2023-04-24T03:04:16.698512Z",
     "iopub.status.idle": "2023-04-24T03:04:43.595842Z",
     "shell.execute_reply": "2023-04-24T03:04:43.594368Z"
    },
    "papermill": {
     "duration": 26.910624,
     "end_time": "2023-04-24T03:04:43.598520",
     "exception": false,
     "start_time": "2023-04-24T03:04:16.687896",
     "status": "completed"
    },
    "tags": []
   },
   "outputs": [
    {
     "data": {
      "text/plain": [
       "SGDClassifier(random_state=51)"
      ]
     },
     "execution_count": 14,
     "metadata": {},
     "output_type": "execute_result"
    }
   ],
   "source": [
    "# Stochastic Gradient Descent\n",
    "from sklearn.linear_model import SGDClassifier\n",
    "sgd_clf = SGDClassifier(max_iter=1000, tol=1e-3, random_state=51)\n",
    "sgd_clf.fit(X_train, y_train_5)"
   ]
  },
  {
   "cell_type": "code",
   "execution_count": 15,
   "id": "5f208ceb",
   "metadata": {
    "execution": {
     "iopub.execute_input": "2023-04-24T03:04:43.619024Z",
     "iopub.status.busy": "2023-04-24T03:04:43.618574Z",
     "iopub.status.idle": "2023-04-24T03:04:43.625698Z",
     "shell.execute_reply": "2023-04-24T03:04:43.624798Z"
    },
    "papermill": {
     "duration": 0.020129,
     "end_time": "2023-04-24T03:04:43.628075",
     "exception": false,
     "start_time": "2023-04-24T03:04:43.607946",
     "status": "completed"
    },
    "tags": []
   },
   "outputs": [
    {
     "data": {
      "text/plain": [
       "array([ True])"
      ]
     },
     "execution_count": 15,
     "metadata": {},
     "output_type": "execute_result"
    }
   ],
   "source": [
    "# let's make a prediction\n",
    "sgd_clf.predict([some_digit])"
   ]
  },
  {
   "cell_type": "markdown",
   "id": "5f6aa5c4",
   "metadata": {
    "papermill": {
     "duration": 0.008997,
     "end_time": "2023-04-24T03:04:43.646581",
     "exception": false,
     "start_time": "2023-04-24T03:04:43.637584",
     "status": "completed"
    },
    "tags": []
   },
   "source": [
    "### Performance Measures\n",
    "#### Measuring Accuracy Using Cross_Validation"
   ]
  },
  {
   "cell_type": "code",
   "execution_count": 16,
   "id": "940a96aa",
   "metadata": {
    "execution": {
     "iopub.execute_input": "2023-04-24T03:04:43.667618Z",
     "iopub.status.busy": "2023-04-24T03:04:43.666560Z",
     "iopub.status.idle": "2023-04-24T03:05:24.796806Z",
     "shell.execute_reply": "2023-04-24T03:05:24.786778Z"
    },
    "papermill": {
     "duration": 41.162216,
     "end_time": "2023-04-24T03:05:24.818110",
     "exception": false,
     "start_time": "2023-04-24T03:04:43.655894",
     "status": "completed"
    },
    "tags": []
   },
   "outputs": [
    {
     "data": {
      "text/plain": [
       "array([0.96005, 0.9629 , 0.95485])"
      ]
     },
     "execution_count": 16,
     "metadata": {},
     "output_type": "execute_result"
    }
   ],
   "source": [
    "from sklearn.model_selection import cross_val_score\n",
    "cross_val_score(sgd_clf, X_train, y_train_5, cv=3, scoring='accuracy')"
   ]
  },
  {
   "cell_type": "code",
   "execution_count": 17,
   "id": "162cff9d",
   "metadata": {
    "execution": {
     "iopub.execute_input": "2023-04-24T03:05:24.869039Z",
     "iopub.status.busy": "2023-04-24T03:05:24.868295Z",
     "iopub.status.idle": "2023-04-24T03:06:05.819514Z",
     "shell.execute_reply": "2023-04-24T03:06:05.817477Z"
    },
    "papermill": {
     "duration": 40.983092,
     "end_time": "2023-04-24T03:06:05.825224",
     "exception": false,
     "start_time": "2023-04-24T03:05:24.842132",
     "status": "completed"
    },
    "tags": []
   },
   "outputs": [],
   "source": [
    "from sklearn.model_selection import cross_val_predict\n",
    "y_train_pred = cross_val_predict(sgd_clf, X_train, y_train_5, cv=3)"
   ]
  },
  {
   "cell_type": "code",
   "execution_count": 18,
   "id": "c9a3450f",
   "metadata": {
    "execution": {
     "iopub.execute_input": "2023-04-24T03:06:05.884437Z",
     "iopub.status.busy": "2023-04-24T03:06:05.883696Z",
     "iopub.status.idle": "2023-04-24T03:06:05.936861Z",
     "shell.execute_reply": "2023-04-24T03:06:05.935524Z"
    },
    "papermill": {
     "duration": 0.084815,
     "end_time": "2023-04-24T03:06:05.940053",
     "exception": false,
     "start_time": "2023-04-24T03:06:05.855238",
     "status": "completed"
    },
    "tags": []
   },
   "outputs": [
    {
     "data": {
      "text/plain": [
       "0.8897617177271537"
      ]
     },
     "execution_count": 18,
     "metadata": {},
     "output_type": "execute_result"
    }
   ],
   "source": [
    "# Calculate the precision and recall scores.\n",
    "from sklearn.metrics import precision_score, recall_score\n",
    "precision_score(y_train_5, y_train_pred)"
   ]
  },
  {
   "cell_type": "code",
   "execution_count": 19,
   "id": "fa8b40d3",
   "metadata": {
    "execution": {
     "iopub.execute_input": "2023-04-24T03:06:05.961574Z",
     "iopub.status.busy": "2023-04-24T03:06:05.961115Z",
     "iopub.status.idle": "2023-04-24T03:06:05.988530Z",
     "shell.execute_reply": "2023-04-24T03:06:05.987229Z"
    },
    "papermill": {
     "duration": 0.041117,
     "end_time": "2023-04-24T03:06:05.991020",
     "exception": false,
     "start_time": "2023-04-24T03:06:05.949903",
     "status": "completed"
    },
    "tags": []
   },
   "outputs": [
    {
     "data": {
      "text/plain": [
       "0.626821619627375"
      ]
     },
     "execution_count": 19,
     "metadata": {},
     "output_type": "execute_result"
    }
   ],
   "source": [
    "recall_score(y_train_5, y_train_pred)"
   ]
  },
  {
   "cell_type": "code",
   "execution_count": 20,
   "id": "c512a06f",
   "metadata": {
    "execution": {
     "iopub.execute_input": "2023-04-24T03:06:06.013125Z",
     "iopub.status.busy": "2023-04-24T03:06:06.012370Z",
     "iopub.status.idle": "2023-04-24T03:06:06.041948Z",
     "shell.execute_reply": "2023-04-24T03:06:06.040637Z"
    },
    "papermill": {
     "duration": 0.043817,
     "end_time": "2023-04-24T03:06:06.044840",
     "exception": false,
     "start_time": "2023-04-24T03:06:06.001023",
     "status": "completed"
    },
    "tags": []
   },
   "outputs": [
    {
     "data": {
      "text/plain": [
       "0.7354978354978355"
      ]
     },
     "execution_count": 20,
     "metadata": {},
     "output_type": "execute_result"
    }
   ],
   "source": [
    "from sklearn.metrics import f1_score\n",
    "f1_score(y_train_5, y_train_pred)"
   ]
  },
  {
   "cell_type": "markdown",
   "id": "cea8810e",
   "metadata": {
    "papermill": {
     "duration": 0.009491,
     "end_time": "2023-04-24T03:06:06.064713",
     "exception": false,
     "start_time": "2023-04-24T03:06:06.055222",
     "status": "completed"
    },
    "tags": []
   },
   "source": [
    "#### Multiclass Classification"
   ]
  },
  {
   "cell_type": "code",
   "execution_count": 21,
   "id": "60acaebb",
   "metadata": {
    "execution": {
     "iopub.execute_input": "2023-04-24T03:06:06.088019Z",
     "iopub.status.busy": "2023-04-24T03:06:06.086518Z",
     "iopub.status.idle": "2023-04-24T03:07:32.757881Z",
     "shell.execute_reply": "2023-04-24T03:07:32.756433Z"
    },
    "papermill": {
     "duration": 86.695099,
     "end_time": "2023-04-24T03:07:32.770077",
     "exception": false,
     "start_time": "2023-04-24T03:06:06.074978",
     "status": "completed"
    },
    "tags": []
   },
   "outputs": [
    {
     "data": {
      "text/plain": [
       "array([5], dtype=uint8)"
      ]
     },
     "execution_count": 21,
     "metadata": {},
     "output_type": "execute_result"
    }
   ],
   "source": [
    "from sklearn.svm import SVC\n",
    "\n",
    "svm_clf = SVC(gamma='auto', random_state=51)\n",
    "svm_clf.fit(X_train[:10000], y_train[:10000])\n",
    "svm_clf.predict([some_digit])"
   ]
  },
  {
   "cell_type": "code",
   "execution_count": 22,
   "id": "b8168d54",
   "metadata": {
    "execution": {
     "iopub.execute_input": "2023-04-24T03:07:32.792504Z",
     "iopub.status.busy": "2023-04-24T03:07:32.792027Z",
     "iopub.status.idle": "2023-04-24T03:07:32.812309Z",
     "shell.execute_reply": "2023-04-24T03:07:32.810997Z"
    },
    "papermill": {
     "duration": 0.034521,
     "end_time": "2023-04-24T03:07:32.814903",
     "exception": false,
     "start_time": "2023-04-24T03:07:32.780382",
     "status": "completed"
    },
    "tags": []
   },
   "outputs": [
    {
     "data": {
      "text/plain": [
       "array([[ 3.83583746,  8.03753281,  2.82800123,  5.86497842,  1.82010815,\n",
       "         9.29488575,  4.84708487,  6.91484871, -0.2012942 ,  0.81874843]])"
      ]
     },
     "execution_count": 22,
     "metadata": {},
     "output_type": "execute_result"
    }
   ],
   "source": [
    "some_digit_scores = svm_clf.decision_function([some_digit])\n",
    "some_digit_scores"
   ]
  },
  {
   "cell_type": "code",
   "execution_count": 23,
   "id": "9610f8d4",
   "metadata": {
    "execution": {
     "iopub.execute_input": "2023-04-24T03:07:32.837005Z",
     "iopub.status.busy": "2023-04-24T03:07:32.836583Z",
     "iopub.status.idle": "2023-04-24T03:07:32.843774Z",
     "shell.execute_reply": "2023-04-24T03:07:32.842521Z"
    },
    "papermill": {
     "duration": 0.021038,
     "end_time": "2023-04-24T03:07:32.846021",
     "exception": false,
     "start_time": "2023-04-24T03:07:32.824983",
     "status": "completed"
    },
    "tags": []
   },
   "outputs": [
    {
     "data": {
      "text/plain": [
       "5"
      ]
     },
     "execution_count": 23,
     "metadata": {},
     "output_type": "execute_result"
    }
   ],
   "source": [
    "np.argmax(some_digit_scores)"
   ]
  },
  {
   "cell_type": "code",
   "execution_count": 24,
   "id": "d2807294",
   "metadata": {
    "execution": {
     "iopub.execute_input": "2023-04-24T03:07:32.869186Z",
     "iopub.status.busy": "2023-04-24T03:07:32.868720Z",
     "iopub.status.idle": "2023-04-24T03:07:32.876117Z",
     "shell.execute_reply": "2023-04-24T03:07:32.874868Z"
    },
    "papermill": {
     "duration": 0.021801,
     "end_time": "2023-04-24T03:07:32.878629",
     "exception": false,
     "start_time": "2023-04-24T03:07:32.856828",
     "status": "completed"
    },
    "tags": []
   },
   "outputs": [
    {
     "data": {
      "text/plain": [
       "array([0, 1, 2, 3, 4, 5, 6, 7, 8, 9], dtype=uint8)"
      ]
     },
     "execution_count": 24,
     "metadata": {},
     "output_type": "execute_result"
    }
   ],
   "source": [
    "svm_clf.classes_"
   ]
  },
  {
   "cell_type": "code",
   "execution_count": 25,
   "id": "1b8d2e50",
   "metadata": {
    "execution": {
     "iopub.execute_input": "2023-04-24T03:07:32.901502Z",
     "iopub.status.busy": "2023-04-24T03:07:32.900603Z",
     "iopub.status.idle": "2023-04-24T03:07:32.908332Z",
     "shell.execute_reply": "2023-04-24T03:07:32.907126Z"
    },
    "papermill": {
     "duration": 0.021801,
     "end_time": "2023-04-24T03:07:32.910707",
     "exception": false,
     "start_time": "2023-04-24T03:07:32.888906",
     "status": "completed"
    },
    "tags": []
   },
   "outputs": [
    {
     "data": {
      "text/plain": [
       "5"
      ]
     },
     "execution_count": 25,
     "metadata": {},
     "output_type": "execute_result"
    }
   ],
   "source": [
    "svm_clf.classes_[5]"
   ]
  },
  {
   "cell_type": "code",
   "execution_count": 26,
   "id": "c48341d2",
   "metadata": {
    "execution": {
     "iopub.execute_input": "2023-04-24T03:07:32.933669Z",
     "iopub.status.busy": "2023-04-24T03:07:32.932893Z",
     "iopub.status.idle": "2023-04-24T03:10:10.308241Z",
     "shell.execute_reply": "2023-04-24T03:10:10.306850Z"
    },
    "papermill": {
     "duration": 157.398107,
     "end_time": "2023-04-24T03:10:10.319086",
     "exception": false,
     "start_time": "2023-04-24T03:07:32.920979",
     "status": "completed"
    },
    "tags": []
   },
   "outputs": [
    {
     "data": {
      "text/plain": [
       "array([0.11277744, 0.11281128, 0.11251125])"
      ]
     },
     "execution_count": 26,
     "metadata": {},
     "output_type": "execute_result"
    }
   ],
   "source": [
    "from sklearn.model_selection import cross_val_score\n",
    "svm_scores = cross_val_score(svm_clf, X_train[:10000], y_train[:10000], cv=3, scoring='accuracy')\n",
    "svm_scores"
   ]
  },
  {
   "cell_type": "markdown",
   "id": "9c1535ab",
   "metadata": {
    "papermill": {
     "duration": 0.010016,
     "end_time": "2023-04-24T03:10:10.339683",
     "exception": false,
     "start_time": "2023-04-24T03:10:10.329667",
     "status": "completed"
    },
    "tags": []
   },
   "source": [
    "#### Precision and Recall"
   ]
  }
 ],
 "metadata": {
  "kernelspec": {
   "display_name": "Python 3",
   "language": "python",
   "name": "python3"
  },
  "language_info": {
   "codemirror_mode": {
    "name": "ipython",
    "version": 3
   },
   "file_extension": ".py",
   "mimetype": "text/x-python",
   "name": "python",
   "nbconvert_exporter": "python",
   "pygments_lexer": "ipython3",
   "version": "3.7.12"
  },
  "papermill": {
   "default_parameters": {},
   "duration": 400.08955,
   "end_time": "2023-04-24T03:10:11.381981",
   "environment_variables": {},
   "exception": null,
   "input_path": "__notebook__.ipynb",
   "output_path": "__notebook__.ipynb",
   "parameters": {},
   "start_time": "2023-04-24T03:03:31.292431",
   "version": "2.3.4"
  }
 },
 "nbformat": 4,
 "nbformat_minor": 5
}
