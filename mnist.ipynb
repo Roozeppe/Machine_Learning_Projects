{
 "cells": [
  {
   "cell_type": "code",
   "execution_count": 1,
   "id": "3c13a41e",
   "metadata": {
    "_cell_guid": "b1076dfc-b9ad-4769-8c92-a6c4dae69d19",
    "_uuid": "8f2839f25d086af736a60e9eeb907d3b93b6e0e5",
    "execution": {
     "iopub.execute_input": "2023-04-26T00:03:42.762455Z",
     "iopub.status.busy": "2023-04-26T00:03:42.761976Z",
     "iopub.status.idle": "2023-04-26T00:03:42.774567Z",
     "shell.execute_reply": "2023-04-26T00:03:42.773444Z"
    },
    "papermill": {
     "duration": 0.024906,
     "end_time": "2023-04-26T00:03:42.777411",
     "exception": false,
     "start_time": "2023-04-26T00:03:42.752505",
     "status": "completed"
    },
    "tags": []
   },
   "outputs": [],
   "source": [
    "# This Python 3 environment comes with many helpful analytics libraries installed\n",
    "# It is defined by the kaggle/python Docker image: https://github.com/kaggle/docker-python\n",
    "# For example, here's several helpful packages to load\n",
    "\n",
    "import numpy as np # linear algebra\n",
    "import pandas as pd # data processing, CSV file I/O (e.g. pd.read_csv)\n",
    "\n",
    "# Input data files are available in the read-only \"../input/\" directory\n",
    "# For example, running this (by clicking run or pressing Shift+Enter) will list all files under the input directory\n",
    "\n",
    "import os\n",
    "for dirname, _, filenames in os.walk('/kaggle/input'):\n",
    "    for filename in filenames:\n",
    "        print(os.path.join(dirname, filename))\n",
    "\n",
    "# You can write up to 20GB to the current directory (/kaggle/working/) that gets preserved as output when you create a version using \"Save & Run All\" \n",
    "# You can also write temporary files to /kaggle/temp/, but they won't be saved outside of the current session"
   ]
  },
  {
   "cell_type": "markdown",
   "id": "492b7321",
   "metadata": {
    "papermill": {
     "duration": 0.006321,
     "end_time": "2023-04-26T00:03:42.790986",
     "exception": false,
     "start_time": "2023-04-26T00:03:42.784665",
     "status": "completed"
    },
    "tags": []
   },
   "source": [
    "### 1. Frame the problem and look at the big picture\n"
   ]
  },
  {
   "cell_type": "markdown",
   "id": "1af5a092",
   "metadata": {
    "papermill": {
     "duration": 0.006,
     "end_time": "2023-04-26T00:03:42.803256",
     "exception": false,
     "start_time": "2023-04-26T00:03:42.797256",
     "status": "completed"
    },
    "tags": []
   },
   "source": [
    "How to idientify handwritten digits?"
   ]
  },
  {
   "cell_type": "markdown",
   "id": "7327fca3",
   "metadata": {
    "papermill": {
     "duration": 0.006756,
     "end_time": "2023-04-26T00:03:42.816711",
     "exception": false,
     "start_time": "2023-04-26T00:03:42.809955",
     "status": "completed"
    },
    "tags": []
   },
   "source": [
    "### 2. Get the Data"
   ]
  },
  {
   "cell_type": "code",
   "execution_count": 2,
   "id": "06895c33",
   "metadata": {
    "execution": {
     "iopub.execute_input": "2023-04-26T00:03:42.830855Z",
     "iopub.status.busy": "2023-04-26T00:03:42.830432Z",
     "iopub.status.idle": "2023-04-26T00:04:14.383011Z",
     "shell.execute_reply": "2023-04-26T00:04:14.381755Z"
    },
    "papermill": {
     "duration": 31.569271,
     "end_time": "2023-04-26T00:04:14.392257",
     "exception": false,
     "start_time": "2023-04-26T00:03:42.822986",
     "status": "completed"
    },
    "tags": []
   },
   "outputs": [
    {
     "data": {
      "text/plain": [
       "dict_keys(['data', 'target', 'frame', 'categories', 'feature_names', 'target_names', 'DESCR', 'details', 'url'])"
      ]
     },
     "execution_count": 2,
     "metadata": {},
     "output_type": "execute_result"
    }
   ],
   "source": [
    "from sklearn.datasets import fetch_openml\n",
    "mnist = fetch_openml('mnist_784', version=1, as_frame=False)\n",
    "mnist.keys()"
   ]
  },
  {
   "cell_type": "markdown",
   "id": "8ac775df",
   "metadata": {
    "papermill": {
     "duration": 0.005902,
     "end_time": "2023-04-26T00:04:14.404664",
     "exception": false,
     "start_time": "2023-04-26T00:04:14.398762",
     "status": "completed"
    },
    "tags": []
   },
   "source": [
    "### 3. Explore the data to gain insights"
   ]
  },
  {
   "cell_type": "code",
   "execution_count": 3,
   "id": "2ce36858",
   "metadata": {
    "execution": {
     "iopub.execute_input": "2023-04-26T00:04:14.420747Z",
     "iopub.status.busy": "2023-04-26T00:04:14.419571Z",
     "iopub.status.idle": "2023-04-26T00:04:14.426967Z",
     "shell.execute_reply": "2023-04-26T00:04:14.425595Z"
    },
    "papermill": {
     "duration": 0.017719,
     "end_time": "2023-04-26T00:04:14.429268",
     "exception": false,
     "start_time": "2023-04-26T00:04:14.411549",
     "status": "completed"
    },
    "tags": []
   },
   "outputs": [
    {
     "name": "stdout",
     "output_type": "stream",
     "text": [
      "**Author**: Yann LeCun, Corinna Cortes, Christopher J.C. Burges  \n",
      "**Source**: [MNIST Website](http://yann.lecun.com/exdb/mnist/) - Date unknown  \n",
      "**Please cite**:  \n",
      "\n",
      "The MNIST database of handwritten digits with 784 features, raw data available at: http://yann.lecun.com/exdb/mnist/. It can be split in a training set of the first 60,000 examples, and a test set of 10,000 examples  \n",
      "\n",
      "It is a subset of a larger set available from NIST. The digits have been size-normalized and centered in a fixed-size image. It is a good database for people who want to try learning techniques and pattern recognition methods on real-world data while spending minimal efforts on preprocessing and formatting. The original black and white (bilevel) images from NIST were size normalized to fit in a 20x20 pixel box while preserving their aspect ratio. The resulting images contain grey levels as a result of the anti-aliasing technique used by the normalization algorithm. the images were centered in a 28x28 image by computing the center of mass of the pixels, and translating the image so as to position this point at the center of the 28x28 field.  \n",
      "\n",
      "With some classification methods (particularly template-based methods, such as SVM and K-nearest neighbors), the error rate improves when the digits are centered by bounding box rather than center of mass. If you do this kind of pre-processing, you should report it in your publications. The MNIST database was constructed from NIST's NIST originally designated SD-3 as their training set and SD-1 as their test set. However, SD-3 is much cleaner and easier to recognize than SD-1. The reason for this can be found on the fact that SD-3 was collected among Census Bureau employees, while SD-1 was collected among high-school students. Drawing sensible conclusions from learning experiments requires that the result be independent of the choice of training set and test among the complete set of samples. Therefore it was necessary to build a new database by mixing NIST's datasets.  \n",
      "\n",
      "The MNIST training set is composed of 30,000 patterns from SD-3 and 30,000 patterns from SD-1. Our test set was composed of 5,000 patterns from SD-3 and 5,000 patterns from SD-1. The 60,000 pattern training set contained examples from approximately 250 writers. We made sure that the sets of writers of the training set and test set were disjoint. SD-1 contains 58,527 digit images written by 500 different writers. In contrast to SD-3, where blocks of data from each writer appeared in sequence, the data in SD-1 is scrambled. Writer identities for SD-1 is available and we used this information to unscramble the writers. We then split SD-1 in two: characters written by the first 250 writers went into our new training set. The remaining 250 writers were placed in our test set. Thus we had two sets with nearly 30,000 examples each. The new training set was completed with enough examples from SD-3, starting at pattern # 0, to make a full set of 60,000 training patterns. Similarly, the new test set was completed with SD-3 examples starting at pattern # 35,000 to make a full set with 60,000 test patterns. Only a subset of 10,000 test images (5,000 from SD-1 and 5,000 from SD-3) is available on this site. The full 60,000 sample training set is available.\n",
      "\n",
      "Downloaded from openml.org.\n"
     ]
    }
   ],
   "source": [
    "print(mnist.DESCR)"
   ]
  },
  {
   "cell_type": "code",
   "execution_count": 4,
   "id": "11094e54",
   "metadata": {
    "execution": {
     "iopub.execute_input": "2023-04-26T00:04:14.444789Z",
     "iopub.status.busy": "2023-04-26T00:04:14.443643Z",
     "iopub.status.idle": "2023-04-26T00:04:14.450805Z",
     "shell.execute_reply": "2023-04-26T00:04:14.449909Z"
    },
    "papermill": {
     "duration": 0.017173,
     "end_time": "2023-04-26T00:04:14.452950",
     "exception": false,
     "start_time": "2023-04-26T00:04:14.435777",
     "status": "completed"
    },
    "tags": []
   },
   "outputs": [
    {
     "data": {
      "text/plain": [
       "(70000, 784)"
      ]
     },
     "execution_count": 4,
     "metadata": {},
     "output_type": "execute_result"
    }
   ],
   "source": [
    "# Capture the data and target into X, y variables respectively.\n",
    "X, y = mnist.data, mnist.target\n",
    "X.shape"
   ]
  },
  {
   "cell_type": "code",
   "execution_count": 5,
   "id": "73dd69c1",
   "metadata": {
    "execution": {
     "iopub.execute_input": "2023-04-26T00:04:14.469006Z",
     "iopub.status.busy": "2023-04-26T00:04:14.468199Z",
     "iopub.status.idle": "2023-04-26T00:04:14.475815Z",
     "shell.execute_reply": "2023-04-26T00:04:14.474452Z"
    },
    "papermill": {
     "duration": 0.018572,
     "end_time": "2023-04-26T00:04:14.478165",
     "exception": false,
     "start_time": "2023-04-26T00:04:14.459593",
     "status": "completed"
    },
    "tags": []
   },
   "outputs": [
    {
     "data": {
      "text/plain": [
       "array([[0., 0., 0., ..., 0., 0., 0.],\n",
       "       [0., 0., 0., ..., 0., 0., 0.],\n",
       "       [0., 0., 0., ..., 0., 0., 0.],\n",
       "       ...,\n",
       "       [0., 0., 0., ..., 0., 0., 0.],\n",
       "       [0., 0., 0., ..., 0., 0., 0.],\n",
       "       [0., 0., 0., ..., 0., 0., 0.]])"
      ]
     },
     "execution_count": 5,
     "metadata": {},
     "output_type": "execute_result"
    }
   ],
   "source": [
    "X"
   ]
  },
  {
   "cell_type": "code",
   "execution_count": 6,
   "id": "74b9525b",
   "metadata": {
    "execution": {
     "iopub.execute_input": "2023-04-26T00:04:14.493326Z",
     "iopub.status.busy": "2023-04-26T00:04:14.492901Z",
     "iopub.status.idle": "2023-04-26T00:04:14.499619Z",
     "shell.execute_reply": "2023-04-26T00:04:14.498538Z"
    },
    "papermill": {
     "duration": 0.017144,
     "end_time": "2023-04-26T00:04:14.502114",
     "exception": false,
     "start_time": "2023-04-26T00:04:14.484970",
     "status": "completed"
    },
    "tags": []
   },
   "outputs": [
    {
     "data": {
      "text/plain": [
       "(70000,)"
      ]
     },
     "execution_count": 6,
     "metadata": {},
     "output_type": "execute_result"
    }
   ],
   "source": [
    "y.shape"
   ]
  },
  {
   "cell_type": "code",
   "execution_count": 7,
   "id": "8e87363c",
   "metadata": {
    "execution": {
     "iopub.execute_input": "2023-04-26T00:04:14.518269Z",
     "iopub.status.busy": "2023-04-26T00:04:14.517400Z",
     "iopub.status.idle": "2023-04-26T00:04:14.525129Z",
     "shell.execute_reply": "2023-04-26T00:04:14.523904Z"
    },
    "papermill": {
     "duration": 0.018391,
     "end_time": "2023-04-26T00:04:14.527655",
     "exception": false,
     "start_time": "2023-04-26T00:04:14.509264",
     "status": "completed"
    },
    "tags": []
   },
   "outputs": [
    {
     "data": {
      "text/plain": [
       "array(['5', '0', '4', ..., '4', '5', '6'], dtype=object)"
      ]
     },
     "execution_count": 7,
     "metadata": {},
     "output_type": "execute_result"
    }
   ],
   "source": [
    "y"
   ]
  },
  {
   "cell_type": "code",
   "execution_count": 8,
   "id": "828db598",
   "metadata": {
    "execution": {
     "iopub.execute_input": "2023-04-26T00:04:14.543325Z",
     "iopub.status.busy": "2023-04-26T00:04:14.542898Z",
     "iopub.status.idle": "2023-04-26T00:04:14.549374Z",
     "shell.execute_reply": "2023-04-26T00:04:14.548440Z"
    },
    "papermill": {
     "duration": 0.016815,
     "end_time": "2023-04-26T00:04:14.551641",
     "exception": false,
     "start_time": "2023-04-26T00:04:14.534826",
     "status": "completed"
    },
    "tags": []
   },
   "outputs": [
    {
     "data": {
      "text/plain": [
       "'5'"
      ]
     },
     "execution_count": 8,
     "metadata": {},
     "output_type": "execute_result"
    }
   ],
   "source": [
    "y[0]"
   ]
  },
  {
   "cell_type": "code",
   "execution_count": 9,
   "id": "9ecf4f7b",
   "metadata": {
    "execution": {
     "iopub.execute_input": "2023-04-26T00:04:14.568449Z",
     "iopub.status.busy": "2023-04-26T00:04:14.567734Z",
     "iopub.status.idle": "2023-04-26T00:04:14.578450Z",
     "shell.execute_reply": "2023-04-26T00:04:14.577538Z"
    },
    "papermill": {
     "duration": 0.022455,
     "end_time": "2023-04-26T00:04:14.581135",
     "exception": false,
     "start_time": "2023-04-26T00:04:14.558680",
     "status": "completed"
    },
    "tags": []
   },
   "outputs": [],
   "source": [
    "y = y.astype(np.uint8)"
   ]
  },
  {
   "cell_type": "markdown",
   "id": "1db291b3",
   "metadata": {
    "papermill": {
     "duration": 0.006746,
     "end_time": "2023-04-26T00:04:14.595611",
     "exception": false,
     "start_time": "2023-04-26T00:04:14.588865",
     "status": "completed"
    },
    "tags": []
   },
   "source": [
    "### 4. Prepare the data to better expose the underlying data patterns to Machine Learning algorithms"
   ]
  },
  {
   "cell_type": "code",
   "execution_count": 10,
   "id": "cf6ec4a7",
   "metadata": {
    "execution": {
     "iopub.execute_input": "2023-04-26T00:04:14.612872Z",
     "iopub.status.busy": "2023-04-26T00:04:14.612073Z",
     "iopub.status.idle": "2023-04-26T00:04:14.616950Z",
     "shell.execute_reply": "2023-04-26T00:04:14.616045Z"
    },
    "papermill": {
     "duration": 0.016176,
     "end_time": "2023-04-26T00:04:14.619291",
     "exception": false,
     "start_time": "2023-04-26T00:04:14.603115",
     "status": "completed"
    },
    "tags": []
   },
   "outputs": [],
   "source": [
    "# Split the data into a train and a test set.\n",
    "X_train, X_test, y_train, y_test = X[:60000], X[60000:], y[:60000], y[60000:]"
   ]
  },
  {
   "cell_type": "markdown",
   "id": "75e6a2e4",
   "metadata": {
    "papermill": {
     "duration": 0.011593,
     "end_time": "2023-04-26T00:04:14.637985",
     "exception": false,
     "start_time": "2023-04-26T00:04:14.626392",
     "status": "completed"
    },
    "tags": []
   },
   "source": [
    "### 5. Explore many different models and short-list the best ones"
   ]
  },
  {
   "cell_type": "markdown",
   "id": "73b0ac30",
   "metadata": {
    "papermill": {
     "duration": 0.007777,
     "end_time": "2023-04-26T00:04:14.654841",
     "exception": false,
     "start_time": "2023-04-26T00:04:14.647064",
     "status": "completed"
    },
    "tags": []
   },
   "source": [
    "#### Stochastic Gradient Descent classifier"
   ]
  },
  {
   "cell_type": "code",
   "execution_count": 11,
   "id": "818bfc93",
   "metadata": {
    "execution": {
     "iopub.execute_input": "2023-04-26T00:04:14.672599Z",
     "iopub.status.busy": "2023-04-26T00:04:14.671820Z",
     "iopub.status.idle": "2023-04-26T00:08:03.874708Z",
     "shell.execute_reply": "2023-04-26T00:08:03.872967Z"
    },
    "papermill": {
     "duration": 229.221864,
     "end_time": "2023-04-26T00:08:03.884083",
     "exception": false,
     "start_time": "2023-04-26T00:04:14.662219",
     "status": "completed"
    },
    "tags": []
   },
   "outputs": [
    {
     "data": {
      "text/plain": [
       "SGDClassifier(random_state=51)"
      ]
     },
     "execution_count": 11,
     "metadata": {},
     "output_type": "execute_result"
    }
   ],
   "source": [
    "from sklearn.linear_model import SGDClassifier\n",
    "sgd_clf = SGDClassifier(max_iter=1000, tol=1e-3, random_state=51)\n",
    "sgd_clf.fit(X_train, y_train)"
   ]
  },
  {
   "cell_type": "markdown",
   "id": "78e2c4df",
   "metadata": {
    "papermill": {
     "duration": 0.006751,
     "end_time": "2023-04-26T00:08:03.897791",
     "exception": false,
     "start_time": "2023-04-26T00:08:03.891040",
     "status": "completed"
    },
    "tags": []
   },
   "source": [
    "#### Support Vector Mchine classifier"
   ]
  },
  {
   "cell_type": "code",
   "execution_count": 12,
   "id": "9e0733c2",
   "metadata": {
    "execution": {
     "iopub.execute_input": "2023-04-26T00:08:03.914460Z",
     "iopub.status.busy": "2023-04-26T00:08:03.914035Z",
     "iopub.status.idle": "2023-04-26T00:09:24.597100Z",
     "shell.execute_reply": "2023-04-26T00:09:24.595735Z"
    },
    "papermill": {
     "duration": 80.701345,
     "end_time": "2023-04-26T00:09:24.606905",
     "exception": false,
     "start_time": "2023-04-26T00:08:03.905560",
     "status": "completed"
    },
    "tags": []
   },
   "outputs": [
    {
     "data": {
      "text/plain": [
       "SVC(gamma='auto', random_state=51)"
      ]
     },
     "execution_count": 12,
     "metadata": {},
     "output_type": "execute_result"
    }
   ],
   "source": [
    "from sklearn.svm import SVC\n",
    "\n",
    "svm_clf = SVC(gamma='auto', random_state=51)\n",
    "svm_clf.fit(X_train[:10000], y_train[:10000])"
   ]
  },
  {
   "cell_type": "markdown",
   "id": "b619074f",
   "metadata": {
    "papermill": {
     "duration": 0.006888,
     "end_time": "2023-04-26T00:09:24.620882",
     "exception": false,
     "start_time": "2023-04-26T00:09:24.613994",
     "status": "completed"
    },
    "tags": []
   },
   "source": [
    "#### K-nearest neighbors (KNN) classifier"
   ]
  },
  {
   "cell_type": "code",
   "execution_count": 13,
   "id": "d9839170",
   "metadata": {
    "execution": {
     "iopub.execute_input": "2023-04-26T00:09:24.638364Z",
     "iopub.status.busy": "2023-04-26T00:09:24.637925Z",
     "iopub.status.idle": "2023-04-26T00:09:24.914421Z",
     "shell.execute_reply": "2023-04-26T00:09:24.913216Z"
    },
    "papermill": {
     "duration": 0.288511,
     "end_time": "2023-04-26T00:09:24.916922",
     "exception": false,
     "start_time": "2023-04-26T00:09:24.628411",
     "status": "completed"
    },
    "tags": []
   },
   "outputs": [
    {
     "data": {
      "text/plain": [
       "KNeighborsClassifier(n_neighbors=4, weights='distance')"
      ]
     },
     "execution_count": 13,
     "metadata": {},
     "output_type": "execute_result"
    }
   ],
   "source": [
    "from sklearn.neighbors import KNeighborsClassifier\n",
    "knn_clf = KNeighborsClassifier(weights='distance', n_neighbors=4)\n",
    "knn_clf.fit(X_train, y_train)"
   ]
  },
  {
   "cell_type": "markdown",
   "id": "5c3c201f",
   "metadata": {
    "papermill": {
     "duration": 0.007016,
     "end_time": "2023-04-26T00:09:24.931447",
     "exception": false,
     "start_time": "2023-04-26T00:09:24.924431",
     "status": "completed"
    },
    "tags": []
   },
   "source": [
    "#### Performance Measures\n"
   ]
  },
  {
   "cell_type": "markdown",
   "id": "29c2f6a5",
   "metadata": {
    "papermill": {
     "duration": 0.007105,
     "end_time": "2023-04-26T00:09:24.946497",
     "exception": false,
     "start_time": "2023-04-26T00:09:24.939392",
     "status": "completed"
    },
    "tags": []
   },
   "source": [
    "#### Cross-validation predictions"
   ]
  },
  {
   "cell_type": "code",
   "execution_count": 14,
   "id": "a6f7ac28",
   "metadata": {
    "execution": {
     "iopub.execute_input": "2023-04-26T00:09:24.964893Z",
     "iopub.status.busy": "2023-04-26T00:09:24.964292Z",
     "iopub.status.idle": "2023-04-26T00:09:24.971031Z",
     "shell.execute_reply": "2023-04-26T00:09:24.969731Z"
    },
    "papermill": {
     "duration": 0.019644,
     "end_time": "2023-04-26T00:09:24.973578",
     "exception": false,
     "start_time": "2023-04-26T00:09:24.953934",
     "status": "completed"
    },
    "tags": []
   },
   "outputs": [],
   "source": [
    "from sklearn.model_selection import cross_val_predict"
   ]
  },
  {
   "cell_type": "code",
   "execution_count": 15,
   "id": "36ecb0b2",
   "metadata": {
    "execution": {
     "iopub.execute_input": "2023-04-26T00:09:24.991228Z",
     "iopub.status.busy": "2023-04-26T00:09:24.990824Z",
     "iopub.status.idle": "2023-04-26T00:14:56.179513Z",
     "shell.execute_reply": "2023-04-26T00:14:56.177983Z"
    },
    "papermill": {
     "duration": 331.20355,
     "end_time": "2023-04-26T00:14:56.184590",
     "exception": false,
     "start_time": "2023-04-26T00:09:24.981040",
     "status": "completed"
    },
    "tags": []
   },
   "outputs": [],
   "source": [
    "sgd_pred = cross_val_predict(sgd_clf, X_train, y_train, cv=3)"
   ]
  },
  {
   "cell_type": "code",
   "execution_count": 16,
   "id": "ae7b113a",
   "metadata": {
    "execution": {
     "iopub.execute_input": "2023-04-26T00:14:56.227436Z",
     "iopub.status.busy": "2023-04-26T00:14:56.226681Z",
     "iopub.status.idle": "2023-04-26T00:14:56.261379Z",
     "shell.execute_reply": "2023-04-26T00:14:56.260214Z"
    },
    "papermill": {
     "duration": 0.061613,
     "end_time": "2023-04-26T00:14:56.266017",
     "exception": false,
     "start_time": "2023-04-26T00:14:56.204404",
     "status": "completed"
    },
    "tags": []
   },
   "outputs": [
    {
     "data": {
      "text/plain": [
       "array([[5570,    1,   71,   20,   12,   68,   50,   11,   74,   46],\n",
       "       [   2, 6519,   46,   38,    7,   20,   10,   10,   67,   23],\n",
       "       [  85,   99, 5153,  115,   77,   56,   95,   59,  169,   50],\n",
       "       [  60,   49,  225, 4960,   18,  440,   28,   54,  146,  151],\n",
       "       [  15,   38,   36,   19, 5108,   32,   54,   31,   71,  438],\n",
       "       [  67,   26,   57,  180,   68, 4538,  131,   17,  221,  116],\n",
       "       [  48,   27,   77,    7,   40,  105, 5514,    6,   86,    8],\n",
       "       [  34,   33,   83,   37,  103,   27,    3, 5459,   36,  450],\n",
       "       [  47,  232,  152,  216,   64,  399,   46,   30, 4459,  206],\n",
       "       [  35,   34,   26,   82,  323,   85,    3,  142,   55, 5164]])"
      ]
     },
     "execution_count": 16,
     "metadata": {},
     "output_type": "execute_result"
    }
   ],
   "source": [
    "from sklearn.metrics import confusion_matrix\n",
    "confusion_matrix(y_train, sgd_pred)"
   ]
  }
 ],
 "metadata": {
  "kernelspec": {
   "display_name": "Python 3",
   "language": "python",
   "name": "python3"
  },
  "language_info": {
   "codemirror_mode": {
    "name": "ipython",
    "version": 3
   },
   "file_extension": ".py",
   "mimetype": "text/x-python",
   "name": "python",
   "nbconvert_exporter": "python",
   "pygments_lexer": "ipython3",
   "version": "3.7.12"
  },
  "papermill": {
   "default_parameters": {},
   "duration": 684.83502,
   "end_time": "2023-04-26T00:14:57.112291",
   "environment_variables": {},
   "exception": null,
   "input_path": "__notebook__.ipynb",
   "output_path": "__notebook__.ipynb",
   "parameters": {},
   "start_time": "2023-04-26T00:03:32.277271",
   "version": "2.3.4"
  }
 },
 "nbformat": 4,
 "nbformat_minor": 5
}
